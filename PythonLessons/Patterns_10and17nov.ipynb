{
 "cells": [
  {
   "cell_type": "markdown",
   "id": "e767abdc-3dad-410d-baa3-f4cdbf93cee5",
   "metadata": {},
   "source": [
    "### Паттерны Python"
   ]
  },
  {
   "cell_type": "markdown",
   "id": "f63889cf-ccdf-4282-9a58-188fe789b071",
   "metadata": {},
   "source": [
    "### Предварительные сведения"
   ]
  },
  {
   "cell_type": "markdown",
   "id": "9f82f25a-f312-4335-afc4-9fbabe04aa3d",
   "metadata": {},
   "source": [
    "### @staticmethod "
   ]
  },
  {
   "cell_type": "code",
   "execution_count": 31,
   "id": "493568fd-55f2-4c31-bb11-03509cb7d7ed",
   "metadata": {},
   "outputs": [
    {
     "name": "stdout",
     "output_type": "stream",
     "text": [
      "static method called\n"
     ]
    }
   ],
   "source": [
    "class Myclass():\n",
    "    @staticmethod\n",
    "    def staticmethod():\n",
    "        print('static method called')\n",
    "obj = Myclass()\n",
    "obj.staticmethod()"
   ]
  },
  {
   "cell_type": "markdown",
   "id": "6e611350-fa0d-49a0-9231-a62f45775bd6",
   "metadata": {},
   "source": [
    "### Пример"
   ]
  },
  {
   "cell_type": "code",
   "execution_count": 33,
   "id": "8458a2f8-dd70-4ce1-b4cd-c00206937c06",
   "metadata": {},
   "outputs": [
    {
     "data": {
      "text/plain": [
       "False"
      ]
     },
     "execution_count": 33,
     "metadata": {},
     "output_type": "execute_result"
    }
   ],
   "source": [
    "class Person():\n",
    "    def __init__(self, age):\n",
    "        self.age = age\n",
    "    @staticmethod\n",
    "    def is_adult(age):\n",
    "        if age > 18:\n",
    "            return True\n",
    "        else:\n",
    "            return False\n",
    "\n",
    "    def is_adult2(self):\n",
    "        if self.age > 18:\n",
    "            return True\n",
    "        else:\n",
    "            return False\n",
    "Person.is_adult(20)\n",
    "\n",
    "Misha = Person(15)\n",
    "Misha.is_adult2()"
   ]
  },
  {
   "cell_type": "markdown",
   "id": "263019f3-20c2-4430-95e7-c5ef9bfffbfb",
   "metadata": {},
   "source": [
    "### @classmethod"
   ]
  },
  {
   "cell_type": "markdown",
   "id": "e52f9784-8255-4f3b-ad6a-3d9efa5b6e78",
   "metadata": {},
   "source": [
    "### - Это метод, который привязан не к экземпляру, а к самому классу"
   ]
  },
  {
   "cell_type": "markdown",
   "id": "37d9e664-5b55-4f96-af87-cb9e97225810",
   "metadata": {},
   "source": [
    "### @classmethod используется, когда вам нужно получить методы, не относящиеся к какому-либо конкретному экземпляру, но тем не менее, каким-то образом привязанные к классу. Самое интересное в них то, что их можно переопределить дочерними классами."
   ]
  },
  {
   "cell_type": "code",
   "execution_count": 24,
   "id": "12c5efdd-6b5f-40e2-adfc-612f2eaf6593",
   "metadata": {},
   "outputs": [],
   "source": [
    "class MyClass:\n",
    "    @classmethod\n",
    "    def classmethod(cls):\n",
    "        print('Class method called')"
   ]
  },
  {
   "cell_type": "code",
   "execution_count": 27,
   "id": "6bb8fad3-1a15-4fc1-8ed5-4fa990a97346",
   "metadata": {},
   "outputs": [
    {
     "name": "stdout",
     "output_type": "stream",
     "text": [
      "Total objects:  10\n"
     ]
    }
   ],
   "source": [
    "class MyClass():\n",
    "    TOTAL_OBJECTS=0\n",
    "    def __init__(self):\n",
    "        MyClass.TOTAL_OBJECTS = MyClass.TOTAL_OBJECTS+1\n",
    "       \n",
    "    @classmethod\n",
    "    def total_objects(cls):\n",
    "        print(\"Total objects: \", cls.TOTAL_OBJECTS)\n",
    "        \n",
    "# Создаем объекты родительского класса       \n",
    "my_obj1 = MyClass()\n",
    "my_obj2 = MyClass()\n",
    "\n",
    "# Создаем дочерний класс\n",
    "class ChildClass(MyClass):\n",
    "    TOTAL_OBJECTS=10  \n",
    "    pass\n",
    "ChildClass.total_objects()"
   ]
  },
  {
   "cell_type": "markdown",
   "id": "26c00680-2379-431e-85d9-3f3d84854fd4",
   "metadata": {},
   "source": [
    "### @classmethod используется в суперклассе для определения того, как метод должен вести себя, когда он вызывается разными дочерними классами. В то время как @staticmethod используется, когда мы хотим вернуть одно и то же, независимо от вызываемого дочернего класса.\n",
    "\n",
    "### Также имейте в виду, что вызов @classmethod включает в себя дополнительное выделение памяти, чего нет при вызове @staticmethod или обычной функции."
   ]
  },
  {
   "cell_type": "markdown",
   "id": "b498314f-6e16-4806-9f44-3ff284ae6b44",
   "metadata": {},
   "source": [
    "### Абстрактная фабрика"
   ]
  },
  {
   "cell_type": "markdown",
   "id": "d180fe7e-404f-477a-9cc9-742109d6f251",
   "metadata": {},
   "source": [
    "### Пример 1"
   ]
  },
  {
   "cell_type": "code",
   "execution_count": 1,
   "id": "506d6ca1-1a18-430c-a347-29706f2b955c",
   "metadata": {},
   "outputs": [],
   "source": [
    "from abc import ABCMeta, abstractmethod\n",
    "class AbstractFactory(metaclass=ABCMeta):\n",
    "    \n",
    "    @abstractmethod\n",
    "    def build_sequence(self):\n",
    "        pass\n",
    "\n",
    "    @abstractmethod\n",
    "    def build_number(self, string):\n",
    "        pass"
   ]
  },
  {
   "cell_type": "code",
   "execution_count": 2,
   "id": "81bae55e-2376-420a-88b8-906a793888c4",
   "metadata": {},
   "outputs": [],
   "source": [
    "### Загрузчик"
   ]
  },
  {
   "cell_type": "code",
   "execution_count": 3,
   "id": "04123895-33bd-4485-a7f2-181a7b1b1186",
   "metadata": {},
   "outputs": [],
   "source": [
    "class Loader(object):\n",
    "    def load(string, factory):\n",
    "        sequence = factory.build_sequence()\n",
    "        for substring in string.split(','):\n",
    "            item = factory.build_number(substring)\n",
    "            sequence.append(item)\n",
    "        return sequence"
   ]
  },
  {
   "cell_type": "markdown",
   "id": "06b38827-6547-46ef-9cde-4307a1c04209",
   "metadata": {},
   "source": [
    "### Пример 2"
   ]
  },
  {
   "cell_type": "code",
   "execution_count": 9,
   "id": "bb9634c0-df48-4321-9a9b-8eb064be7f88",
   "metadata": {},
   "outputs": [],
   "source": [
    "class WindowFactory:\n",
    "    @classmethod\n",
    "    def create_window(cls, name):\n",
    "        return cls.Window(name)\n",
    "    @classmethod\n",
    "    def create_button(cls, name):\n",
    "        return cls.Button(name)"
   ]
  },
  {
   "cell_type": "code",
   "execution_count": 6,
   "id": "e0f41753-303c-4185-bb1d-7bc2ad1a5a58",
   "metadata": {},
   "outputs": [],
   "source": [
    "class MacOsFactory(WindowFactory):\n",
    "    class Window:\n",
    "        def __init__(self, name):\n",
    "            self.name = name\n",
    "            self.button = []\n",
    "            self.style = 'Mac Os window style'\n",
    "        def add_button(self, btn):\n",
    "            self.button.append(btn.name)\n",
    "        def show(self):\n",
    "            print( '{} - {} and {}'.format(self.name, self.style, self.button))\n",
    "    class Button:\n",
    "        def __init__(self, name):\n",
    "            self.name = name\n",
    "            self.style = 'Mac Os button style'"
   ]
  },
  {
   "cell_type": "code",
   "execution_count": 7,
   "id": "e250e411-a20c-418d-969d-123424cefa14",
   "metadata": {},
   "outputs": [],
   "source": [
    "class LinuxFactory(WindowFactory):\n",
    "    class Window:\n",
    "        def __init__(self, name):\n",
    "            self.name = name\n",
    "            self.button = []\n",
    "            self.style = 'Ubuntu window style'\n",
    "        def add_button(self, btn):\n",
    "            self.button.append(btn.name)\n",
    "        def show(self):\n",
    "            print( '{} - {} and {}'.format(self.name, self.style, self.button))\n",
    "    class Button:\n",
    "        def __init__(self, name):\n",
    "            self.name = name\n",
    "            self.style = 'Ubuntu button style'"
   ]
  },
  {
   "cell_type": "code",
   "execution_count": 8,
   "id": "e675c233-1143-4ac1-99b5-3e22f7b340a9",
   "metadata": {},
   "outputs": [],
   "source": [
    "### Функция принимает на вход фабрику и уже генерирует соответствующее окно\n",
    "def create_dialog(factory):\n",
    "    wind = factory.create_window('Form1')\n",
    "    button = factory.create_button('Button1')\n",
    "    wind.add_button(button)\n",
    "    return wind"
   ]
  },
  {
   "cell_type": "markdown",
   "id": "86a9dd84-0ba1-4b57-9659-e6e9eb880db9",
   "metadata": {},
   "source": [
    "### Паттерн Прототип"
   ]
  },
  {
   "cell_type": "markdown",
   "id": "35467185-3d78-42ec-b2cc-c324f755c649",
   "metadata": {},
   "source": [
    "### Пример"
   ]
  },
  {
   "cell_type": "code",
   "execution_count": 11,
   "id": "f81d5897-af0e-4941-9396-b14d42375797",
   "metadata": {},
   "outputs": [],
   "source": [
    "import copy\n",
    "\n",
    "class Prototype:\n",
    "\n",
    "    def __init__(self):\n",
    "        self._objects = {}\n",
    "\n",
    "    def register_object(self, name, obj):\n",
    "        \"\"\"Register an object\"\"\"\n",
    "        self._objects[name] = obj\n",
    "\n",
    "    def unregister_object(self, name):\n",
    "        \"\"\"Unregister an object\"\"\"\n",
    "        del self._objects[name]\n",
    "\n",
    "    def clone(self, name, **attr):\n",
    "        \"\"\"Clone a registered object and update inner attributes dictionary\"\"\"\n",
    "        obj = copy.deepcopy(self._objects.get(name))\n",
    "        obj.__dict__.update(attr)\n",
    "        return obj\n",
    "\n",
    "class A:\n",
    "    def __init__(self):\n",
    "        self.x = 3\n",
    "        self.y = 8\n",
    "        self.z = 15\n",
    "        self.garbage = [38, 11, 19]\n",
    "\n",
    "    def __str__(self):\n",
    "        return '{} {} {} {}'.format(self.x, self.y, self.z, self.garbage)\n",
    "\n",
    "def main():\n",
    "    a = A()\n",
    "    prototype = Prototype()\n",
    "    prototype.register_object('objecta', a)\n",
    "    b = prototype.clone('objecta')\n",
    "    c = prototype.clone('objecta', x=1, y=2, garbage=[88, 1])\n",
    "    print([str(i) for i in (a, b, c)])\n",
    "\n",
    "# if __name__ == '__main__':\n",
    "#     main()"
   ]
  },
  {
   "cell_type": "markdown",
   "id": "0c30beb2-4dfe-430d-a635-ebe976be61fa",
   "metadata": {},
   "source": [
    "### Цепочка обязанностей"
   ]
  },
  {
   "cell_type": "code",
   "execution_count": 2,
   "id": "f005ee34-5294-4371-9805-2cfaa3cd69b9",
   "metadata": {},
   "outputs": [
    {
     "name": "stdout",
     "output_type": "stream",
     "text": [
      "added fuel\n",
      "Added oil\n"
     ]
    }
   ],
   "source": [
    "handlers = []\n",
    "\n",
    "def car_handler(func):\n",
    "    handlers.append(func)\n",
    "    return func\n",
    "\n",
    "class Car:\n",
    "    def __init__(self):\n",
    "        self.name = None\n",
    "        self.km = 11100\n",
    "        self.fuel = 5\n",
    "        self.oil = 5\n",
    "\n",
    "@car_handler\n",
    "def handle_fuel(car):\n",
    "    if car.fuel < 10:\n",
    "        print(\"added fuel\")\n",
    "        car.fuel = 100\n",
    "        \n",
    "@car_handler\n",
    "def handle_km(car):\n",
    "    if car.km > 10000:\n",
    "        print(\"made a car test.\")\n",
    "        car.km = 0\n",
    "\n",
    "@car_handler\n",
    "def handle_oil(car):\n",
    "    if car.oil < 10:\n",
    "        print(\"Added oil\")\n",
    "        car.oil = 100\n",
    "\n",
    "class Garage:\n",
    "    def __init__(self, handlers=None):\n",
    "        self.handlers = handlers or []\n",
    "\n",
    "    def add_handler(self, handler):\n",
    "        self.handlers.append(handler)\n",
    "\n",
    "    def handle_car(self, car):\n",
    "        for handler in self.handlers:\n",
    "            handler(car)\n",
    "\n",
    "if __name__ == '__main__':\n",
    "    garage = Garage(handlers)\n",
    "    car = Car()\n",
    "    garage.handle_car(car)"
   ]
  },
  {
   "cell_type": "code",
   "execution_count": 6,
   "id": "dd138b15-147e-418a-8adc-0400be59b6ab",
   "metadata": {},
   "outputs": [
    {
     "name": "stdout",
     "output_type": "stream",
     "text": [
      "Код не обработан\n",
      "Код не обработан\n",
      "Страница не найдена\n",
      "Код не обработан\n",
      "Ошибка сервера\n"
     ]
    }
   ],
   "source": [
    "class HttpHandler(object):\n",
    "    \"\"\"Абстрактный класс обработчика\"\"\"\n",
    "    def handle(self, code):\n",
    "        raise NotImplementedError()\n",
    " \n",
    " \n",
    "class Http404Handler(HttpHandler):\n",
    "    \"\"\"Обработчик для кода 404\"\"\"\n",
    "    def handle(self, code):\n",
    "        if code == 404:\n",
    "            return 'Страница не найдена'\n",
    " \n",
    " \n",
    "class Http500Handler(HttpHandler):\n",
    "    \"\"\"Обработчик для кода 500\"\"\"\n",
    "    def handle(self, code):\n",
    "        if code == 500:\n",
    "            return 'Ошибка сервера'\n",
    " \n",
    " \n",
    "class Client(object):\n",
    "    def __init__(self):\n",
    "        self._handlers = []\n",
    " \n",
    "    def add_handler(self, h):\n",
    "        self._handlers.append(h)\n",
    " \n",
    "    def response(self, code):\n",
    "        for h in self._handlers:\n",
    "            msg = h.handle(code)\n",
    "            if msg:\n",
    "                print(msg)\n",
    "                break\n",
    "            else:\n",
    "                print('Код не обработан')\n",
    " \n",
    "\n",
    "client = Client()\n",
    "client.add_handler(Http404Handler())\n",
    "client.add_handler(Http500Handler())\n",
    "client.response(400)  # Код не обработан\n",
    "client.response(404)  # Ответ: Страница не найдена\n",
    "client.response(500) # Ответ: Ошибка сервера"
   ]
  },
  {
   "cell_type": "markdown",
   "id": "81f396f6-d9f6-4197-9ba9-81c49404c6f8",
   "metadata": {},
   "source": [
    "### Компоновщик"
   ]
  },
  {
   "cell_type": "markdown",
   "id": "53d90414-770f-4592-9f0b-5c9c791357dc",
   "metadata": {},
   "source": [
    "### Пример"
   ]
  },
  {
   "cell_type": "code",
   "execution_count": 7,
   "id": "7d34c802-0833-4bd7-bd45-42e22d8c0c26",
   "metadata": {},
   "outputs": [
    {
     "name": "stdout",
     "output_type": "stream",
     "text": [
      "OUTPUT:\n",
      "рыцарь присоединился к отряду 104268476540\n",
      "\n",
      "рыцарь присоединился к отряду 104268476540\n",
      "\n",
      "лучник присоединился к отряду 104268476540\n",
      "\n",
      "мечник присоединился к отряду 104268476540\n",
      "\n",
      "мечник покинул отряд 104268476540\n",
      "\n",
      "Отряд 104268476540 ( рыцарь рыцарь лучник )\n",
      "мечник присоединился к отряду 104268284938\n",
      "\n",
      "мечник присоединился к отряду 104268284938\n",
      "\n",
      "Отряд 104268476540 ( рыцарь рыцарь лучник )\n",
      "присоединился к отряду 104268284938\n",
      "\n",
      "Отряд 104268284938 ( мечник мечник Отряд 104268476540 ( рыцарь рыцарь лучник )\n",
      ")\n"
     ]
    }
   ],
   "source": [
    "from abc import ABCMeta, abstractmethod\n",
    "\n",
    "\n",
    "class Unit(metaclass=ABCMeta):\n",
    "    \"\"\"\n",
    "    Абстрактный компонент, в данном случае это - отряд (отряд может\n",
    "    состоять из одного солдата или более)\n",
    "    \"\"\"\n",
    "\n",
    "    @abstractmethod\n",
    "    def print(self) -> None:\n",
    "        \"\"\"\n",
    "        Вывод данных о компоненте\n",
    "        \"\"\"\n",
    "        pass\n",
    "\n",
    "\n",
    "class Archer(Unit):\n",
    "    \"\"\"\n",
    "    Лучник\n",
    "    \"\"\"\n",
    "\n",
    "    def print(self) -> None:\n",
    "        print('лучник', end=' ')\n",
    "\n",
    "\n",
    "class Knight(Unit):\n",
    "    \"\"\"\n",
    "    Рыцарь\n",
    "    \"\"\"\n",
    "\n",
    "    def print(self) -> None:\n",
    "        print('рыцарь', end=' ')\n",
    "\n",
    "\n",
    "class Swordsman(Unit):\n",
    "    \"\"\"\n",
    "    Мечник\n",
    "    \"\"\"\n",
    "\n",
    "    def print(self) -> None:\n",
    "        print('мечник', end=' ')\n",
    "\n",
    "\n",
    "class Squad(Unit):\n",
    "    \"\"\"\n",
    "    Компоновщик - отряд, состоящий более чем из одного человека. Также\n",
    "    может включать в себя другие отряды-компоновщики.\n",
    "    \"\"\"\n",
    "\n",
    "    def __init__(self):\n",
    "        self._units = []\n",
    "\n",
    "    def print(self) -> None:\n",
    "        print(\"Отряд {} (\".format(self.__hash__()), end=' ')\n",
    "        for u in self._units:\n",
    "            u.print()\n",
    "        print(')')\n",
    "\n",
    "    def add(self, unit: Unit) -> None:\n",
    "        \"\"\"\n",
    "        Добавление нового отряда\n",
    "        \n",
    "        :param unit: отряд (может быть как базовым, так и компоновщиком)\n",
    "        \"\"\"\n",
    "        self._units.append(unit)\n",
    "        unit.print()\n",
    "        print('присоединился к отряду {}'.format(self.__hash__()))\n",
    "        print()\n",
    "\n",
    "    def remove(self, unit: Unit) -> None:\n",
    "        \"\"\"\n",
    "        Удаление отряда из текущего компоновщика\n",
    "        \n",
    "        :param unit: объект отряда\n",
    "        \"\"\"\n",
    "        for u in self._units:\n",
    "            if u == unit:\n",
    "                self._units.remove(u)\n",
    "                u.print()\n",
    "                print('покинул отряд {}'.format(self.__hash__()))\n",
    "                print()\n",
    "                break\n",
    "        else:\n",
    "            unit.print()\n",
    "            print('в отряде {} не найден'.format(self.__hash__()))\n",
    "            print()\n",
    "\n",
    "\n",
    "if __name__ == '__main__':\n",
    "    print('OUTPUT:')\n",
    "    squad = Squad()\n",
    "    squad.add(Knight())\n",
    "    squad.add(Knight())\n",
    "    squad.add(Archer())\n",
    "    swordsman = Swordsman()\n",
    "    squad.add(swordsman)\n",
    "    squad.remove(swordsman)\n",
    "    squad.print()\n",
    "    squad_big = Squad()\n",
    "    squad_big.add(Swordsman())\n",
    "    squad_big.add(Swordsman())\n",
    "    squad_big.add(squad)\n",
    "    squad_big.print()"
   ]
  },
  {
   "cell_type": "code",
   "execution_count": null,
   "id": "967f0d6e-f133-4b0e-9708-c71f1ae804de",
   "metadata": {},
   "outputs": [],
   "source": []
  }
 ],
 "metadata": {
  "kernelspec": {
   "display_name": "Python 3 (ipykernel)",
   "language": "python",
   "name": "python3"
  },
  "language_info": {
   "codemirror_mode": {
    "name": "ipython",
    "version": 3
   },
   "file_extension": ".py",
   "mimetype": "text/x-python",
   "name": "python",
   "nbconvert_exporter": "python",
   "pygments_lexer": "ipython3",
   "version": "3.9.13"
  }
 },
 "nbformat": 4,
 "nbformat_minor": 5
}
