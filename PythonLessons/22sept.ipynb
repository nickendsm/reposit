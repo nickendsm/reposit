{
 "cells": [
  {
   "cell_type": "markdown",
   "id": "4c67582c-3c1c-4b5c-bdaf-3cbd68147792",
   "metadata": {},
   "source": []
  },
  {
   "cell_type": "markdown",
   "id": "5098040b-89e4-4b31-9955-ce2f8244fca0",
   "metadata": {},
   "source": [
    "# Молодой человек оказался на необитаемом острове. Его коренные жители разговаривают на необычном языке под названием Л.: после каждой гласной буквы они добавляют букву \"л\" и затем эту гласную букву (\"котик\" - \"колотилик\").\n",
    "# а) Реализовать функцию перевода слова с русского языка на язык Л.\n",
    "# б) Реализовать функцию перевода слова с языка Л. на русский язык."
   ]
  },
  {
   "cell_type": "code",
   "execution_count": 53,
   "id": "2db794f7-99a0-48e6-bf02-b5b56cb55923",
   "metadata": {},
   "outputs": [
    {
     "data": {
      "text/plain": [
       "'какаду'"
      ]
     },
     "execution_count": 53,
     "metadata": {},
     "output_type": "execute_result"
    }
   ],
   "source": [
    "vowels = ['а','е', 'ё', 'и', 'о','у','ы', 'э', 'ю', 'я']\n",
    "def toRussian(stroke):\n",
    "    spisok = [] \n",
    "    st = stroke.lower()\n",
    "    i = -1\n",
    "    while i < len(st)-1:\n",
    "        i = i + 1\n",
    "        spisok.append(st[i])\n",
    "        if st[i] in vowels:\n",
    "            if st[i+1] != 'л':\n",
    "                return 'Это не тот язык!'\n",
    "            i = i+2\n",
    "    return ''.join(spisok)\n",
    "toRussian('калакаладулу')\n"
   ]
  },
  {
   "cell_type": "code",
   "execution_count": 55,
   "id": "0aab7f91-d823-4f71-bbcf-98736005a87a",
   "metadata": {},
   "outputs": [
    {
     "data": {
      "text/plain": [
       "'каланналабилис'"
      ]
     },
     "execution_count": 55,
     "metadata": {},
     "output_type": "execute_result"
    }
   ],
   "source": [
    "### теперь обратную функцию \n",
    "def toLala(stroke):\n",
    "    spisok = []\n",
    "    st = stroke.lower()\n",
    "    i = -1\n",
    "    for i in st:\n",
    "        spisok.append(i)\n",
    "        if i in vowels:\n",
    "            spisok.append('л'+i)\n",
    "    return ''.join(spisok)\n",
    "toLala('какаду')\n",
    "toLala('каннабис')"
   ]
  },
  {
   "cell_type": "markdown",
   "id": "95b53580-216f-4daf-9369-016af601033d",
   "metadata": {},
   "source": [
    "# Молодой человек решил провести исследование: как часто встречается в речи та или иная буква. Помогите ему! Подайте на вход стихотворение или отрывок из прозы (2000-3000 символов) и выведете следующие данные:\n",
    "# а) Сколько всего букв в стихотворении или отрывке?\n",
    "# б) Какие три буквы встречаются наиболее часто? Какой процент они составляют от общего числа букв?\n",
    "# По желанию: сравните полученные результаты с результатами исследований, представленными в Интернете."
   ]
  },
  {
   "cell_type": "code",
   "execution_count": 63,
   "id": "b9fe2d0a-f373-495e-93f1-929eaeb90039",
   "metadata": {},
   "outputs": [
    {
     "data": {
      "text/plain": [
       "(9, 'к - 2', 'о - 2', 'л - 1')"
      ]
     },
     "execution_count": 63,
     "metadata": {},
     "output_type": "execute_result"
    }
   ],
   "source": [
    "def str_to_count(stroke):\n",
    "    D = dict()\n",
    "    howmany = 0\n",
    "    st = stroke.lower().replace(' ','')\n",
    "    for i in st:\n",
    "        howmany += 1\n",
    "        if i in D:\n",
    "            D[i] += 1\n",
    "        else:\n",
    "            D[i] = 1\n",
    "    i1 = max(D, key = D.get)\n",
    "    cnt1 = D[i1]\n",
    "    del(D[i1])\n",
    "    i2 = max(D, key = D.get)\n",
    "    cnt2 = D[i2]\n",
    "    del(D[i2])\n",
    "    i3 = max(D, key = D.get)\n",
    "    cnt3 = D[i3]\n",
    "    return (howmany, i1 + ' - ' + str(cnt1), i2 + ' - ' + str(cnt2), i3 + ' - ' + str(cnt3))\n",
    "str_to_count('Колотушка')"
   ]
  },
  {
   "cell_type": "markdown",
   "id": "f6587d5e-7bd5-4df6-aa59-998b5e7677e7",
   "metadata": {},
   "source": [
    "# []                                -->  \"no one likes this\"\n",
    "# [\"Peter\"]                         -->  \"Peter likes this\"\n",
    "# [\"Jacob\", \"Alex\"]                 -->  \"Jacob and Alex like this\"\n",
    "# [\"Max\", \"John\", \"Mark\"]           -->  \"Max, John and Mark like this\"\n",
    "# [\"Alex\", \"Jacob\", \"Mark\", \"Max\"]  -->  \"Alex, Jacob and 2 others like this\""
   ]
  },
  {
   "cell_type": "code",
   "execution_count": 66,
   "id": "2b3a0508-f6ad-4d97-91da-dba554adac8c",
   "metadata": {},
   "outputs": [
    {
     "data": {
      "text/plain": [
       "'jacob, stopa and 3 others like this'"
      ]
     },
     "execution_count": 66,
     "metadata": {},
     "output_type": "execute_result"
    }
   ],
   "source": [
    "\n",
    "def like(l):\n",
    "    if len(l) == 0: \n",
    "        return 'no one likes this'\n",
    "    if len(l) == 1:\n",
    "        return ''.join(l) + 'likes this'\n",
    "    if len(l) > 1:\n",
    "        if len(l) == 2: \n",
    "            return l[0] + ' and ' + l[1] + ' like this'\n",
    "        else:\n",
    "            if (len(l) == 3):\n",
    "                return ', '.join(l[:2]) + ' and ' + l[2] + ' like this'\n",
    "            else:\n",
    "                return ', '.join(l[:2]) + ' and ' + str(len(l) - 2) + ' others like this'\n",
    "listt = ['jacob','stopa','slava','bogdan','stepan']\n",
    "like(listt)"
   ]
  },
  {
   "cell_type": "code",
   "execution_count": 65,
   "id": "98e3ad5d-74f8-49ff-b88c-9a65499b2cec",
   "metadata": {},
   "outputs": [
    {
     "data": {
      "text/plain": [
       "'jacob, stopa and 3 others like this'"
      ]
     },
     "execution_count": 65,
     "metadata": {},
     "output_type": "execute_result"
    }
   ],
   "source": [
    "### попробуем без if\n",
    "\n",
    "def likes(names):\n",
    "    D = {\n",
    "        0: 'No one likes this',\n",
    "        1: '{} likes this',\n",
    "        2: '{} and {} like this',\n",
    "        3: '{}, {} and {} like this',\n",
    "        4: '{}, {} and {others} like this'\n",
    "    }\n",
    "    length = len(names)\n",
    "    # format - метод, подставляющий значения в {}\n",
    "    return D[min(4,length)].format(*names, others = str(length - 2) + ' others')\n",
    "likes(listt)"
   ]
  },
  {
   "cell_type": "markdown",
   "id": "0a4b0b93-e8f2-4b4b-93a9-241869e15ce6",
   "metadata": {},
   "source": [
    "### Попробуем нарисовать ковер Серпинского\n"
   ]
  },
  {
   "cell_type": "code",
   "execution_count": 70,
   "id": "b73b6dc2-aa22-482f-8f01-7e2074e8df4b",
   "metadata": {},
   "outputs": [],
   "source": [
    "# importing necessary modules\n",
    "import numpy as np\n",
    "from PIL import Image\n",
    "  \n",
    "# total number of times the process will be repeated\n",
    "total = 7\n",
    "  \n",
    "# size of the image\n",
    "size = 3**total\n",
    "  \n",
    "# creating an image\n",
    "square = np.empty([size, size, 3], dtype = np.uint8)\n",
    "color = np.array([255, 255, 255], dtype = np.uint8)\n",
    "  \n",
    "# filling it black\n",
    "square.fill(0)\n",
    "  \n",
    "for i in range(0, total + 1):\n",
    "    stepdown = 3**(total - i)\n",
    "    for x in range(0, 3**i):\n",
    "          \n",
    "        # checking for the centremost square\n",
    "        if x % 3 == 1:\n",
    "            for y in range(0, 3**i):\n",
    "                if y % 3 == 1:\n",
    "                      \n",
    "                    # changing its color\n",
    "                    square[y * stepdown:(y + 1)*stepdown, x * stepdown:(x + 1)*stepdown] = color\n",
    "  \n",
    "# saving the image produced\n",
    "save_file = \"sierpinski.jpg\"\n",
    "Image.fromarray(square).save(save_file)\n",
    "  \n",
    "# displaying it in console\n",
    "i = Image.open(\"sierpinski.jpg\")\n",
    "i.show()"
   ]
  },
  {
   "cell_type": "code",
   "execution_count": null,
   "id": "7f02a5db-1c2a-4966-9a10-d0bd75cb5b78",
   "metadata": {},
   "outputs": [],
   "source": []
  }
 ],
 "metadata": {
  "kernelspec": {
   "display_name": "Python 3",
   "language": "python",
   "name": "python3"
  },
  "language_info": {
   "codemirror_mode": {
    "name": "ipython",
    "version": 3
   },
   "file_extension": ".py",
   "mimetype": "text/x-python",
   "name": "python",
   "nbconvert_exporter": "python",
   "pygments_lexer": "ipython3",
   "version": "3.8.10"
  }
 },
 "nbformat": 4,
 "nbformat_minor": 5
}
