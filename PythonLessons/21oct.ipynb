{
 "cells": [
  {
   "cell_type": "markdown",
   "id": "ae6a3b40-adcd-4022-8d91-8bd71dc26295",
   "metadata": {},
   "source": [
    "### ООП"
   ]
  },
  {
   "cell_type": "code",
   "execution_count": 36,
   "id": "60c7a4b6-139e-4e4d-8dd7-2dac57acbe04",
   "metadata": {},
   "outputs": [
    {
     "name": "stdout",
     "output_type": "stream",
     "text": [
      "Имя: oak ,высота: 0.5, возраст: 0\n",
      "Имя: oak ,высота: 1.0, возраст: 1\n"
     ]
    }
   ],
   "source": [
    "class Tree(): ### родительский класс\n",
    "    ### конструктор класса - init, name, height - атрибуты\n",
    "    def __init__(self, name, height):\n",
    "        self.name = name\n",
    "        self.height = height\n",
    "        self.age = 0\n",
    "    ### методы\n",
    "    def info(self):\n",
    "        print('Имя: ' + str(self.name) + ' ,высота: ' + str(self.height) + ', возраст: '+ str(self.age))\n",
    "    def grow(self):\n",
    "        self.age += 1\n",
    "        self.height += 0.5\n",
    "    def __gt__(a,b):\n",
    "        if (a > b):\n",
    "            print(True)\n",
    "        else:\n",
    "            print(False)\n",
    "        \n",
    "tree1 = Tree('oak', 0.5)\n",
    "tree1.info()\n",
    "tree1.grow()\n",
    "tree1.info()"
   ]
  },
  {
   "cell_type": "markdown",
   "id": "effa0085-5041-41bf-9644-c3c123e7d204",
   "metadata": {},
   "source": [
    "### Наследование"
   ]
  },
  {
   "cell_type": "markdown",
   "id": "57e3a16d-703f-4200-be3c-4f58268689a3",
   "metadata": {},
   "source": [
    "### а) Одиночное наследование"
   ]
  },
  {
   "cell_type": "code",
   "execution_count": 15,
   "id": "bf4a64c6-ecd4-4808-ae4f-781806a11f18",
   "metadata": {},
   "outputs": [],
   "source": [
    "class fruit_tree(Tree): ### дочерний класс, а Tree - родительский\n",
    "    def __init__(self, name, height, radius):\n",
    "        super().__init__(name, height)\n",
    "        self.radius = radius\n",
    "    def give_fruit(self):\n",
    "        print('Упал один фрукт')\n",
    "tree2 = fruit_tree('яблоня', 0.5, 0.1)"
   ]
  },
  {
   "cell_type": "code",
   "execution_count": 16,
   "id": "425038bd-68e4-4b63-a997-c3bd95a28b8f",
   "metadata": {},
   "outputs": [
    {
     "name": "stdout",
     "output_type": "stream",
     "text": [
      "Упал один фрукт\n"
     ]
    }
   ],
   "source": [
    "tree2.give_fruit()"
   ]
  },
  {
   "cell_type": "markdown",
   "id": "0fde1f45-d61c-4a7e-a38d-f65c312a41fe",
   "metadata": {},
   "source": [
    "### б) Множественное наследование"
   ]
  },
  {
   "cell_type": "code",
   "execution_count": 19,
   "id": "104068af-4633-4280-a0b5-bcec792980a1",
   "metadata": {},
   "outputs": [],
   "source": [
    "class wild_tree(fruit_tree):\n",
    "    def __init__(self, name, height, radius):\n",
    "        super().__init__(name, height, radius)\n",
    "    def sing_a_song(self):\n",
    "        print('Поет песню')\n",
    "tree3 = wild_tree('липа', 0.5, 0.1)"
   ]
  },
  {
   "cell_type": "code",
   "execution_count": 20,
   "id": "70b6ef43-75c0-47d4-90e3-d0b98faaa364",
   "metadata": {},
   "outputs": [
    {
     "name": "stdout",
     "output_type": "stream",
     "text": [
      "Поет песню\n"
     ]
    }
   ],
   "source": [
    "tree3.sing_a_song()"
   ]
  },
  {
   "cell_type": "markdown",
   "id": "04f0e4ca-3aea-4284-8334-e44b979929f5",
   "metadata": {},
   "source": [
    "### в) Иерархическое наследование"
   ]
  },
  {
   "cell_type": "markdown",
   "id": "aa41dda1-d1aa-4e63-8ff1-ada8f2285c71",
   "metadata": {},
   "source": [
    "### Например: есть родительский класс, от него идут два дочерних класса"
   ]
  },
  {
   "cell_type": "code",
   "execution_count": 22,
   "id": "95ca66e8-9c9c-4d1a-bdd5-8bd6c917ed90",
   "metadata": {},
   "outputs": [],
   "source": [
    "class Tree1(Tree):\n",
    "    def __init__(self, name, height):\n",
    "        super().__init__(name,height)\n",
    "class Tree2(Tree):\n",
    "    def __init__(self, name, height):\n",
    "        super().__init__(name,height)\n",
    "        "
   ]
  },
  {
   "cell_type": "markdown",
   "id": "9b2d68bc-97e4-4b14-b5b7-6f5c7e367f9c",
   "metadata": {},
   "source": [
    "### г) Множественное наследование"
   ]
  },
  {
   "cell_type": "markdown",
   "id": "1a261dc8-0169-404b-9789-a1b61e73fc9a",
   "metadata": {},
   "source": [
    "### дочерний класс наследует несколько родительских"
   ]
  },
  {
   "cell_type": "code",
   "execution_count": 25,
   "id": "f0c5837f-f2c0-49a5-95ab-371700ae84f6",
   "metadata": {},
   "outputs": [
    {
     "name": "stdout",
     "output_type": "stream",
     "text": [
      "B\n"
     ]
    },
    {
     "data": {
      "text/plain": [
       "[__main__.D, __main__.B, __main__.C, __main__.A, object]"
      ]
     },
     "execution_count": 25,
     "metadata": {},
     "output_type": "execute_result"
    }
   ],
   "source": [
    "class A():\n",
    "    def hi(self):\n",
    "        print('A')\n",
    "class B(A):\n",
    "    def hi(self):\n",
    "        print('B')\n",
    "class C(A):\n",
    "    def hi(self):\n",
    "        print('C')\n",
    "class D(B, C):\n",
    "    pass\n",
    "d = D()\n",
    "d.hi()\n",
    "D.mro()"
   ]
  },
  {
   "cell_type": "code",
   "execution_count": 30,
   "id": "6c235694-f5cb-46d6-8065-08f0e247bb2b",
   "metadata": {},
   "outputs": [],
   "source": [
    "class example():\n",
    "    def __init__(self, name):\n",
    "        self.name = name"
   ]
  },
  {
   "cell_type": "code",
   "execution_count": 29,
   "id": "8402a317-8920-46d8-9561-2352ea45d6e9",
   "metadata": {},
   "outputs": [
    {
     "data": {
      "text/plain": [
       "'5'"
      ]
     },
     "execution_count": 29,
     "metadata": {},
     "output_type": "execute_result"
    }
   ],
   "source": [
    "a = 5\n",
    "a.__str__()"
   ]
  },
  {
   "cell_type": "code",
   "execution_count": 34,
   "id": "0c99758c-bd15-4c35-966a-9a3f4bf1afe1",
   "metadata": {},
   "outputs": [
    {
     "data": {
      "text/plain": [
       "True"
      ]
     },
     "execution_count": 34,
     "metadata": {},
     "output_type": "execute_result"
    }
   ],
   "source": [
    "Tree.__eq__(tree1, tree1)"
   ]
  },
  {
   "cell_type": "code",
   "execution_count": 37,
   "id": "c022a852-25b5-440b-9b0b-62144cc76a43",
   "metadata": {},
   "outputs": [
    {
     "name": "stdout",
     "output_type": "stream",
     "text": [
      "False\n"
     ]
    }
   ],
   "source": [
    "Tree.__gt__(1,2)"
   ]
  },
  {
   "cell_type": "markdown",
   "id": "81cfa62e-84f4-436b-854a-bb959756f592",
   "metadata": {},
   "source": [
    "### Полиморфизм"
   ]
  },
  {
   "cell_type": "code",
   "execution_count": 38,
   "id": "ff10106c-49e1-4cc8-9830-4913d9893443",
   "metadata": {},
   "outputs": [],
   "source": [
    "class example1():\n",
    "    def __init__(self, name, height):\n",
    "        self.name = name\n",
    "        self.height = height\n",
    "    def __init__(self, name):\n",
    "        self.name = name"
   ]
  },
  {
   "cell_type": "code",
   "execution_count": 39,
   "id": "1222fe2e-e5df-4711-8abb-f37478ca1051",
   "metadata": {},
   "outputs": [
    {
     "ename": "TypeError",
     "evalue": "__init__() takes 2 positional arguments but 3 were given",
     "output_type": "error",
     "traceback": [
      "\u001b[1;31m---------------------------------------------------------------------------\u001b[0m",
      "\u001b[1;31mTypeError\u001b[0m                                 Traceback (most recent call last)",
      "\u001b[1;32m<ipython-input-39-35ffdcb548e4>\u001b[0m in \u001b[0;36m<module>\u001b[1;34m\u001b[0m\n\u001b[1;32m----> 1\u001b[1;33m \u001b[0mex1\u001b[0m \u001b[1;33m=\u001b[0m \u001b[0mexample1\u001b[0m\u001b[1;33m(\u001b[0m\u001b[1;34m'first'\u001b[0m\u001b[1;33m,\u001b[0m \u001b[1;36m0.5\u001b[0m\u001b[1;33m)\u001b[0m\u001b[1;33m\u001b[0m\u001b[1;33m\u001b[0m\u001b[0m\n\u001b[0m",
      "\u001b[1;31mTypeError\u001b[0m: __init__() takes 2 positional arguments but 3 were given"
     ]
    }
   ],
   "source": [
    "ex1 = example1('first', 0.5)"
   ]
  },
  {
   "cell_type": "code",
   "execution_count": 40,
   "id": "7918e0b6-273c-4138-ac36-b20ae3a65fd0",
   "metadata": {},
   "outputs": [],
   "source": [
    "### полиморфизм через переопределение метода\n",
    "class ex1():\n",
    "    def swim(self):\n",
    "        print('Плавать')\n",
    "class ex2(ex1):\n",
    "    def swim(self):\n",
    "        print('Плавать быстро')\n",
    "example = ex2()"
   ]
  },
  {
   "cell_type": "code",
   "execution_count": 41,
   "id": "f03b218b-3f96-43b7-830b-d2eec86742c5",
   "metadata": {},
   "outputs": [
    {
     "name": "stdout",
     "output_type": "stream",
     "text": [
      "Плавать быстро\n"
     ]
    }
   ],
   "source": [
    "example.swim()"
   ]
  },
  {
   "cell_type": "markdown",
   "id": "b2b64989-0806-4332-b93c-ed4d6d5df65f",
   "metadata": {},
   "source": [
    "### Абстракция"
   ]
  },
  {
   "cell_type": "code",
   "execution_count": null,
   "id": "2fb7029b-9e08-47dd-a5ea-68a27ac51969",
   "metadata": {},
   "outputs": [],
   "source": [
    "from abc import ABC,abstractmethod\n",
    "class employee(ABC):\n",
    "    def emp_id(self,id,name,age,salary):\n",
    "        pass\n",
    "class childemployee1(employee):\n",
    "        def emp_id(self,id):\n",
    "            print(\"emp_id is 12345\")\n",
    "emp1 = childemployee1()\n",
    "emp1.emp_id(id)"
   ]
  },
  {
   "cell_type": "markdown",
   "id": "0d9bc0c9-1c2b-465a-b83b-595b2c264cde",
   "metadata": {},
   "source": [
    "### Инкапсуляция"
   ]
  },
  {
   "cell_type": "code",
   "execution_count": 42,
   "id": "ad4c8bc4-749f-462d-8323-8db067308f96",
   "metadata": {},
   "outputs": [],
   "source": [
    "class example():\n",
    "    def __init__(self):\n",
    "        self.age = 0\n",
    "        self.salary = 1000\n",
    "        self.__work = 'nurse'\n",
    "example1 = example()"
   ]
  },
  {
   "cell_type": "code",
   "execution_count": 43,
   "id": "b5371d97-f748-4f3e-9c58-ed31cc0563ba",
   "metadata": {},
   "outputs": [
    {
     "name": "stdout",
     "output_type": "stream",
     "text": [
      "0\n"
     ]
    }
   ],
   "source": [
    "print(example1.age)"
   ]
  },
  {
   "cell_type": "code",
   "execution_count": 46,
   "id": "e2f57bd8-a566-4b88-becb-fdc65f292339",
   "metadata": {},
   "outputs": [
    {
     "name": "stdout",
     "output_type": "stream",
     "text": [
      "1000\n"
     ]
    },
    {
     "ename": "AttributeError",
     "evalue": "'example' object has no attribute '__work'",
     "output_type": "error",
     "traceback": [
      "\u001b[1;31m---------------------------------------------------------------------------\u001b[0m",
      "\u001b[1;31mAttributeError\u001b[0m                            Traceback (most recent call last)",
      "\u001b[1;32m<ipython-input-46-ea3380edfbb0>\u001b[0m in \u001b[0;36m<module>\u001b[1;34m\u001b[0m\n\u001b[0;32m      1\u001b[0m \u001b[0mprint\u001b[0m\u001b[1;33m(\u001b[0m\u001b[0mexample1\u001b[0m\u001b[1;33m.\u001b[0m\u001b[0msalary\u001b[0m\u001b[1;33m)\u001b[0m\u001b[1;33m\u001b[0m\u001b[1;33m\u001b[0m\u001b[0m\n\u001b[1;32m----> 2\u001b[1;33m \u001b[0mprint\u001b[0m\u001b[1;33m(\u001b[0m\u001b[0mexample1\u001b[0m\u001b[1;33m.\u001b[0m\u001b[0m__work\u001b[0m\u001b[1;33m)\u001b[0m\u001b[1;33m\u001b[0m\u001b[1;33m\u001b[0m\u001b[0m\n\u001b[0m",
      "\u001b[1;31mAttributeError\u001b[0m: 'example' object has no attribute '__work'"
     ]
    }
   ],
   "source": [
    "print(example1.salary)\n",
    "print(example1.__work)"
   ]
  },
  {
   "cell_type": "code",
   "execution_count": 1,
   "id": "74c6621d-80ca-45f7-9d76-24f0c7066826",
   "metadata": {},
   "outputs": [],
   "source": [
    "### У нас нет доступа к __work, поэтому напрямую мы получить его не можем"
   ]
  },
  {
   "cell_type": "markdown",
   "id": "1de8fee4-46f1-4c9e-83a2-54a0b856ee67",
   "metadata": {},
   "source": [
    "### Примеры"
   ]
  },
  {
   "cell_type": "markdown",
   "id": "94e0f39b-a82c-4ff6-9e33-5002a76a354c",
   "metadata": {},
   "source": [
    "### объединение атрибутов"
   ]
  },
  {
   "cell_type": "code",
   "execution_count": 113,
   "id": "7939769d-7a0f-469c-bfa4-24c3a942e406",
   "metadata": {},
   "outputs": [],
   "source": [
    "class car():\n",
    "    def __init__(self, speed, width):\n",
    "        self.speed = speed\n",
    "        self.width = width\n",
    "    def beep(self): \n",
    "        print('Биииииииииииииииип')\n",
    "    def wheel_drop(self):\n",
    "        print('Улетел в кювет')\n",
    "    def add_speed(self):\n",
    "        print('Дали газу')"
   ]
  },
  {
   "cell_type": "code",
   "execution_count": 114,
   "id": "9507f59d-8d08-4966-b90d-e768d5ed636c",
   "metadata": {},
   "outputs": [],
   "source": [
    "class kia():\n",
    "    def __init__(self,length):\n",
    "        self.length = length\n",
    "    def reduce_speed(self):\n",
    "        print('Притормозили')"
   ]
  },
  {
   "cell_type": "code",
   "execution_count": 115,
   "id": "10077ad7-1970-4aa1-9dd1-3557ee63ee88",
   "metadata": {},
   "outputs": [],
   "source": [
    "class mazeratti(car, kia):\n",
    "    def __init__(self, speed, width, length, wheel_radius):\n",
    "        kia.__init__(self,length)\n",
    "        car.__init__(self,speed, width)\n",
    "        self.wheel_radius = wheel_radius\n",
    "    def nitro(self):\n",
    "        print('Включить нитро')"
   ]
  },
  {
   "cell_type": "code",
   "execution_count": 116,
   "id": "e449c9e9-57e7-49fe-8a59-df3d508c8244",
   "metadata": {},
   "outputs": [
    {
     "data": {
      "text/plain": [
       "1.5"
      ]
     },
     "execution_count": 116,
     "metadata": {},
     "output_type": "execute_result"
    }
   ],
   "source": [
    "car1 = mazeratti(300, 1.5, 4, 0.3)\n",
    "car1.width"
   ]
  },
  {
   "cell_type": "markdown",
   "id": "7ec0cd52-ee2e-41d8-9d78-e9ac6edd0ca2",
   "metadata": {},
   "source": [
    "### объединение методов"
   ]
  },
  {
   "cell_type": "code",
   "execution_count": 92,
   "id": "e645b227-2e08-4eaf-bba1-14786f436b83",
   "metadata": {},
   "outputs": [],
   "source": [
    "class car():\n",
    "    def beep(self): \n",
    "        print('Биииииииииииииииип')\n",
    "    def wheel_drop(self):\n",
    "        print('Улетел в кювет')\n",
    "    def add_speed(self):\n",
    "        print('Дали газу')"
   ]
  },
  {
   "cell_type": "code",
   "execution_count": 93,
   "id": "67c1c01e-64e7-4124-88cf-0a8b0edfc78d",
   "metadata": {},
   "outputs": [],
   "source": [
    "class kia():\n",
    "    def reduce_speed(self):\n",
    "        print('Притормозили')\n"
   ]
  },
  {
   "cell_type": "code",
   "execution_count": 94,
   "id": "d593c3d8-5623-4556-9aea-46e9e335fa01",
   "metadata": {},
   "outputs": [],
   "source": [
    "class mazeratti(car, kia):\n",
    "    def nitro(self):\n",
    "        print('Включить нитро')"
   ]
  },
  {
   "cell_type": "code",
   "execution_count": 95,
   "id": "393f0568-03b8-40fd-9bab-47800c63e2c7",
   "metadata": {},
   "outputs": [],
   "source": [
    "car1 = mazeratti()"
   ]
  },
  {
   "cell_type": "code",
   "execution_count": 97,
   "id": "f5460d2b-c696-4195-af64-cf2817e9460c",
   "metadata": {},
   "outputs": [
    {
     "name": "stdout",
     "output_type": "stream",
     "text": [
      "Включить нитро\n",
      "Биииииииииииииииип\n"
     ]
    }
   ],
   "source": [
    "car1.nitro()\n",
    "car1.beep()"
   ]
  },
  {
   "cell_type": "markdown",
   "id": "dafb606a-bd82-406b-8284-ad2ee911d29d",
   "metadata": {},
   "source": [
    "### Как объединить атрибуты классов?"
   ]
  },
  {
   "cell_type": "code",
   "execution_count": null,
   "id": "69d4f8d2-fb0a-4746-94af-54589b50163c",
   "metadata": {},
   "outputs": [],
   "source": []
  }
 ],
 "metadata": {
  "kernelspec": {
   "display_name": "Python 3",
   "language": "python",
   "name": "python3"
  },
  "language_info": {
   "codemirror_mode": {
    "name": "ipython",
    "version": 3
   },
   "file_extension": ".py",
   "mimetype": "text/x-python",
   "name": "python",
   "nbconvert_exporter": "python",
   "pygments_lexer": "ipython3",
   "version": "3.8.10"
  }
 },
 "nbformat": 4,
 "nbformat_minor": 5
}
