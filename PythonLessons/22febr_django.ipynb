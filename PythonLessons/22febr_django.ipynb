{
 "cells": [
  {
   "cell_type": "markdown",
   "id": "566e1e31-0a5e-4c9e-8873-b279284906dc",
   "metadata": {},
   "source": [
    "### Django - фреймворк для веб-программирования на Python "
   ]
  },
  {
   "cell_type": "code",
   "execution_count": 2,
   "id": "8665409a-becf-4af9-b027-89f669a51c6d",
   "metadata": {},
   "outputs": [],
   "source": [
    "from IPython.display import Image\n",
    "from IPython.core.display import HTML \n"
   ]
  },
  {
   "cell_type": "markdown",
   "id": "e10685b1-9548-4a80-b08e-b78764c18217",
   "metadata": {},
   "source": [
    "### Источники:\n",
    "#### https://developer.mozilla.org/ru/docs/Learn/Server-side/Django/Introduction\n",
    "#### https://ru.wikipedia.org/wiki/HTTP\n",
    "#### https://python-scripts.com/requests\n",
    "#### https://vc.ru/selectel/76371-chto-proishodit-kogda-polzovatel-nabiraet-v-brauzere-adres-sayta"
   ]
  },
  {
   "cell_type": "markdown",
   "id": "ee842827-d570-44ee-8936-d9a20fb331cd",
   "metadata": {},
   "source": [
    "#### --------------------------------------"
   ]
  },
  {
   "cell_type": "markdown",
   "id": "9cf6ac67-3d85-4bf8-9bb2-55204975b002",
   "metadata": {},
   "source": [
    "### Предварительные сведения "
   ]
  },
  {
   "cell_type": "markdown",
   "id": "3d0eecdf-6588-4684-91b2-d480ea9594ae",
   "metadata": {},
   "source": [
    "#### API - программный интерфейс приложения\n",
    "#### HTTP request - запрос от клиента серверу\n",
    "#### HTTP response - ответ сервера клиенту\n"
   ]
  },
  {
   "cell_type": "markdown",
   "id": "692daef3-c201-4334-897f-bd6eda3d74db",
   "metadata": {},
   "source": [
    "##### Основным объектом манипуляции в HTTP является ресурс, на который указывает URI (Uniform Resource Identifier) в запросе клиента. Обычно такими ресурсами являются хранящиеся на сервере файлы, но ими могут быть логические объекты или что-то абстрактное. Особенностью протокола HTTP является возможность указать в запросе и ответе способ представления одного и того же ресурса по различным параметрам: формату, кодировке, языку и т. д. (в частности, для этого используется HTTP-заголовок). Именно благодаря возможности указания способа кодирования сообщения клиент и сервер могут обмениваться двоичными данными, хотя данный протокол является текстовым."
   ]
  },
  {
   "cell_type": "code",
   "execution_count": 3,
   "id": "f5a8a53a-f6d6-4eb5-972d-138e01cbac53",
   "metadata": {},
   "outputs": [
    {
     "data": {
      "text/html": [
       "<img src=\"structHTTP.png\"/>"
      ],
      "text/plain": [
       "<IPython.core.display.Image object>"
      ]
     },
     "execution_count": 3,
     "metadata": {},
     "output_type": "execute_result"
    }
   ],
   "source": [
    "Image(url='structHTTP.png')"
   ]
  },
  {
   "cell_type": "code",
   "execution_count": 4,
   "id": "02b548b1-2add-4c3e-8115-285f39697ab9",
   "metadata": {},
   "outputs": [
    {
     "data": {
      "text/html": [
       "<img src=\"structHTTP2.png\"/>"
      ],
      "text/plain": [
       "<IPython.core.display.Image object>"
      ]
     },
     "execution_count": 4,
     "metadata": {},
     "output_type": "execute_result"
    }
   ],
   "source": [
    "Image(url='structHTTP2.png')"
   ]
  },
  {
   "cell_type": "markdown",
   "id": "0079ab0c-5835-4321-b17f-10d247faf46d",
   "metadata": {},
   "source": [
    "#### Стартовая строка ответа сервера имеет следующий формат: HTTP/Версия КодСостояния Пояснение\n",
    "#### HTTP/1.0 200 OK"
   ]
  },
  {
   "cell_type": "markdown",
   "id": "2023cb2e-e15b-48bc-9de4-aef87aa58626",
   "metadata": {},
   "source": [
    "#### Примеры методов: GET, POST, HEAD ... "
   ]
  },
  {
   "cell_type": "markdown",
   "id": "b214522e-2a45-43cd-8732-2918599d03b0",
   "metadata": {},
   "source": [
    "#### Примеры кодов ответа сервера: 200 - Окей, 201 - создал "
   ]
  },
  {
   "cell_type": "code",
   "execution_count": 5,
   "id": "f016a0a8-b014-4b67-943e-0903f41f6077",
   "metadata": {},
   "outputs": [
    {
     "data": {
      "text/html": [
       "<img src=\"Responses.png\"/>"
      ],
      "text/plain": [
       "<IPython.core.display.Image object>"
      ]
     },
     "execution_count": 5,
     "metadata": {},
     "output_type": "execute_result"
    }
   ],
   "source": [
    "Image(url= \"Responses.png\")"
   ]
  },
  {
   "cell_type": "code",
   "execution_count": 6,
   "id": "7eef93f7-552c-4957-b582-41decbcb2ec0",
   "metadata": {},
   "outputs": [
    {
     "data": {
      "text/html": [
       "<img src=\"Headers.png\"/>"
      ],
      "text/plain": [
       "<IPython.core.display.Image object>"
      ]
     },
     "execution_count": 6,
     "metadata": {},
     "output_type": "execute_result"
    }
   ],
   "source": [
    "Image(url='Headers.png')"
   ]
  },
  {
   "cell_type": "code",
   "execution_count": 7,
   "id": "c782ff52-3af6-4e6d-b6db-74dde8513903",
   "metadata": {},
   "outputs": [
    {
     "data": {
      "text/html": [
       "<img src=\"HTTPDialog.png\"/>"
      ],
      "text/plain": [
       "<IPython.core.display.Image object>"
      ]
     },
     "execution_count": 7,
     "metadata": {},
     "output_type": "execute_result"
    }
   ],
   "source": [
    "Image(url='HTTPDialog.png')"
   ]
  },
  {
   "cell_type": "markdown",
   "id": "66501e0f-680c-432b-b52b-c29d1b894205",
   "metadata": {},
   "source": [
    "### Библиотека requests"
   ]
  },
  {
   "cell_type": "code",
   "execution_count": 9,
   "id": "70811f94-b467-45d1-9ba0-d45ea44b8887",
   "metadata": {},
   "outputs": [
    {
     "name": "stdout",
     "output_type": "stream",
     "text": [
      "<Response [200]>\n"
     ]
    }
   ],
   "source": [
    "import requests\n",
    "print(requests.get('https://api.github.com'))\n",
    "# print(requests.get('http://localhost/tests_test/'))"
   ]
  },
  {
   "cell_type": "code",
   "execution_count": 10,
   "id": "668e59d9-41a1-4005-a196-2ca4b121715c",
   "metadata": {},
   "outputs": [
    {
     "name": "stdout",
     "output_type": "stream",
     "text": [
      "Success!\n"
     ]
    }
   ],
   "source": [
    "response = requests.get('https://api.github.com')\n",
    "if response.status_code == 200:\n",
    "    print('Success!')\n",
    "elif response.status_code == 404:\n",
    "    print('Not Found.')"
   ]
  },
  {
   "cell_type": "code",
   "execution_count": 11,
   "id": "615f14d6-8d31-496e-a9b2-4e1226d394a9",
   "metadata": {},
   "outputs": [
    {
     "name": "stdout",
     "output_type": "stream",
     "text": [
      "Success!\n",
      "HTTP error occurred: 404 Client Error: Not Found for url: https://api.github.com/invalid\n"
     ]
    }
   ],
   "source": [
    "import requests\n",
    "from requests.exceptions import HTTPError\n",
    " \n",
    "for url in ['https://api.github.com', 'https://api.github.com/invalid']:\n",
    "    try:\n",
    "        response = requests.get(url)\n",
    " \n",
    "        # если ответ успешен, исключения задействованы не будут\n",
    "        response.raise_for_status()\n",
    "    except HTTPError as http_err:\n",
    "        print(f'HTTP error occurred: {http_err}')  # Python 3.6\n",
    "    except Exception as err:\n",
    "        print(f'Other error occurred: {err}')  # Python 3.6\n",
    "    else:\n",
    "        print('Success!')"
   ]
  },
  {
   "cell_type": "markdown",
   "id": "8685399c-53ea-43af-9fc4-55f01d232ef7",
   "metadata": {},
   "source": [
    "#### Содержимое ответа "
   ]
  },
  {
   "cell_type": "code",
   "execution_count": 29,
   "id": "aaea4213-d54b-4fb8-bc8e-3ab4ff472ad4",
   "metadata": {},
   "outputs": [],
   "source": [
    "response = requests.get('https://vc.ru/selectel/76371-chto-proishodit-kogda-polzovatel-nabiraet-v-brauzere-adres-sayta')\n",
    "response.encoding = 'utf-8'\n",
    "# response.content\n",
    "# response.text\n",
    "# response.headers"
   ]
  },
  {
   "cell_type": "code",
   "execution_count": 32,
   "id": "33ebe5dc-f847-4a92-85b6-00fb7e34e2a3",
   "metadata": {},
   "outputs": [],
   "source": [
    "response = requests.get('http://localhost/tests_test/')\n",
    "# response.text"
   ]
  },
  {
   "cell_type": "markdown",
   "id": "82cd17f6-8dcb-43ac-b6aa-bfe5ab077bf0",
   "metadata": {},
   "source": [
    "#### Запрос "
   ]
  },
  {
   "cell_type": "code",
   "execution_count": 13,
   "id": "10802f5f-5ec9-4510-9ac9-49aa28cac3a1",
   "metadata": {},
   "outputs": [
    {
     "name": "stdout",
     "output_type": "stream",
     "text": [
      "Repository name: grequests\n",
      "Repository description: Requests + Gevent = <3\n"
     ]
    }
   ],
   "source": [
    "# Поиск местонахождения для запросов на GitHub\n",
    "response = requests.get(\n",
    "    'https://api.github.com/search/repositories',\n",
    "    params={'q': 'requests+language:python'},\n",
    ")\n",
    " \n",
    "# Анализ некоторых атрибутов местонахождения запросов\n",
    "json_response = response.json()\n",
    "repository = json_response['items'][0]\n",
    "print(f'Repository name: {repository[\"name\"]}')  # Python 3.6+\n",
    "print(f'Repository description: {repository[\"description\"]}')  # Python 3.6+"
   ]
  },
  {
   "cell_type": "code",
   "execution_count": 14,
   "id": "131e7329-3489-44f6-8369-3f82f810dfd6",
   "metadata": {},
   "outputs": [
    {
     "data": {
      "text/plain": [
       "<Response [200]>"
      ]
     },
     "execution_count": 14,
     "metadata": {},
     "output_type": "execute_result"
    }
   ],
   "source": [
    ">>> requests.post('https://httpbin.org/post', data={'key':'value'})\n",
    ">>> requests.put('https://httpbin.org/put', data={'key':'value'})\n",
    ">>> requests.delete('https://httpbin.org/delete')\n",
    ">>> requests.head('https://httpbin.org/get')\n",
    ">>> requests.patch('https://httpbin.org/patch', data={'key':'value'})\n",
    ">>> requests.options('https://httpbin.org/get')"
   ]
  },
  {
   "cell_type": "code",
   "execution_count": 15,
   "id": "de43128c-bd57-444c-9b46-080cb2229ff5",
   "metadata": {},
   "outputs": [
    {
     "data": {
      "text/html": [
       "<img src=\"HTTP request.png\"/>"
      ],
      "text/plain": [
       "<IPython.core.display.Image object>"
      ]
     },
     "execution_count": 15,
     "metadata": {},
     "output_type": "execute_result"
    }
   ],
   "source": [
    "Image(url= \"HTTP request.png\")"
   ]
  },
  {
   "cell_type": "markdown",
   "id": "a9995cd5-6a54-4e89-b467-0333a566b81c",
   "metadata": {},
   "source": [
    "### URLs: Хотя можно обрабатывать запросы с каждого URL-адреса с помощью одной функции, гораздо удобнее писать отдельную функцию для обработки каждого ресурса. URL-маршрутизатор используется для перенаправления HTTP-запросов в соответствующее представление на основе URL-адреса запроса. Кроме того, URL-маршрутизатор может извлекать данные из URL-адреса в соответствии с заданным шаблоном и передавать их в соответствующую функцию отображения (view) в виде аргументов.\n",
    "### View: View (англ. «отображение») — это функция обработчика запросов, которая получает HTTP-запросы и возвращает ответы. Функция view имеет доступ к данным, необходимым для удовлетворения запросов, и делегирует ответы в шаблоны через модели.\n",
    "### Models: Модели представляют собой объекты Python, которые определяют структуру данных приложения и предоставляют механизмы для управления (добавления, изменения, удаления) и выполнения запросов в базу данных.\n",
    "### Templates: Template (англ. «шаблон») — это текстовый файл, определяющий структуру или разметку страницы (например HTML-страницы), с полями для подстановки, которые используются для вывода актуального содержимого. View может динамически создавать HTML-страницы, используя HTML-шаблоны и заполняя их данными из модели (model). Шаблон может быть использован для определения структуры файлов любых типов, не обязательно HTML."
   ]
  },
  {
   "cell_type": "markdown",
   "id": "2054dbea-15ff-4ec7-8b81-73381a93e04a",
   "metadata": {},
   "source": [
    "#### ------------------------------------"
   ]
  },
  {
   "cell_type": "markdown",
   "id": "5c9ed0c9-7499-4cca-bb77-8660bf89fc14",
   "metadata": {},
   "source": [
    "### Пример сопоставителя в urls.py"
   ]
  },
  {
   "cell_type": "code",
   "execution_count": 16,
   "id": "f1464242-6ece-4d1d-8d39-cf5a57f1e550",
   "metadata": {},
   "outputs": [
    {
     "data": {
      "text/html": [
       "<img src=\"sopost.png\"/>"
      ],
      "text/plain": [
       "<IPython.core.display.Image object>"
      ]
     },
     "execution_count": 16,
     "metadata": {},
     "output_type": "execute_result"
    }
   ],
   "source": [
    "Image(url= \"sopost.png\")"
   ]
  },
  {
   "cell_type": "code",
   "execution_count": 17,
   "id": "e5079e35-4296-44d6-b755-e275bda63c15",
   "metadata": {},
   "outputs": [],
   "source": [
    "## filename: views.py (Django view functions)\n",
    "\n",
    "from django.http import HttpResponse\n",
    "\n",
    "def index(request):\n",
    "    # Получить HttpRequest — параметр запроса\n",
    "    # Выполнить операции, используя информацию из запроса.\n",
    "    # Вернуть HttpResponse\n",
    "    return HttpResponse('Hello from Django!')"
   ]
  },
  {
   "cell_type": "code",
   "execution_count": 21,
   "id": "24531649-af42-45f5-8b42-2add69e10121",
   "metadata": {},
   "outputs": [],
   "source": [
    "# filename: models.py\n",
    "\n",
    "from django.db import models\n",
    "\n",
    "class Team(models.Model):\n",
    "    team_name = models.CharField(max_length=40)\n",
    "\n",
    "    TEAM_LEVELS = (\n",
    "        ('U09', 'Under 09s'),\n",
    "        ('U10', 'Under 10s'),\n",
    "        ('U11', 'Under 11s'),\n",
    "    )\n",
    "    team_level = models.CharField(max_length=3,choices=TEAM_LEVELS,default='U11')\n"
   ]
  },
  {
   "cell_type": "code",
   "execution_count": 42,
   "id": "2ada2ddc-0d34-46e5-b50c-797ba6fd52b8",
   "metadata": {},
   "outputs": [],
   "source": [
    "from django.shortcuts import render\n",
    "from .models import Team\n",
    "\n",
    "def index(request):\n",
    "    list_teams = Team.objects.filter(team_level__exact=\"U09\")\n",
    "    context = {'youngest_teams': list_teams}\n",
    "    return render(request, '/best/index.html', context)"
   ]
  },
  {
   "cell_type": "code",
   "execution_count": 22,
   "id": "49495800-8d43-4edc-9d51-a63ce365aeb4",
   "metadata": {},
   "outputs": [
    {
     "data": {
      "text/html": [
       "<img src=\"shablonhtml.png\"/>"
      ],
      "text/plain": [
       "<IPython.core.display.Image object>"
      ]
     },
     "execution_count": 22,
     "metadata": {},
     "output_type": "execute_result"
    }
   ],
   "source": [
    "Image(url= \"shablonhtml.png\")"
   ]
  },
  {
   "cell_type": "markdown",
   "id": "835e78a3-3b67-4c3c-a7c1-4ce3ce941310",
   "metadata": {},
   "source": [
    "### Собираем проект на django"
   ]
  },
  {
   "cell_type": "code",
   "execution_count": 46,
   "id": "c3f12f0b-a635-46e2-b78b-452d9c2838e2",
   "metadata": {},
   "outputs": [],
   "source": [
    "mkdir django_test\n",
    "cd django_test\n",
    "django-admin startproject mytestsite\n",
    "cd mytestsite\n",
    "python3 manage.py runserver\n",
    "http://127.0.0.1:8000/\n",
    "python3 manage.py startapp catalog\n",
    "'catalog.apps.CatalogConfig' в settings ## регистрация папки в приложении \n",
    "## проверить, настроена ли база данных\n"
   ]
  },
  {
   "cell_type": "code",
   "execution_count": null,
   "id": "969efde6-e325-4e28-96b1-8baae595acaf",
   "metadata": {},
   "outputs": [],
   "source": [
    "## потом это в urls.py\n",
    "from django.urls import include\n",
    "from django.urls import path\n",
    "urlpatterns += [\n",
    "     path('catalog/', include('catalog.urls')),\n",
    "]"
   ]
  },
  {
   "cell_type": "code",
   "execution_count": null,
   "id": "73ca1fb3-e74a-489c-a0de-67a37480c873",
   "metadata": {},
   "outputs": [],
   "source": [
    "## и это \n",
    "# Добавьте URL соотношения, чтобы перенаправить запросы с корневого URL, на URL приложения\n",
    "from django.views.generic import RedirectView\n",
    "urlpatterns += [\n",
    "    path('', RedirectView.as_view(url='/catalog/', permanent=True)),\n",
    "]"
   ]
  },
  {
   "cell_type": "code",
   "execution_count": null,
   "id": "5fbb19d0-bbc0-4c68-a212-04917755e817",
   "metadata": {},
   "outputs": [],
   "source": [
    "# и это \n",
    "# Используйте static() чтобы добавить соотношения для статических файлов\n",
    "# Только на период разработки\n",
    "from django.conf import settings\n",
    "from django.conf.urls.static import static\n",
    "\n",
    "urlpatterns += static(settings.STATIC_URL, document_root=settings.STATIC_ROOT)"
   ]
  },
  {
   "cell_type": "code",
   "execution_count": 24,
   "id": "25c36de7-3f78-48c3-b040-d22ab583dce6",
   "metadata": {},
   "outputs": [],
   "source": [
    "## создать urls.py в catalog со следующим содержимым\n",
    "from django.urls import path\n",
    "from . import views\n",
    "\n",
    "\n",
    "urlpatterns = [\n",
    "\n",
    "]"
   ]
  },
  {
   "cell_type": "code",
   "execution_count": null,
   "id": "a54a8517-ea6d-45ea-819c-806b8240f31a",
   "metadata": {},
   "outputs": [],
   "source": [
    "## запустить миграцию базы данных\n",
    "python3 manage.py makemigrations\n",
    "python3 manage.py migrate"
   ]
  },
  {
   "cell_type": "code",
   "execution_count": null,
   "id": "8050008f-7f42-469e-9886-c05fa92b7ff0",
   "metadata": {},
   "outputs": [],
   "source": [
    "## запуск сервера \n",
    "python3 manage.py runserver"
   ]
  },
  {
   "cell_type": "code",
   "execution_count": 23,
   "id": "e876b97b-b702-4b0f-bb5a-d095f9d23838",
   "metadata": {},
   "outputs": [
    {
     "data": {
      "text/html": [
       "<img src=\"migr_init.png\"/>"
      ],
      "text/plain": [
       "<IPython.core.display.Image object>"
      ]
     },
     "execution_count": 23,
     "metadata": {},
     "output_type": "execute_result"
    }
   ],
   "source": [
    "Image(url= \"migr_init.png\")"
   ]
  },
  {
   "cell_type": "code",
   "execution_count": null,
   "id": "29bfecf9-c635-4f81-a11c-03973f76d3f2",
   "metadata": {},
   "outputs": [],
   "source": []
  }
 ],
 "metadata": {
  "kernelspec": {
   "display_name": "Python 3",
   "language": "python",
   "name": "python3"
  },
  "language_info": {
   "codemirror_mode": {
    "name": "ipython",
    "version": 3
   },
   "file_extension": ".py",
   "mimetype": "text/x-python",
   "name": "python",
   "nbconvert_exporter": "python",
   "pygments_lexer": "ipython3",
   "version": "3.8.10"
  }
 },
 "nbformat": 4,
 "nbformat_minor": 5
}
