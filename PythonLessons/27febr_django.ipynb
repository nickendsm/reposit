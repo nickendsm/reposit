{
 "cells": [
  {
   "cell_type": "markdown",
   "id": "9614a7e2-05dd-4ddf-bf6c-48a348be65e6",
   "metadata": {},
   "source": [
    "### Django - продолжение\n",
    "### Создание моделей"
   ]
  },
  {
   "cell_type": "code",
   "execution_count": 4,
   "id": "2f6fa160-49ec-488b-bc3c-150ad28507e5",
   "metadata": {},
   "outputs": [],
   "source": [
    "from IPython.display import Image\n",
    "from IPython.core.display import HTML "
   ]
  },
  {
   "cell_type": "markdown",
   "id": "692577d7-0408-4ad1-a96d-58cc1512965a",
   "metadata": {},
   "source": [
    "#### Источник: https://developer.mozilla.org/ru/docs/Learn/Server-side/Django/Models"
   ]
  },
  {
   "cell_type": "markdown",
   "id": "43281877-3901-4aaf-965d-2e39ce071175",
   "metadata": {},
   "source": [
    "#### Пусть стоит задача хранить информацию о книгах - локальная библиотека "
   ]
  },
  {
   "cell_type": "code",
   "execution_count": 2,
   "id": "fc24c9af-3236-4f35-ac98-f1ee90c75f40",
   "metadata": {},
   "outputs": [
    {
     "data": {
      "text/html": [
       "<img src=\"UML.png\"/>"
      ],
      "text/plain": [
       "<IPython.core.display.Image object>"
      ]
     },
     "execution_count": 2,
     "metadata": {},
     "output_type": "execute_result"
    }
   ],
   "source": [
    "Image(url='UML.png')"
   ]
  },
  {
   "cell_type": "markdown",
   "id": "9f2f7782-6f5b-4565-a8f1-e7a4afd4e201",
   "metadata": {},
   "source": [
    "### 0..* 1..* - означает, что, например, какому-то жанру могут соответствовать 0 и более книг. А книге соответствует 1 и более жанров"
   ]
  },
  {
   "cell_type": "markdown",
   "id": "221a0e97-106e-4234-8d16-c9e43d100c7a",
   "metadata": {},
   "source": [
    "#### Пример модели:"
   ]
  },
  {
   "cell_type": "code",
   "execution_count": 6,
   "id": "55981680-0c30-4cd1-a687-c7e770cb3b3f",
   "metadata": {},
   "outputs": [],
   "source": [
    "from django.db import models\n",
    "\n",
    "class MyModelName(models.Model):\n",
    "    \"\"\"\n",
    "    A typical class defining a model, derived from the Model class.\n",
    "    \"\"\"\n",
    "\n",
    "    # Fields\n",
    "    my_field_name = models.CharField(max_length=20, help_text=\"Enter field documentation\")\n",
    "    ...\n",
    "\n",
    "    # Metadata\n",
    "    class Meta:\n",
    "        ordering = [\"-my_field_name\"]\n",
    "\n",
    "    # Methods\n",
    "    def get_absolute_url(self):\n",
    "         \"\"\"\n",
    "         Returns the url to access a particular instance of MyModelName.\n",
    "         \"\"\"\n",
    "        return reverse('model-detail-view', args=[str(self.id)])\n",
    "\n",
    "    def __str__(self):\n",
    "        \"\"\"\n",
    "        String for representing the MyModelName object (in Admin site etc.)\n",
    "        \"\"\"\n",
    "        return self.field_name"
   ]
  },
  {
   "cell_type": "markdown",
   "id": "3ccd2c60-2163-4a2a-8e8f-e6d4ae80cf34",
   "metadata": {},
   "source": [
    "#### поля = столбцы данных, которые будут в нашей БД (my_field_name..)"
   ]
  },
  {
   "cell_type": "code",
   "execution_count": 7,
   "id": "bff50a5c-cd2b-4a04-8ee3-9327697b1fd7",
   "metadata": {},
   "outputs": [
    {
     "data": {
      "text/html": [
       "<img src=\"help.png\"/>"
      ],
      "text/plain": [
       "<IPython.core.display.Image object>"
      ]
     },
     "execution_count": 7,
     "metadata": {},
     "output_type": "execute_result"
    }
   ],
   "source": [
    "Image(url='help.png')"
   ]
  },
  {
   "cell_type": "markdown",
   "id": "16dbf4d9-6785-4404-88ee-0fa051a92208",
   "metadata": {},
   "source": [
    "### Порядок, в котором объявляются поля, будет влиять на их порядок по умолчанию, если модель отображается в форме (например, на сайте администратора), хотя это может быть переопределено."
   ]
  },
  {
   "cell_type": "code",
   "execution_count": 8,
   "id": "bb8fd32c-14b2-417b-bdea-bbcafaaf2c04",
   "metadata": {},
   "outputs": [
    {
     "data": {
      "text/html": [
       "<img src=\"args_field.png\"/>"
      ],
      "text/plain": [
       "<IPython.core.display.Image object>"
      ]
     },
     "execution_count": 8,
     "metadata": {},
     "output_type": "execute_result"
    }
   ],
   "source": [
    "Image(url='args_field.png')"
   ]
  },
  {
   "cell_type": "code",
   "execution_count": 9,
   "id": "fe3ac2f5-bfec-475c-9283-1098c2a4fba2",
   "metadata": {},
   "outputs": [
    {
     "data": {
      "text/html": [
       "<img src=\"types_of_field.png\"/>"
      ],
      "text/plain": [
       "<IPython.core.display.Image object>"
      ]
     },
     "execution_count": 9,
     "metadata": {},
     "output_type": "execute_result"
    }
   ],
   "source": [
    "Image(url='types_of_field.png')"
   ]
  },
  {
   "cell_type": "markdown",
   "id": "78e973cc-4d76-411d-82a9-4e1e695c9563",
   "metadata": {},
   "source": [
    "### Полный список полей: https://docs.djangoproject.com/en/1.10/ref/models/fields/#field-types"
   ]
  },
  {
   "cell_type": "markdown",
   "id": "f1f26fc2-a430-4900-bf92-d8beb3b98788",
   "metadata": {},
   "source": [
    "### Метаданные"
   ]
  },
  {
   "cell_type": "code",
   "execution_count": 2,
   "id": "7034598e-a03a-4bf7-9ccf-8f93a877f402",
   "metadata": {},
   "outputs": [],
   "source": [
    "class Meta:\n",
    "    ordering = [\"-my_field_name\"]"
   ]
  },
  {
   "cell_type": "code",
   "execution_count": 3,
   "id": "ae2e092f-b2c8-4a64-aa07-62b5a641f940",
   "metadata": {},
   "outputs": [],
   "source": [
    "ordering = [\"title\", \"-pubdate\"] \n",
    "verbose_name = \"BetterName\""
   ]
  },
  {
   "cell_type": "markdown",
   "id": "cf781c32-eae7-4c6a-87ef-c24eba8e4b16",
   "metadata": {},
   "source": [
    "### Книги будут отсортированы по названию от A-Z и по дате публикации от новых к старым"
   ]
  },
  {
   "cell_type": "markdown",
   "id": "ba34b64d-c5f7-4a39-9cb4-3a61c6e77ca5",
   "metadata": {},
   "source": [
    "### Полный список атрибутов метаданных: https://docs.djangoproject.com/en/2.2/ref/models/options/#model-meta-options"
   ]
  },
  {
   "cell_type": "markdown",
   "id": "020f9041-2f8a-411b-9f0b-d74beb866eef",
   "metadata": {},
   "source": [
    "### -------------------------------------\n",
    "### Методы"
   ]
  },
  {
   "cell_type": "code",
   "execution_count": 5,
   "id": "7ccc44ed-9be8-4cbe-ab2d-b75b505ed396",
   "metadata": {},
   "outputs": [],
   "source": [
    "def get_absolute_url(self):\n",
    "     \"\"\"\n",
    "     Returns the url to access a particular instance of MyModelName.\n",
    "     \"\"\"\n",
    "    return reverse('model-detail-view', args=[str(self.id)])\n",
    "\n",
    "def __str__(self):\n",
    "    \"\"\"\n",
    "    String for representing the MyModelName object (in Admin site etc.)\n",
    "    \"\"\"\n",
    "    return self.field_name"
   ]
  },
  {
   "cell_type": "markdown",
   "id": "05450eca-5b4e-4086-9b52-00d9b1338a40",
   "metadata": {},
   "source": [
    "### --------------------------------------\n",
    "### Теперь модель для нашей библиотеки: нужно запихнуть ее в models.py"
   ]
  },
  {
   "cell_type": "code",
   "execution_count": null,
   "id": "5a331af1-c84c-4aa2-8227-aba98aa0169b",
   "metadata": {},
   "outputs": [],
   "source": [
    "from django.db import models\n",
    "\n",
    "### сначала зададим модель для жанра\n",
    "class Genre(models.Model):\n",
    "    ## жанр \n",
    "    name = models.CharField(max_length=200, help_text=\"Enter a book genre (e.g. Science Fiction, French Poetry etc.)\")\n",
    "    def __str__(self):\n",
    "        return self.name\n",
    "### Языковая модель \n",
    "class Language(models.Model):\n",
    "    lang = models.CharField(max_length=100)\n",
    "    def __str__(self):\n",
    "        return self.lang\n",
    "    \n",
    "    \n",
    "    \n",
    "from django.urls import reverse #Used to generate URLs by reversing the URL patterns\n",
    "### модель книги\n",
    "class Book(models.Model):\n",
    "    \"\"\"\n",
    "    Model representing a book (but not a specific copy of a book).\n",
    "    \"\"\"\n",
    "    title = models.CharField(max_length=200)\n",
    "    author = models.ForeignKey('Author', on_delete=models.SET_NULL, null=True)\n",
    "    # Foreign Key used because book can only have one author, but authors can have multiple books\n",
    "    # Author as a string rather than object because it hasn't been declared yet in the file.\n",
    "    summary = models.TextField(max_length=1000, help_text=\"Enter a brief description of the book\")\n",
    "    isbn = models.CharField('ISBN',max_length=13, help_text='13 Character <a href=\"https://www.isbn-international.org/content/what-isbn\">ISBN number</a>')\n",
    "    genre = models.ManyToManyField(Genre, help_text=\"Select a genre for this book\")\n",
    "    # ManyToManyField used because genre can contain many books. Books can cover many genres.\n",
    "    # Genre class has already been defined so we can specify the object above.\n",
    "    language = models.ManyToManyField(Language, help_text='Введите язык')\n",
    "    def __str__(self):\n",
    "        \"\"\"\n",
    "        String for representing the Model object.\n",
    "        \"\"\"\n",
    "        return self.title\n",
    "\n",
    "\n",
    "    def get_absolute_url(self):\n",
    "        \"\"\"\n",
    "        Returns the url to access a particular book instance.\n",
    "        \"\"\"\n",
    "        return reverse('book-detail', args=[str(self.id)])\n",
    "###\n",
    "###\n",
    "###\n",
    "### Класс экземпляра книги:\n",
    "import uuid # Required for unique book instances\n",
    "\n",
    "class BookInstance(models.Model):\n",
    "    \"\"\"\n",
    "    Model representing a specific copy of a book (i.e. that can be borrowed from the library).\n",
    "    \"\"\"\n",
    "    id = models.UUIDField(primary_key=True, default=uuid.uuid4, help_text=\"Unique ID for this particular book across whole library\")\n",
    "    book = models.ForeignKey('Book', on_delete=models.SET_NULL, null=True)\n",
    "    imprint = models.CharField(max_length=200) \n",
    "    due_back = models.DateField(null=True, blank=True) ### поле для времени, через которое книга снова появится для взятия\n",
    "\n",
    "    LOAN_STATUS = (\n",
    "        ('m', 'Maintenance'),\n",
    "        ('o', 'On loan'),\n",
    "        ('a', 'Available'),\n",
    "        ('r', 'Reserved'),\n",
    "    )\n",
    "\n",
    "    status = models.CharField(max_length=1, choices=LOAN_STATUS, blank=True, default='m', help_text='Book availability')\n",
    "\n",
    "    class Meta:\n",
    "        ordering = [\"due_back\"]\n",
    "\n",
    "\n",
    "    def __str__(self):\n",
    "        \"\"\"\n",
    "        String for representing the Model object\n",
    "        \"\"\"\n",
    "        return '%s (%s)' % (self.id,self.book.title)\n",
    "    \n",
    "###\n",
    "###\n",
    "###\n",
    "### Класс автора ( модель)\n",
    "class Author(models.Model):\n",
    "    \"\"\"\n",
    "    Model representing an author.\n",
    "    \"\"\"\n",
    "    first_name = models.CharField(max_length=100)\n",
    "    last_name = models.CharField(max_length=100)\n",
    "    date_of_birth = models.DateField(null=True, blank=True)\n",
    "    date_of_death = models.DateField('Died', null=True, blank=True)\n",
    "\n",
    "    def get_absolute_url(self):\n",
    "        \"\"\"\n",
    "        Returns the url to access a particular author instance.\n",
    "        \"\"\"\n",
    "        return reverse('author-detail', args=[str(self.id)])\n",
    "\n",
    "\n",
    "    def __str__(self):\n",
    "        \"\"\"\n",
    "        String for representing the Model object.\n",
    "        \"\"\"\n",
    "        return '%s, %s' % (self.last_name, self.first_name)\n",
    "###\n",
    "###\n"
   ]
  },
  {
   "cell_type": "code",
   "execution_count": 17,
   "id": "48d149cd-8e33-43d0-ad09-9cac866da015",
   "metadata": {},
   "outputs": [
    {
     "data": {
      "text/plain": [
       "'(Первое слово (Второе слово))'"
      ]
     },
     "execution_count": 17,
     "metadata": {},
     "output_type": "execute_result"
    }
   ],
   "source": [
    "def func():\n",
    "    return '(%s (%s))' % ('Первое слово','Второе слово')\n",
    "func()"
   ]
  },
  {
   "cell_type": "markdown",
   "id": "e0bea1b6-24da-4cd6-98e8-ef61a1e0f7e8",
   "metadata": {},
   "source": [
    "### ----------------------------------------\n",
    "### Панель администратора"
   ]
  },
  {
   "cell_type": "markdown",
   "id": "68105db2-3469-4b9a-a24c-02ccfa3c8836",
   "metadata": {},
   "source": [
    "### В файл admin.py залить:"
   ]
  },
  {
   "cell_type": "code",
   "execution_count": null,
   "id": "5ed67418-42c6-435b-bb75-e7b270d71e79",
   "metadata": {},
   "outputs": [],
   "source": [
    "from .models import Author, Genre, Book, BookInstance, Language\n",
    "\n",
    "admin.site.register(Book)\n",
    "admin.site.register(Author)\n",
    "admin.site.register(Genre)\n",
    "admin.site.register(BookInstance)\n",
    "admin.site.register(Language)"
   ]
  },
  {
   "cell_type": "markdown",
   "id": "afea3199-9837-4839-833b-996480b33891",
   "metadata": {},
   "source": [
    "### Создание суперпользователя "
   ]
  },
  {
   "cell_type": "code",
   "execution_count": null,
   "id": "d27e3acb-d8be-42a3-9cc4-084af5efce4c",
   "metadata": {},
   "outputs": [],
   "source": [
    "python3 manage.py createsuperuser"
   ]
  },
  {
   "cell_type": "markdown",
   "id": "377c5a68-8c08-4811-a21a-33df39c738ef",
   "metadata": {},
   "source": [
    "### Изменение отображения в админ-панели"
   ]
  },
  {
   "cell_type": "code",
   "execution_count": null,
   "id": "9977eecb-ed12-47d5-bb0b-52d4ec77405a",
   "metadata": {},
   "outputs": [],
   "source": [
    "### комментируем строчку в admin.py\n",
    "# admin.site.register(Author)\n",
    "### создаем класс \n",
    "class AuthorAdmin(admin.ModelAdmin):\n",
    "    pass\n",
    "\n",
    "### комментируем admin.site.register(Book) и admin.site.register(BookInstance)\n",
    "\n",
    "# Register the admin class with the associated model\n",
    "admin.site.register(Author, AuthorAdmin)\n",
    "@admin.register(Book) ### то же самое, что и admin.site.register...\n",
    "class BookAdmin(admin.ModelAdmin):\n",
    "    pass\n",
    "\n",
    "# Register the Admin classes for BookInstance using the decorator\n",
    "\n",
    "@admin.register(BookInstance)\n",
    "class BookInstanceAdmin(admin.ModelAdmin):\n",
    "    pass"
   ]
  },
  {
   "cell_type": "code",
   "execution_count": null,
   "id": "bbc78518-fef5-42a6-8b0f-c18492246a97",
   "metadata": {},
   "outputs": [],
   "source": [
    "### изменяем\n",
    "class AuthorAdmin(admin.ModelAdmin):\n",
    "    list_display = ('last_name', 'first_name', 'date_of_birth', 'date_of_death')"
   ]
  },
  {
   "cell_type": "markdown",
   "id": "ee9e00e9-b018-4966-a4ff-4951d64d4f41",
   "metadata": {},
   "source": [
    "### Текущий вид admin.py:"
   ]
  },
  {
   "cell_type": "code",
   "execution_count": null,
   "id": "057ff5b5-3703-4f23-905e-f111b0e3e7a6",
   "metadata": {},
   "outputs": [],
   "source": [
    "from django.contrib import admin\n",
    "\n",
    "# Register your models here.\n",
    "from .models import Author, Genre, Book, BookInstance, Language\n",
    "\n",
    "# admin.site.register(Book)\n",
    "# admin.site.register(Author)\n",
    "admin.site.register(Genre)\n",
    "# admin.site.register(BookInstance)\n",
    "admin.site.register(Language)\n",
    "\n",
    "class AuthorAdmin(admin.ModelAdmin):\n",
    "    list_display = ('last_name', 'first_name', 'date_of_birth', 'date_of_death')\n",
    "\n",
    "@admin.register(Book) ### то же самое, что и admin.site.register...\n",
    "class BookAdmin(admin.ModelAdmin):\n",
    "    pass\n",
    "\n",
    "@admin.register(BookInstance)\n",
    "class BookInstanceAdmin(admin.ModelAdmin):\n",
    "    pass\n",
    "    \n",
    "admin.site.register(Author, AuthorAdmin)\n",
    "admin.site.register(Book, BookAdmin)\n",
    "admin.site.register(BookInstance, BookInstanceAdmin)"
   ]
  },
  {
   "cell_type": "markdown",
   "id": "6825dfea-1532-4607-a607-bacb4812ddf0",
   "metadata": {},
   "source": [
    "### добавим в models.py к модели Book: "
   ]
  },
  {
   "cell_type": "code",
   "execution_count": null,
   "id": "6e81c9e6-3f35-47f3-8044-033c2ce4340f",
   "metadata": {},
   "outputs": [],
   "source": [
    "\n",
    "def display_genre(self):\n",
    "        \"\"\"\n",
    "        Creates a string for the Genre. This is required to display genre in Admin.\n",
    "        \"\"\"\n",
    "        return ', '.join([ genre.name for genre in self.genre.all()[:3] ])\n",
    "    display_genre.short_description = 'Genre'"
   ]
  },
  {
   "cell_type": "markdown",
   "id": "24512f60-a071-466d-8b4d-8a0806d386e7",
   "metadata": {},
   "source": [
    "### .....\n",
    "### Попробовать самому: \n",
    "### Для представления списка BookInstance , добавьте код для отображения книги, статуса, даты возврата, и id (вместо значения по умолчанию возвращаемого __str__() ).\n",
    "### Добавьте встроенный список перечня Book в представление списка Author , используя тот же самый подход, который мы применили для Book/BookInstance."
   ]
  },
  {
   "cell_type": "markdown",
   "id": "cffe345b-32fc-4f56-b113-b84b0cc758ab",
   "metadata": {},
   "source": [
    "### -------------------------\n",
    "### Теперь создание домашенй страницы"
   ]
  },
  {
   "cell_type": "code",
   "execution_count": 8,
   "id": "30d1c199-6e20-4511-a66e-3ebd9f0c4e96",
   "metadata": {},
   "outputs": [
    {
     "data": {
      "text/html": [
       "<img src=\"HTTP request.png\"/>"
      ],
      "text/plain": [
       "<IPython.core.display.Image object>"
      ]
     },
     "execution_count": 8,
     "metadata": {},
     "output_type": "execute_result"
    }
   ],
   "source": [
    "Image(url= \"HTTP request.png\")"
   ]
  },
  {
   "cell_type": "markdown",
   "id": "b920c100-b737-433c-bdd3-1224ca0e5afe",
   "metadata": {},
   "source": [
    "### Будем выстраивать переходы от urls.py к views.py и templates"
   ]
  },
  {
   "cell_type": "code",
   "execution_count": 9,
   "id": "31ea5067-ec6b-429b-8def-86bd076f0a24",
   "metadata": {},
   "outputs": [
    {
     "data": {
      "text/html": [
       "<img src=\"urlsToDo.png\"/>"
      ],
      "text/plain": [
       "<IPython.core.display.Image object>"
      ]
     },
     "execution_count": 9,
     "metadata": {},
     "output_type": "execute_result"
    }
   ],
   "source": [
    "Image(url= \"urlsToDo.png\")"
   ]
  },
  {
   "cell_type": "markdown",
   "id": "98349831-295d-415e-a45a-89e5a54584fd",
   "metadata": {},
   "source": [
    "### Вставить это в catalog/urls.py вместо пустого urlpatterns"
   ]
  },
  {
   "cell_type": "code",
   "execution_count": 11,
   "id": "b611c6cf-b457-4bd5-babc-f74869010735",
   "metadata": {},
   "outputs": [],
   "source": [
    "urlpatterns = [\n",
    "    path('', views.index, name='index'),\n",
    "]"
   ]
  },
  {
   "cell_type": "markdown",
   "id": "9a5b9d9a-d9be-460e-80e1-aa55a24c9228",
   "metadata": {},
   "source": [
    "### Вставить это в views.py в catalog'е"
   ]
  },
  {
   "cell_type": "code",
   "execution_count": null,
   "id": "63c94f77-8ad3-4377-ac11-25944900af3f",
   "metadata": {},
   "outputs": [],
   "source": [
    "from .models import Book, Author, BookInstance, Genre\n",
    "\n",
    "def index(request):\n",
    "    \"\"\"\n",
    "    Функция отображения для домашней страницы сайта.\n",
    "    \"\"\"\n",
    "    # Генерация \"количеств\" некоторых главных объектов\n",
    "    num_books=Book.objects.all().count()\n",
    "    num_instances=BookInstance.objects.all().count()\n",
    "    # Доступные книги (статус = 'a')\n",
    "    num_instances_available=BookInstance.objects.filter(status__exact='a').count()\n",
    "    num_authors=Author.objects.count()  # Метод 'all()' применён по умолчанию.\n",
    "\n",
    "    # Отрисовка HTML-шаблона index.html с данными внутри\n",
    "    # переменной контекста context\n",
    "    return render(\n",
    "        request,\n",
    "        'index.html',\n",
    "        context={'num_books':num_books,'num_instances':num_instances,'num_instances_available':num_instances_available,'num_authors':num_authors},\n",
    "    )"
   ]
  },
  {
   "cell_type": "markdown",
   "id": "a301af42-ac8b-4210-8322-7a0a17fb6cdc",
   "metadata": {},
   "source": [
    "### создадим новый файл base_generil.html в catalog/templates/"
   ]
  },
  {
   "cell_type": "code",
   "execution_count": null,
   "id": "17c77755-439d-4f9a-87ed-0a6b6454ab84",
   "metadata": {},
   "outputs": [],
   "source": [
    "<!DOCTYPE html>\n",
    "<html lang=\"en\">\n",
    "<head>\n",
    "\n",
    "  {% block title %}<title>Local Library</title>{% endblock %}\n",
    "  <meta charset=\"utf-8\">\n",
    "  <meta name=\"viewport\" content=\"width=device-width, initial-scale=1\">\n",
    "  <link rel=\"stylesheet\" href=\"https://maxcdn.bootstrapcdn.com/bootstrap/3.3.7/css/bootstrap.min.css\">\n",
    "  <script src=\"https://ajax.googleapis.com/ajax/libs/jquery/1.12.4/jquery.min.js\"></script>\n",
    "  <script src=\"https://maxcdn.bootstrapcdn.com/bootstrap/3.3.7/js/bootstrap.min.js\"></script>\n",
    "\n",
    "  <!-- Добавление дополнительного статического CSS файла -->\n",
    "  {% load static %}\n",
    "  <link rel=\"stylesheet\" href=\"{% static 'css/styles.css' %}\">\n",
    "</head>\n",
    "\n",
    "<body>\n",
    "\n",
    "  <div class=\"container-fluid\">\n",
    "\n",
    "    <div class=\"row\">\n",
    "      <div class=\"col-sm-2\">\n",
    "      {% block sidebar %}\n",
    "      <ul class=\"sidebar-nav\">\n",
    "          <li><a href=\"{% url 'index' %}\">Home</a></li>\n",
    "          <li><a href=\"\">All books</a></li>\n",
    "          <li><a href=\"\">All authors</a></li>\n",
    "      </ul>\n",
    "     {% endblock %}\n",
    "      </div>\n",
    "      <div class=\"col-sm-10 \">\n",
    "      {% block content %}{% endblock %}\n",
    "      </div>\n",
    "    </div>\n",
    "\n",
    "  </div>\n",
    "</body>\n",
    "</html>"
   ]
  },
  {
   "cell_type": "markdown",
   "id": "a67d5109-1ee3-447b-af0a-bf230d767efb",
   "metadata": {},
   "source": [
    "### создадим файл по пути catalog/static/css/styles.css с содержимым:\n"
   ]
  },
  {
   "cell_type": "code",
   "execution_count": null,
   "id": "3247a5ec-aadb-4817-95f3-c2acb4c899cb",
   "metadata": {},
   "outputs": [],
   "source": [
    ".sidebar-nav {\n",
    "    margin-top: 20px;\n",
    "    padding: 0;\n",
    "    list-style: none;\n",
    "}"
   ]
  },
  {
   "cell_type": "markdown",
   "id": "56843a88-f48e-45ab-9b9f-63fa99862be5",
   "metadata": {},
   "source": [
    "### создадим исходную index.html страницу в пути catalog/templates/index.html с содержимым:"
   ]
  },
  {
   "cell_type": "code",
   "execution_count": null,
   "id": "5df7db4f-3db5-4055-bf6f-415521de5adb",
   "metadata": {},
   "outputs": [],
   "source": [
    "{% extends \"base_generic.html\" %}\n",
    "\n",
    "{% block content %}\n",
    "<h1>Local Library Home</h1>\n",
    "\n",
    "  <p>Welcome to <em>LocalLibrary</em>, a very basic Django website developed as a tutorial example on the Mozilla Developer Network.</p>\n",
    "\n",
    "<h2>Dynamic content</h2>\n",
    "\n",
    "  <p>The library has the following record counts:</p>\n",
    "  <ul>\n",
    "    <li><strong>Books:</strong> {{ num_books }}</li>\n",
    "    <li><strong>Copies:</strong> {{ num_instances }}</li>\n",
    "    <li><strong>Copies available:</strong> {{ num_instances_available }}</li>\n",
    "    <li><strong>Authors:</strong> {{ num_authors }}</li>\n",
    "  </ul>\n",
    "\n",
    "{% endblock %}"
   ]
  },
  {
   "cell_type": "markdown",
   "id": "a1d4338e-5424-43f2-9557-7774b86febec",
   "metadata": {},
   "source": [
    "### -----------------------------------\n",
    "### Страница со списком книг"
   ]
  },
  {
   "cell_type": "markdown",
   "id": "f27e5cd2-0aba-4729-84fb-c9c4179c9ed4",
   "metadata": {},
   "source": [
    "### путь до страницы будет catalog/books "
   ]
  },
  {
   "cell_type": "markdown",
   "id": "facb14ad-36a4-44b7-aa01-53f2abb26cc4",
   "metadata": {},
   "source": [
    "### дополняем urls.py: добавляем строчку, связанную с запросом books и import url"
   ]
  },
  {
   "cell_type": "code",
   "execution_count": null,
   "id": "3443ad3e-0b6d-4888-8cfb-cec23410940e",
   "metadata": {},
   "outputs": [],
   "source": [
    "from django.urls import path, re_path, include\n",
    "from . import views\n",
    "\n",
    "urlpatterns = [\n",
    "    re_path(r'^$', views.index, name='index'),\n",
    "    re_path(r'^books/$', views.BookListView.as_view(), name='books'),\n",
    "]"
   ]
  },
  {
   "cell_type": "markdown",
   "id": "d2c4108a-bdf2-4c8c-9e98-18f6d79bfd6b",
   "metadata": {},
   "source": [
    "### копируем это в views.py в catalog'е"
   ]
  },
  {
   "cell_type": "code",
   "execution_count": null,
   "id": "4cdcb9cd-5152-42f6-97ea-d0ea313e6ead",
   "metadata": {},
   "outputs": [],
   "source": [
    "from django.views import generic\n",
    "\n",
    "class BookListView(generic.ListView):\n",
    "    model = Book"
   ]
  },
  {
   "cell_type": "markdown",
   "id": "febb205d-f278-4787-bbaa-ed93eebfdcad",
   "metadata": {},
   "source": [
    "### ВАЖНО! Теперь, нужно создать шаблон по пути catalog/templates/catalog/book_list.html . Тут 2 раза catalog фигурирует"
   ]
  },
  {
   "cell_type": "markdown",
   "id": "7ddd4465-61ba-46f1-a400-a25a1e7552e0",
   "metadata": {},
   "source": [
    "### можем переопределить метод, взятый из стандратной библиотеки"
   ]
  },
  {
   "cell_type": "code",
   "execution_count": null,
   "id": "c02a5442-8fb6-4d92-b209-9ccb97795660",
   "metadata": {},
   "outputs": [],
   "source": [
    "class BookListView(generic.ListView):\n",
    "    model = Book\n",
    "\n",
    "    def get_queryset(self):\n",
    "        return Book.objects.filter(title__icontains='war')[:5] # Получить 5 книг, содержащих 'war' в заголовке"
   ]
  },
  {
   "cell_type": "markdown",
   "id": "b7bfef81-a2fa-4ade-8077-7693fce745af",
   "metadata": {},
   "source": [
    "### создаем шаблон catalog/templates/catalog/book_list.html с содержимым:\n"
   ]
  },
  {
   "cell_type": "code",
   "execution_count": null,
   "id": "848576e7-9958-45fa-a364-b481682cde67",
   "metadata": {},
   "outputs": [],
   "source": [
    "{% extends \"base_generic.html\" %}\n",
    "\n",
    "{% block content %}\n",
    "    <h1>Book List</h1>\n",
    "\n",
    "    {% if book_list %}\n",
    "    <ul>\n",
    "\n",
    "      {% for book in book_list %}\n",
    "      <li>\n",
    "        <a href=\"{{ book.get_absolute_url }}\">{{ book.title }}</a> ({{book.author}})\n",
    "      </li>\n",
    "      {% endfor %}\n",
    "\n",
    "    </ul>\n",
    "    {% else %}\n",
    "      <p>There are no books in the library.</p>\n",
    "    {% endif %}\n",
    "{% endblock %}"
   ]
  },
  {
   "cell_type": "markdown",
   "id": "ccaac343-65f2-451c-b105-2e1c7285e6fe",
   "metadata": {},
   "source": [
    "### идем в base_generic.html и там делаем ссылку на нашу страницу book_list таким образом: меняем строчку с All books на это (наделяем ссылкой):"
   ]
  },
  {
   "cell_type": "code",
   "execution_count": null,
   "id": "75d93bc0-b8f1-41ab-84d7-e8115568194e",
   "metadata": {},
   "outputs": [],
   "source": [
    "<li><a href=\"{% url 'books' %}\">All books</a></li>"
   ]
  },
  {
   "cell_type": "markdown",
   "id": "e22dcbed-9693-4550-a451-243a1a27da9d",
   "metadata": {},
   "source": [
    "### теперь сделаем для каждой книги свою страничку, так чтобы url адрес был: catalog/book/<id> "
   ]
  },
  {
   "cell_type": "markdown",
   "id": "ef21a450-246e-4b64-983f-7bd5bedcf478",
   "metadata": {},
   "source": [
    "### В catalog urls.py дополняем строчку с book_detail в urlpatterns"
   ]
  },
  {
   "cell_type": "code",
   "execution_count": null,
   "id": "79abd608-0c55-417a-a4e1-0d9edefa4d63",
   "metadata": {},
   "outputs": [],
   "source": [
    "\n",
    "urlpatterns = [\n",
    "    re_path(r'^$', views.index, name='index'),\n",
    "    re_path(r'^books/$', views.BookListView.as_view(), name='books'),\n",
    "    re_path(r'^book/(?P<pk>\\d+)$', views.BookDetailView.as_view(), name='book-detail'),\n",
    "]"
   ]
  },
  {
   "cell_type": "markdown",
   "id": "6cd5b273-0e5c-407a-b71c-6810b6bd2d3f",
   "metadata": {},
   "source": [
    "### В отличие от предыдущих преобразований, в данном случае мы применяем наше регулярное выражение (РВ) для сопоставления \"настоящего паттерна\", а не просто строки. Данное РВ сопоставляет любой URL-адрес, который начинается с book/, за которым до конца строки (до маркера конца строки - знак доллара) следуют одна, или более цифр. В процессе выполнения данного преобразования, оно \"захватывает\" цифры и передаёт их в функцию отображения как параметр с именем pk.\n"
   ]
  },
  {
   "cell_type": "markdown",
   "id": "5aa301ae-a46f-4572-b784-0ca53290f9e7",
   "metadata": {},
   "source": [
    "### регулярное выражение: r'<ваше регулярное выражение>'"
   ]
  },
  {
   "cell_type": "code",
   "execution_count": 8,
   "id": "ba3cbddb-8f02-4d20-bdd1-4df2334bfa5a",
   "metadata": {},
   "outputs": [
    {
     "data": {
      "text/html": [
       "<img src=\"regular.png\"/>"
      ],
      "text/plain": [
       "<IPython.core.display.Image object>"
      ]
     },
     "execution_count": 8,
     "metadata": {},
     "output_type": "execute_result"
    }
   ],
   "source": [
    "Image(url='regular.png')"
   ]
  },
  {
   "cell_type": "code",
   "execution_count": 7,
   "id": "6d3de6c6-8ba1-49c3-829f-cd2aff059291",
   "metadata": {},
   "outputs": [
    {
     "data": {
      "text/html": [
       "<img src=\"patterns2.png\"/>"
      ],
      "text/plain": [
       "<IPython.core.display.Image object>"
      ]
     },
     "execution_count": 7,
     "metadata": {},
     "output_type": "execute_result"
    }
   ],
   "source": [
    "Image(url='patterns2.png')"
   ]
  },
  {
   "cell_type": "markdown",
   "id": "31f28286-281f-4018-b604-a82cc6966aaf",
   "metadata": {},
   "source": [
    "### Вставляем в catalog/urls.py эту часть кода "
   ]
  },
  {
   "cell_type": "code",
   "execution_count": null,
   "id": "648284ee-580e-4898-83fd-f954ed19d549",
   "metadata": {},
   "outputs": [],
   "source": [
    "class BookDetailView(generic.DetailView):\n",
    "    model = Book"
   ]
  },
  {
   "cell_type": "markdown",
   "id": "5ee21d4f-4592-471b-97b5-d5a2bd6e3757",
   "metadata": {},
   "source": [
    "### создаем шаблон /locallibrary/catalog/templates/catalog/book_detail.htm детальной информации"
   ]
  },
  {
   "cell_type": "code",
   "execution_count": null,
   "id": "49545a2c-b114-45b9-a7b1-c6c9d4c5d7a2",
   "metadata": {},
   "outputs": [],
   "source": [
    "{% extends \"base_generic.html\" %}\n",
    "\n",
    "{% block content %}\n",
    "  <h1>Title: {{ book.title }}</h1>\n",
    "\n",
    "  <p><strong>Author:</strong> <a href=\"\">{{ book.author }}</a></p> <!-- author detail link not yet defined -->\n",
    "  <p><strong>Summary:</strong> {{ book.summary }}</p>\n",
    "  <p><strong>ISBN:</strong> {{ book.isbn }}</p>\n",
    "  <p><strong>Language:</strong> {{ book.language }}</p>\n",
    "  <p><strong>Genre:</strong> {% for genre in book.genre.all %} {{ genre }}{% if not forloop.last %}, {% endif %}{% endfor %}</p>\n",
    "\n",
    "  <div style=\"margin-left:20px;margin-top:20px\">\n",
    "    <h4>Copies</h4>\n",
    "\n",
    "    {% for copy in book.bookinstance_set.all %}\n",
    "    <hr>\n",
    "    <p class=\"{% if copy.status == 'a' %}text-success{% elif copy.status == 'd' %}text-danger{% else %}text-warning{% endif %}\">{{ copy.get_status_display }}</p>\n",
    "    {% if copy.status != 'a' %}<p><strong>Due to be returned:</strong> {{copy.due_back}}</p>{% endif %}\n",
    "    <p><strong>Imprint:</strong> {{copy.imprint}}</p>\n",
    "    <p class=\"text-muted\"><strong>Id:</strong> {{copy.id}}</p>\n",
    "    {% endfor %}\n",
    "  </div>\n",
    "{% endblock %}"
   ]
  },
  {
   "cell_type": "code",
   "execution_count": null,
   "id": "8ebf7566-31e1-40e7-95e2-9b760e9022b2",
   "metadata": {},
   "outputs": [],
   "source": [
    "### примечательно: \n",
    "{% for copy in book.bookinstance_set.all %}\n",
    "<!-- итерации по каждой копии/экземпляру книги -->\n",
    "{% endfor %}"
   ]
  },
  {
   "cell_type": "markdown",
   "id": "11589d1f-7905-4c73-abad-229abb97d08d",
   "metadata": {},
   "source": [
    "### добавим в модель Author в catalog/models.py: \n"
   ]
  },
  {
   "cell_type": "code",
   "execution_count": null,
   "id": "5f407e45-0026-4c15-8c87-43c1b86fb2ec",
   "metadata": {},
   "outputs": [],
   "source": [
    "class Meta:\n",
    "    ordering = ['last_name']"
   ]
  },
  {
   "cell_type": "markdown",
   "id": "dc74dacb-c6f6-49f8-a940-5cfa040a89f1",
   "metadata": {},
   "source": [
    "### Вуаля!"
   ]
  },
  {
   "cell_type": "markdown",
   "id": "496bd155-10f2-422f-83e2-84703b0b449f",
   "metadata": {},
   "source": [
    "### добавим это внизу base_generic.html сразу после block content endblock\n"
   ]
  },
  {
   "cell_type": "code",
   "execution_count": null,
   "id": "64165ee7-f828-453b-80ac-f607482e5f09",
   "metadata": {},
   "outputs": [],
   "source": [
    "{% block content %}{% endblock %}\n",
    "\n",
    "{% block pagination %}\n",
    "  {% if is_paginated %}\n",
    "      <div class=\"pagination\">\n",
    "          <span class=\"page-links\">\n",
    "              {% if page_obj.has_previous %}\n",
    "                  <a href=\"{{ request.path }}?page={{ page_obj.previous_page_number }}\">previous</a>\n",
    "              {% endif %}\n",
    "              <span class=\"page-current\">\n",
    "                  Page {{ page_obj.number }} of {{ page_obj.paginator.num_pages }}.\n",
    "              </span>\n",
    "              {% if page_obj.has_next %}\n",
    "                  <a href=\"{{ request.path }}?page={{ page_obj.next_page_number }}\">next</a>\n",
    "              {% endif %}\n",
    "          </span>\n",
    "      </div>\n",
    "  {% endif %}\n",
    "{% endblock %}"
   ]
  },
  {
   "cell_type": "markdown",
   "id": "7148e6a5-e342-4afc-b978-8fbc2147408d",
   "metadata": {},
   "source": [
    "### по аналогии можно добавить author list и страничку об авторе"
   ]
  },
  {
   "cell_type": "code",
   "execution_count": null,
   "id": "1e106957-c692-4631-a968-095f86ba7909",
   "metadata": {},
   "outputs": [],
   "source": []
  }
 ],
 "metadata": {
  "kernelspec": {
   "display_name": "Python 3",
   "language": "python",
   "name": "python3"
  },
  "language_info": {
   "codemirror_mode": {
    "name": "ipython",
    "version": 3
   },
   "file_extension": ".py",
   "mimetype": "text/x-python",
   "name": "python",
   "nbconvert_exporter": "python",
   "pygments_lexer": "ipython3",
   "version": "3.8.10"
  }
 },
 "nbformat": 4,
 "nbformat_minor": 5
}
