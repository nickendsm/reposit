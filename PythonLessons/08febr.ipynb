{
 "cells": [
  {
   "cell_type": "markdown",
   "id": "4eeef247-723f-405d-b708-dc0a85d42719",
   "metadata": {},
   "source": [
    "### Пример использования библиотеки os"
   ]
  },
  {
   "cell_type": "code",
   "execution_count": 27,
   "id": "55775571-50a1-4baf-aa99-2d2da412acaa",
   "metadata": {},
   "outputs": [],
   "source": [
    "\n",
    "import os\n",
    "# считали файл (не построчно)\n",
    "with open ('описание.txt', 'r', encoding = 'utf-8') as f:\n",
    "    old_data = f.read()\n",
    "stroke = 'NEW_RESULT'\n",
    "# заменили в считанных данных то что нам нужно\n",
    "new_data = old_data.replace('result',stroke)\n",
    "# записали в другой файл новую инфу (не построчно)\n",
    "with open ('описание2.txt', 'w') as f:\n",
    "    f.write(new_data)\n"
   ]
  },
  {
   "cell_type": "markdown",
   "id": "3f7d2c5a-709f-4994-96da-967ce7f4d659",
   "metadata": {},
   "source": [
    "### Решение задачи нахождения всех файлов в текущей директории с расширением txt"
   ]
  },
  {
   "cell_type": "code",
   "execution_count": 29,
   "id": "2a9a5a11-cc90-4c59-8db0-5c2f55866cef",
   "metadata": {},
   "outputs": [
    {
     "name": "stdout",
     "output_type": "stream",
     "text": [
      "описание.txt\n",
      "описание2.txt\n"
     ]
    }
   ],
   "source": [
    "## вывод названия всех файлов с расширением txt\n",
    "import os\n",
    "for file in os.listdir():\n",
    "    if file.endswith(\".txt\"):\n",
    "        print(os.path.join(file))"
   ]
  },
  {
   "cell_type": "markdown",
   "id": "8340820e-69ae-4b9f-8d2d-47ecdb2843ce",
   "metadata": {},
   "source": [
    "### Glob, решение той же задачи но с использованием glob"
   ]
  },
  {
   "cell_type": "code",
   "execution_count": 31,
   "id": "16120955-8188-453f-b38e-d476efdf189b",
   "metadata": {},
   "outputs": [
    {
     "name": "stdout",
     "output_type": "stream",
     "text": [
      "описание.txt\n",
      "описание2.txt\n"
     ]
    }
   ],
   "source": [
    "import glob, os\n",
    "# os.chdir(\"/mydir\") ### заходит в определенную папку, чтобы искать в ней, в данном случае в папку mydir\n",
    "## дальше в этой папке ищем файлы любые с расширением txt\n",
    "for file in glob.glob(\"*.txt\"):\n",
    "    print(file)"
   ]
  },
  {
   "cell_type": "markdown",
   "id": "a8dda7bd-4eb9-41cf-8779-59f4cec05349",
   "metadata": {},
   "source": [
    "## Glob может найти все что угодно"
   ]
  },
  {
   "cell_type": "code",
   "execution_count": 37,
   "id": "8e4b7919-661c-4078-bd66-f374acd18db6",
   "metadata": {},
   "outputs": [
    {
     "name": "stdout",
     "output_type": "stream",
     "text": [
      "srednee-Copy1.ipynb\n",
      "srednee17nov.ipynb\n",
      "srednee20oct.ipynb\n",
      "srednee22nov.ipynb\n",
      "srednee25jan.ipynb\n",
      "srednee29nov.ipynb\n",
      "srednee2nov.ipynb\n",
      "srednee7dec.ipynb\n"
     ]
    }
   ],
   "source": [
    "for file in glob.glob(\"srednee*\"):\n",
    "    print(file)"
   ]
  },
  {
   "cell_type": "code",
   "execution_count": 44,
   "id": "bbd1f85f-5aa0-4257-992c-57439235ca74",
   "metadata": {},
   "outputs": [
    {
     "name": "stdout",
     "output_type": "stream",
     "text": [
      "srednee17nov.ipynb\n",
      "srednee22nov.ipynb\n",
      "srednee29nov.ipynb\n",
      "srednee2nov.ipynb\n"
     ]
    }
   ],
   "source": [
    "for file in glob.glob(\"*nov.ipynb\"):\n",
    "    print(file)"
   ]
  },
  {
   "cell_type": "code",
   "execution_count": 46,
   "id": "3580acc5-b331-4a63-83fb-5546d50463a8",
   "metadata": {},
   "outputs": [
    {
     "name": "stdout",
     "output_type": "stream",
     "text": [
      "results17nov\n",
      "results22nov\n",
      "results29nov\n",
      "results2nov\n",
      "results30nov\n",
      "results3nov\n",
      "srednee17nov.ipynb\n",
      "srednee22nov.ipynb\n",
      "srednee29nov.ipynb\n",
      "srednee2nov.ipynb\n"
     ]
    }
   ],
   "source": [
    "for file in glob.glob(\"*nov*\"):\n",
    "    print(file)"
   ]
  },
  {
   "cell_type": "code",
   "execution_count": 47,
   "id": "779b0dc8-406f-48d5-a872-0b24481f5bce",
   "metadata": {},
   "outputs": [
    {
     "name": "stdout",
     "output_type": "stream",
     "text": [
      "results17nov\n",
      "results22nov\n",
      "results29nov\n",
      "results2nov\n",
      "results30nov\n",
      "results3nov\n"
     ]
    }
   ],
   "source": [
    "for file in glob.glob(\"*nov\"):\n",
    "    print(file)"
   ]
  },
  {
   "cell_type": "markdown",
   "id": "aeb97b10-6468-4e27-b5c9-507fea1f4afc",
   "metadata": {},
   "source": [
    "### Пример функции, производящей усреднее по нескольким файлам"
   ]
  },
  {
   "cell_type": "code",
   "execution_count": 48,
   "id": "b949d891-d7b8-488f-9a44-6848a68ac141",
   "metadata": {},
   "outputs": [],
   "source": [
    "\n",
    "def to_aver(n,m,path,endl): ### n - количество экспериментов, m - количество точек\n",
    "    R = [0 for j in range(m)]\n",
    "    for i in range(n):\n",
    "#         print(i)\n",
    "        file = open(path+'/'+endl+'.txt','r')\n",
    "        for u in file:\n",
    "            uu = u\n",
    "            ind = -1\n",
    "            inn = uu.find(',')\n",
    "            while inn != -1:\n",
    "                ind +=1\n",
    "#                 print(len(uu))\n",
    "                R[ind] += float(uu[:inn])\n",
    "                uu = uu[inn+1:]\n",
    "                inn = uu.find(',')\n",
    "    return [x/n for x in R]"
   ]
  },
  {
   "cell_type": "code",
   "execution_count": null,
   "id": "3d04d3a8-df8e-46bb-b83e-9998ff1cb0a7",
   "metadata": {},
   "outputs": [],
   "source": []
  }
 ],
 "metadata": {
  "kernelspec": {
   "display_name": "Python 3",
   "language": "python",
   "name": "python3"
  },
  "language_info": {
   "codemirror_mode": {
    "name": "ipython",
    "version": 3
   },
   "file_extension": ".py",
   "mimetype": "text/x-python",
   "name": "python",
   "nbconvert_exporter": "python",
   "pygments_lexer": "ipython3",
   "version": "3.8.10"
  }
 },
 "nbformat": 4,
 "nbformat_minor": 5
}
