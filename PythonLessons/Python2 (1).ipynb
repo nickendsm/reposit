{
 "cells": [
  {
   "cell_type": "markdown",
   "metadata": {},
   "source": [
    "# Основные структуры данных языка Python"
   ]
  },
  {
   "cell_type": "markdown",
   "metadata": {},
   "source": [
    "---\n",
    "## Содержание"
   ]
  },
  {
   "cell_type": "markdown",
   "metadata": {},
   "source": [
    "* [Основные структуры данных Python](#Основные-структуры-данных-Python)\n",
    "* [Библиотека datatime для работы датой и временем](#Библиотека-datatime-для-работы-датой-и-временем)\n",
    "* [Функции пользователя. Часть 2](#Функции-пользователя.-Часть-2)\n",
    "* [Приёмы и функции для работы с последовательностями](#Приёмы-и-функции-для-работы-с-последовательностями)"
   ]
  },
  {
   "cell_type": "markdown",
   "metadata": {},
   "source": [
    "___\n",
    "## Основные структуры данных Python\n",
    "\n",
    "В число основных структур данных Python входит:\n",
    "* [кортеж (tuple)](#Кортеж-&#040;tuple&#041;)  \n",
    "* [список (list)](#Список-&#040;list&#041;)  \n",
    "* [словарь (dict)](#Словарь-&#040;dict&#041;)  \n",
    "* [множество (set)](#Множество-&#040;set&#041;)  \n",
    "* [строка (string)](#Строка-&#040;string&#041;)  "
   ]
  },
  {
   "cell_type": "markdown",
   "metadata": {},
   "source": [
    "### Кортеж (tuple)\n",
    "\n",
    "* [Определение, создание, использование кортежа](#Определение,-создание,-использование-кортежа)\n",
    "* [Методы кортежа](#Методы-кортежа)"
   ]
  },
  {
   "cell_type": "markdown",
   "metadata": {},
   "source": [
    "#### Определение, создание, использование кортежа\n",
    "\n",
    "*Кортеж* (*tuple*) в Python – это неизменяемая структура данных, содержащая 0 и более элементов. Элементами кортежа могут быть любые объекты Python, в том числе другие кортежи.\n",
    "\n",
    "Для создания кортежа можно использовать либо литерал `()`, с перечислением через запятую элементов создаваемого кортежа, либо конструктор `tuple()`, которому необходимо передать *итерируемый объект*.\n",
    "\n",
    "Пример:\n",
    "\n",
    "```python \n",
    "t = (1, 2, 3)\n",
    "t = tuple([1, 2, 3])\n",
    "```\n",
    "\n",
    "**(!)** Литерал `()`, на самом деле, не является необходимым. Простое *перечисление через запятую элементов* интерпретируется Python как кортеж. Но использование литерала `()` в большинстве случаев делает текст программы более понятным. Литерал `()` используется при выводе кортежа на печать, в этом случае наличие скобок является признаком того, что выводимый объект является кортежем.\n",
    "\n",
    "Пример:\n",
    "\n",
    "```python \n",
    "t = (1)   # арифметическое выражение, состоящее из единственной константы, равной 1\n",
    "t = (1,)  # кортеж\n",
    "t = 1,    # кортеж\n",
    "```\n",
    "\n",
    "**(!)** Кортеж является *неизменяемой* (*immutable*) структурой данных. Это значит, что попытка изменить кортеж закончится сообщением об ошибке. Тем не менее, элементами кортежа могут быть изменяемые объекты, изменение которых не приведёт к возникновению ошибки.\n",
    "\n",
    "Пример:\n",
    "\n",
    "```python\n",
    "x = (1, 1)    # этот кортеж изменить нельзя, т.к. все его элементы неизменяемые\n",
    "x[0] = 0      # попытка изменить первый элемент кортежа закончится сообщением об ошибке \n",
    "\n",
    "x = ([1], 1)  # первый элемент кортежа - это список - изменяемые тип\n",
    "x[0][0] = 0   # в результате изменения первого элемента списка кортеж примет вид ([0], 1) \n",
    "```\n",
    "\n",
    "**(!)** Если результатом выражения является кортеж, то значения элементов кортежа можно присвоить списку переменных. Такая операция называется *распаковкой кортежа*. При этом важно, чтобы количество переменных слева соответствовало количеству элементов распаковываемого кортежа.\n",
    "\n",
    "Пример:\n",
    "\n",
    "```python\n",
    "x, y = (1, 2) # в результате переменные x и y получат значения 1 и 2 соответственно\n",
    "```\n"
   ]
  },
  {
   "cell_type": "markdown",
   "metadata": {},
   "source": [
    "([к началу раздела 'Основные структуры данных Python'](#Основные-структуры-данных-Python))  \n",
    "([к содержанию](#Содержание))"
   ]
  },
  {
   "cell_type": "code",
   "execution_count": 1,
   "metadata": {},
   "outputs": [
    {
     "name": "stdout",
     "output_type": "stream",
     "text": [
      "(1, 2, 3)\n",
      "<class 'tuple'>\n"
     ]
    }
   ],
   "source": [
    "# Создание кортежа.\n",
    "\n",
    "x = (1, 2, 3)  # круглые скобки выполняют декоративную функцию\n",
    "\n",
    "print(x)\n",
    "print(type(x))"
   ]
  },
  {
   "cell_type": "code",
   "execution_count": 64,
   "metadata": {},
   "outputs": [
    {
     "name": "stdout",
     "output_type": "stream",
     "text": [
      "(1,)\n",
      "<class 'tuple'>\n"
     ]
    }
   ],
   "source": [
    "# Создание кортежа.\n",
    "\n",
    "x = 1, 2, 3  # отсутствие круглых скобок не влияет на результат\n",
    "\n",
    "print(x)\n",
    "print(type(x))"
   ]
  },
  {
   "cell_type": "code",
   "execution_count": 65,
   "metadata": {},
   "outputs": [
    {
     "name": "stdout",
     "output_type": "stream",
     "text": [
      "(1, 2, 3)\n",
      "<class 'tuple'>\n"
     ]
    }
   ],
   "source": [
    "# Создание кортежа.\n",
    "\n",
    "x = tuple((1, 2, 3))  # создание кортежа с применением конструктора, \n",
    "                      # на вход которого передаётся итерируемый объект - другой кортеж\n",
    "print(x)\n",
    "print(type(x))"
   ]
  },
  {
   "cell_type": "code",
   "execution_count": 69,
   "metadata": {},
   "outputs": [
    {
     "name": "stdout",
     "output_type": "stream",
     "text": [
      "1\n",
      "<class 'tuple'>\n"
     ]
    }
   ],
   "source": [
    "# Создание кортежа.\n",
    "\n",
    "x = tuple([1, 2, 3])  # создание кортежа с применением конструктора, \n",
    "                      # на вход которого передаётся итерируемый объект - список\n",
    "print(x[0])\n",
    "print(type(x))"
   ]
  },
  {
   "cell_type": "code",
   "execution_count": 70,
   "metadata": {},
   "outputs": [
    {
     "name": "stdout",
     "output_type": "stream",
     "text": [
      "123\n",
      "<class 'str'>\n"
     ]
    }
   ],
   "source": [
    "# Создание кортежа.\n",
    "\n",
    "x = ('123')  # наличие скобок недостаточно для создания кортежа, \n",
    "             # в результате операции будет создана строка\n",
    "print(x)\n",
    "print(type(x))"
   ]
  },
  {
   "cell_type": "code",
   "execution_count": 71,
   "metadata": {},
   "outputs": [
    {
     "name": "stdout",
     "output_type": "stream",
     "text": [
      "('123',)\n",
      "<class 'tuple'>\n"
     ]
    }
   ],
   "source": [
    "# Создание кортежа.\n",
    "\n",
    "x = ('123', )  # наличие запятой приводит к созданию кортежа\n",
    "\n",
    "print(x)\n",
    "print(type(x))"
   ]
  },
  {
   "cell_type": "code",
   "execution_count": 205,
   "metadata": {},
   "outputs": [
    {
     "name": "stdout",
     "output_type": "stream",
     "text": [
      "('1', '2', '3')\n",
      "<class 'tuple'>\n"
     ]
    }
   ],
   "source": [
    "# Создание кортежа.\n",
    "\n",
    "x = tuple('123')  # использование строки (итерируемого объекта) совместно с конструктором кортежа\n",
    "                  # приводит к созданию кортежа, состоящего из символов строки\n",
    "print(x)\n",
    "print(type(x))"
   ]
  },
  {
   "cell_type": "code",
   "execution_count": 206,
   "metadata": {},
   "outputs": [
    {
     "name": "stdout",
     "output_type": "stream",
     "text": [
      "1\n",
      "(2, 3)\n",
      "(4, 5, 6)\n"
     ]
    }
   ],
   "source": [
    "# Распаковка кортежа.\n",
    "\n",
    "x, y, z = (1, (2, 3), (4, 5, 6))\n",
    "\n",
    "print(x)\n",
    "print(y)\n",
    "print(z)"
   ]
  },
  {
   "cell_type": "code",
   "execution_count": 207,
   "metadata": {},
   "outputs": [],
   "source": [
    "# Распаковка кортежа.\n",
    "\n",
    "# x, y = (1, (2, 3), (4, 5, 6))  # ошибка: кол-во элементов слева не равно количеству элементов справа\n",
    "\n",
    "# ---------------------------------------------------------------------------\n",
    "# ValueError                                Traceback (most recent call last)\n",
    "# <ipython-input-71-5817a656ad46> in <module>()\n",
    "#       1 # Распаковка кортежа.\n",
    "#       2 \n",
    "# ----> 3 x, y = (1, (2, 3), (4, 5, 6))  # ошибка: кол-во элементов слева не равно количеству элементов справа\n",
    "#       4 \n",
    "#       5 print(x)\n",
    "\n",
    "# ValueError: too many values to unpack (expected 2)"
   ]
  },
  {
   "cell_type": "code",
   "execution_count": 208,
   "metadata": {},
   "outputs": [
    {
     "name": "stdout",
     "output_type": "stream",
     "text": [
      "(1, (2, 3), (4, 5, 6))\n"
     ]
    }
   ],
   "source": [
    "# Распаковка кортежа.\n",
    "\n",
    "x = (1, (2, 3), (4, 5, 6))  # слева от знака равенства находится один объект, \n",
    "                            # поэтому вместо распаковки весь кортеж присваивается переменной x   \n",
    "print(x)"
   ]
  },
  {
   "cell_type": "code",
   "execution_count": 209,
   "metadata": {},
   "outputs": [
    {
     "name": "stdout",
     "output_type": "stream",
     "text": [
      "2\n",
      "1\n"
     ]
    }
   ],
   "source": [
    "# Распаковка кортежа для решения задачи об обмене значений переменных.\n",
    "\n",
    "x = 1  # требуется выполнить операцию обмена значений переменных, в результате которой \n",
    "y = 2  # значение переменной x окажется в переменной y, а значение переменной y в переменной x\n",
    "\n",
    "# t = x  # классический вариант решения задачи предполагает использование вспомогательной переменной t\n",
    "# x = y\n",
    "# y = t\n",
    "\n",
    "x, y = y, x  # решение задачи с помощью операции распаковки кортежей \n",
    "\n",
    "print(x)\n",
    "print(y)"
   ]
  },
  {
   "cell_type": "code",
   "execution_count": 210,
   "metadata": {},
   "outputs": [
    {
     "name": "stdout",
     "output_type": "stream",
     "text": [
      "(1, 2, 3)\n",
      "1\n",
      "2\n",
      "3\n"
     ]
    }
   ],
   "source": [
    "# Распаковка кортежа.\n",
    "\n",
    "def my_fun():\n",
    "    return 1, 2, 3   # функция возвращает кортеж из трёх элементов\n",
    "\n",
    "t = my_fun()         # сохранение возвращаемого функцией результата в одной переменной\n",
    "x, y, z = my_fun()   # распаковка возвращаемого функцией результата в три переменные\n",
    "\n",
    "print(t)\n",
    "\n",
    "print(x)\n",
    "print(y)\n",
    "print(z)"
   ]
  },
  {
   "cell_type": "markdown",
   "metadata": {},
   "source": [
    "#### Методы кортежа\n",
    "* `count(value)` - возвращает количество вхождений элемента `value` в кортеж\n",
    "* `index(value, [start, [stop]])` - возвращает индекс первого вхождения элемента `value` в кортеж, поиск ведётся в границах `[start, stop)`, по умолчанию поиск ведётся во всём кортеже, если элемент не найден, то выдаётся сообщение об ошибке `ValueError`"
   ]
  },
  {
   "cell_type": "code",
   "execution_count": 72,
   "metadata": {},
   "outputs": [
    {
     "name": "stdout",
     "output_type": "stream",
     "text": [
      "(1, 2, 3, 2, 1)\n",
      "2\n"
     ]
    }
   ],
   "source": [
    "# Методы кортежа.\n",
    "\n",
    "x = (1,2,3,2,1)\n",
    "print(x)\n",
    "\n",
    "print(x.count(2))"
   ]
  },
  {
   "cell_type": "code",
   "execution_count": 73,
   "metadata": {},
   "outputs": [
    {
     "name": "stdout",
     "output_type": "stream",
     "text": [
      "(1, 2, 3, 2, 1)\n",
      "0\n",
      "4\n"
     ]
    }
   ],
   "source": [
    "# Методы кортежа.\n",
    "\n",
    "x = (1,2,3,2,1)\n",
    "print(x)\n",
    "\n",
    "print(x.index(1))         # возвращает значение 0 - индекс первого вхождения элемента 1\n",
    "print(x.index(1, 1))      # возвращает значение 4 - индекс второго вхождения элемента 1\n",
    "# print(x.index(1, 1, 4)) # ошибка ValueError - в диапазоне [1, 4) нет элемента 1\n",
    "# print(x.index(5))       # ошибка ValueError - в кортеже нет элемента 5"
   ]
  },
  {
   "cell_type": "markdown",
   "metadata": {},
   "source": [
    "([к началу раздела 'Основные структуры данных Python'](#Основные-структуры-данных-Python))  \n",
    "([к содержанию](#Содержание))"
   ]
  },
  {
   "cell_type": "markdown",
   "metadata": {},
   "source": [
    "___\n",
    "### Список (list)\n",
    "\n",
    "* [Определение, создание, использование списка](#Определение,-создание,-использование-списка)\n",
    "* [Методы списка](#Методы-списка)"
   ]
  },
  {
   "cell_type": "markdown",
   "metadata": {},
   "source": [
    "#### Определение, создание, использование списка\n",
    "\n",
    "*Список* (*list*) в Python - упорядоченная изменяемая коллекция объектов произвольных типов.\n",
    "\n",
    "Для создания списка можно использовать литерал `[]` с перечислением через запятую элементов списка или конструктор `list()`, на вход которого подаётся итерируемый объект. В последнем случае конструктор создаст список из элементов итерируемого объекта.\n",
    "\n",
    "Пример:\n",
    "\n",
    "```python \n",
    "t = [1, 2, 3]\n",
    "t = list((1, 2, 3))\n",
    "```"
   ]
  },
  {
   "cell_type": "code",
   "execution_count": 3,
   "metadata": {},
   "outputs": [
    {
     "name": "stdout",
     "output_type": "stream",
     "text": [
      "[1, 'dsf', 3]\n",
      "<class 'list'>\n"
     ]
    }
   ],
   "source": [
    "# Создание списка.\n",
    "\n",
    "x = [1, \"dsf\", 3]\n",
    "\n",
    "print(x)\n",
    "print(type(x))"
   ]
  },
  {
   "cell_type": "code",
   "execution_count": 76,
   "metadata": {},
   "outputs": [
    {
     "name": "stdout",
     "output_type": "stream",
     "text": [
      "[1, 2, 3]\n",
      "<class 'list'>\n"
     ]
    }
   ],
   "source": [
    "# Создание списка.\n",
    "t = (1, 2, 3)\n",
    "\n",
    "x = list(t) # создание списка из итерируемого объекта\n",
    "\n",
    "print(x)\n",
    "print(type(x))"
   ]
  },
  {
   "cell_type": "code",
   "execution_count": 80,
   "metadata": {},
   "outputs": [
    {
     "name": "stdout",
     "output_type": "stream",
     "text": [
      "[1, [2, 3], (4, 5, 6)]\n",
      "<class 'list'>\n"
     ]
    },
    {
     "data": {
      "text/plain": [
       "3"
      ]
     },
     "execution_count": 80,
     "metadata": {},
     "output_type": "execute_result"
    }
   ],
   "source": [
    "# Создание списка.\n",
    "\n",
    "x = [1, [2, 3], (4, 5, 6)]  # список может содержать объекты произвольных типов\n",
    "\n",
    "print(x)\n",
    "print(type(x))\n",
    "x[1][1]"
   ]
  },
  {
   "cell_type": "code",
   "execution_count": 5,
   "metadata": {},
   "outputs": [
    {
     "name": "stdout",
     "output_type": "stream",
     "text": [
      "[1, 2]\n",
      "[2, 1]\n"
     ]
    }
   ],
   "source": [
    "# Изменение элементов списка.\n",
    "\n",
    "x = [1, 2]\n",
    "print(x)\n",
    "\n",
    "x[0] = 2\n",
    "x[1] = 1\n",
    "print(x)"
   ]
  },
  {
   "cell_type": "code",
   "execution_count": 81,
   "metadata": {},
   "outputs": [
    {
     "name": "stdout",
     "output_type": "stream",
     "text": [
      "[1, 2]\n",
      "[1]\n"
     ]
    }
   ],
   "source": [
    "# Удаление элементов списка.\n",
    "\n",
    "x = [1, 2]\n",
    "print(x)\n",
    "\n",
    "del(x[1])\n",
    "print(x)"
   ]
  },
  {
   "cell_type": "markdown",
   "metadata": {},
   "source": [
    "([к началу раздела 'Основные структуры данных Python'](#Основные-структуры-данных-Python))  \n",
    "([к содержанию](#Содержание))"
   ]
  },
  {
   "cell_type": "markdown",
   "metadata": {},
   "source": [
    "#### Методы списка\n",
    "\n",
    "* `append(object)` - добавляет объект `object` в конец списка\n",
    "* `clear()` - удаляет все элементы списка\n",
    "* `copy()` - создаёт копию списка\n",
    "* `count(value)` - возвращает количество вхождений элемента `value` в список\n",
    "* `extend(object)` - добавляет в конец списка элементы другого итерируемого объекта `object`\n",
    "* `index(value, [start, [stop]])` - возвращает индекс первого вхождения элемента `value` в список\n",
    "* `insert(index, object)` - вставляет объект `object` в список перед элементом с номером `index`\n",
    "* `pop([index])` - возвращает элемент списка с индексом `index` (по умолчанию последний элемент) и удаляет его из списка\n",
    "* `remove(value)` - удаляет элемент `value` (первое вхождение) из списка\n",
    "* `reverse()` - меняет порядок элементов списка на противоположный\n",
    "* `sort(key=None, reverse=False)` - сортирует элементы списка"
   ]
  },
  {
   "cell_type": "code",
   "execution_count": 87,
   "metadata": {},
   "outputs": [
    {
     "name": "stdout",
     "output_type": "stream",
     "text": [
      "[1, 2, 3, 5, 6, 7]\n"
     ]
    }
   ],
   "source": [
    "a = [1,2,3]\n",
    "b = [5,6,7]\n",
    "a.extend(b)\n",
    "print(a)"
   ]
  },
  {
   "cell_type": "code",
   "execution_count": 38,
   "metadata": {},
   "outputs": [
    {
     "name": "stdout",
     "output_type": "stream",
     "text": [
      "['qwe', 'asd', 'adasd']\n"
     ]
    }
   ],
   "source": [
    "def byLength(someList):\n",
    "    return someList[0]\n",
    "a = [\"asd\", \"adasd\", \"qwe\"]\n",
    "a.sort(key = byLength, reverse = True)\n",
    "print(a)"
   ]
  },
  {
   "cell_type": "code",
   "execution_count": 22,
   "metadata": {},
   "outputs": [
    {
     "name": "stdout",
     "output_type": "stream",
     "text": [
      "5\n"
     ]
    }
   ],
   "source": [
    "a = 5\n",
    "b = a\n",
    "a = a+1\n",
    "print(b)"
   ]
  },
  {
   "cell_type": "code",
   "execution_count": 20,
   "metadata": {},
   "outputs": [
    {
     "name": "stdout",
     "output_type": "stream",
     "text": [
      "[1, 2]\n",
      "[1, 2, 3]\n",
      "[1, 2, 3, 5]\n"
     ]
    }
   ],
   "source": [
    "# Методы списка.\n",
    "x = [1, 2]\n",
    "print(x)\n",
    "\n",
    "x.append(3)\n",
    "print(x)"
   ]
  },
  {
   "cell_type": "code",
   "execution_count": 219,
   "metadata": {},
   "outputs": [
    {
     "name": "stdout",
     "output_type": "stream",
     "text": [
      "[1, 2]\n",
      "[]\n"
     ]
    }
   ],
   "source": [
    "# Методы списка.\n",
    "\n",
    "x = [1, 2]\n",
    "print(x)\n",
    "\n",
    "x.clear()\n",
    "print(x)"
   ]
  },
  {
   "cell_type": "code",
   "execution_count": 220,
   "metadata": {},
   "outputs": [
    {
     "name": "stdout",
     "output_type": "stream",
     "text": [
      "[1, 2, 3]\n",
      "[1, 2, 3]\n",
      "[1, 2]\n"
     ]
    }
   ],
   "source": [
    "# Методы списка.\n",
    "\n",
    "x = [1, 2]\n",
    "y = x         # объект y связан с объектом x\n",
    "z = x.copy()  # объект z является копией объекта x и более с ним не связан\n",
    "\n",
    "x.append(3)   # изменение объекта x приводит к изменению объекта y\n",
    "\n",
    "print(x)\n",
    "print(y)\n",
    "print(z)"
   ]
  },
  {
   "cell_type": "code",
   "execution_count": 221,
   "metadata": {},
   "outputs": [
    {
     "name": "stdout",
     "output_type": "stream",
     "text": [
      "[1, 2, 3]\n",
      "[1, 2]\n"
     ]
    }
   ],
   "source": [
    "# Методы списка. (!)\n",
    "\n",
    "x = [1, 2]\n",
    "y = x[:]     # y будет ссылаться на копию списка x\n",
    "\n",
    "x.append(3)  # изменение в спике x не отражаются на списке y \n",
    "\n",
    "print(x)\n",
    "print(y)"
   ]
  },
  {
   "cell_type": "code",
   "execution_count": 88,
   "metadata": {},
   "outputs": [
    {
     "name": "stdout",
     "output_type": "stream",
     "text": [
      "[1, 2, 1, 2, 1]\n",
      "3\n",
      "2\n"
     ]
    }
   ],
   "source": [
    "# Методы списка.\n",
    "\n",
    "x = [1, 2, 1, 2, 1]\n",
    "print(x)\n",
    "\n",
    "print(x.count(1))\n",
    "print(x.count(2))"
   ]
  },
  {
   "cell_type": "code",
   "execution_count": 223,
   "metadata": {},
   "outputs": [
    {
     "name": "stdout",
     "output_type": "stream",
     "text": [
      "[1, 2, 3]\n",
      "[1, 2, 3, 4, 5, 6]\n"
     ]
    }
   ],
   "source": [
    "# Методы списка.\n",
    "\n",
    "x = [1, 2, 3]\n",
    "t = [4, 5, 6]\n",
    "print(x)\n",
    "\n",
    "x.extend(t)\n",
    "print(x)"
   ]
  },
  {
   "cell_type": "code",
   "execution_count": 224,
   "metadata": {},
   "outputs": [
    {
     "name": "stdout",
     "output_type": "stream",
     "text": [
      "[1, 2, 3, 2, 1]\n",
      "0\n",
      "4\n"
     ]
    }
   ],
   "source": [
    "# Методы списка.\n",
    "\n",
    "x = [1, 2, 3, 2, 1]\n",
    "print(x)\n",
    "\n",
    "print(x.index(1))         # возвращает значение 0 - индекс первого вхождения элемента 1\n",
    "print(x.index(1, 1))      # возвращает значение 4 - индекс второго вхождения элемента 1\n",
    "# print(x.index(1, 1, 4)) # ошибка ValueError - в диапазоне [1, 4) нет элемента 1\n",
    "# print(x.index(5))       # ошибка ValueError - в кортеже нет элемента 5"
   ]
  },
  {
   "cell_type": "code",
   "execution_count": 225,
   "metadata": {},
   "outputs": [
    {
     "name": "stdout",
     "output_type": "stream",
     "text": [
      "[1, 3]\n",
      "[1, [2], 3]\n"
     ]
    }
   ],
   "source": [
    "# Методы списка.\n",
    "\n",
    "x = [1, 3]\n",
    "print(x)\n",
    "\n",
    "x.insert(1, [2])\n",
    "print(x)"
   ]
  },
  {
   "cell_type": "code",
   "execution_count": 90,
   "metadata": {},
   "outputs": [
    {
     "name": "stdout",
     "output_type": "stream",
     "text": [
      "3\n",
      "[1, 2]\n"
     ]
    }
   ],
   "source": [
    "# Методы списка.\n",
    "\n",
    "x = [1, 2, 3]\n",
    "a = x.pop()\n",
    "\n",
    "print(a)\n",
    "print(x)"
   ]
  },
  {
   "cell_type": "code",
   "execution_count": 227,
   "metadata": {},
   "outputs": [
    {
     "name": "stdout",
     "output_type": "stream",
     "text": [
      "[1, 2, 3]\n",
      "1\n",
      "[2, 3]\n"
     ]
    }
   ],
   "source": [
    "# Методы списка.\n",
    "\n",
    "x = [1, 2, 3]\n",
    "print(x)\n",
    "\n",
    "print(x.pop(0))\n",
    "print(x)"
   ]
  },
  {
   "cell_type": "code",
   "execution_count": 94,
   "metadata": {},
   "outputs": [
    {
     "name": "stdout",
     "output_type": "stream",
     "text": [
      "[1, 2, 3, 1, 2, 3]\n",
      "[1, 2, 1, 2, 3]\n"
     ]
    }
   ],
   "source": [
    "# Методы списка.\n",
    "\n",
    "x = [1, 2, 3, 1, 2, 3]\n",
    "print(x)\n",
    "\n",
    "x.remove(3)\n",
    "print(x)"
   ]
  },
  {
   "cell_type": "code",
   "execution_count": 97,
   "metadata": {},
   "outputs": [
    {
     "name": "stdout",
     "output_type": "stream",
     "text": [
      "[1, 2, 3]\n",
      "[3, 2, 1]\n"
     ]
    }
   ],
   "source": [
    "# Методы списка.\n",
    "\n",
    "x = [1, 2, 3]\n",
    "print(x)\n",
    "\n",
    "x.reverse()\n",
    "print(x)"
   ]
  },
  {
   "cell_type": "code",
   "execution_count": 98,
   "metadata": {},
   "outputs": [
    {
     "name": "stdout",
     "output_type": "stream",
     "text": [
      "[1, 2, 3]\n",
      "<list_reverseiterator object at 0x00000138F548C8C8>\n",
      "[3, 2, 1]\n"
     ]
    }
   ],
   "source": [
    "# Методы списка (альтернатива методу reverse)\n",
    "\n",
    "t = [1, 2, 3]\n",
    "print(t)\n",
    "\n",
    "x = reversed(t)  # встроенная функция reversed() - возвращает итератор, \n",
    "                 # позволяющий перебрать элементы объекта в обратном порядке\n",
    "print(x)\n",
    "print(list(x))   # \"материализация\" итератора"
   ]
  },
  {
   "cell_type": "code",
   "execution_count": 103,
   "metadata": {},
   "outputs": [
    {
     "name": "stdout",
     "output_type": "stream",
     "text": [
      "['qwe', 'zxcz', 'asdsd']\n",
      "['asdsd', 'qwe', 'zxcz']\n",
      "['zxcz', 'qwe', 'asdsd']\n"
     ]
    }
   ],
   "source": [
    "# Методы списка.\n",
    "x = [\"qwe\", \"zxcz\", \"asdsd\"]\n",
    "print(x)\n",
    "\n",
    "x.sort()\n",
    "print(x)\n",
    "\n",
    "x.sort(reverse = True)\n",
    "print(x)"
   ]
  },
  {
   "cell_type": "code",
   "execution_count": 232,
   "metadata": {},
   "outputs": [
    {
     "name": "stdout",
     "output_type": "stream",
     "text": [
      "[2, 3, 1]\n",
      "[1, 2, 3]\n",
      "[3, 2, 1]\n"
     ]
    }
   ],
   "source": [
    "# Методы списка (альтернатива методу sort).\n",
    "\n",
    "t = [2, 3, 1]\n",
    "print(t)\n",
    "\n",
    "x = sorted(t)  # встроенная функция sorted() возвращает список, упорядоченный в порядке возрастания/убывания\n",
    "print(x)\n",
    "\n",
    "x = sorted(t, reverse=True)\n",
    "print(x)"
   ]
  },
  {
   "cell_type": "code",
   "execution_count": 233,
   "metadata": {},
   "outputs": [
    {
     "name": "stdout",
     "output_type": "stream",
     "text": [
      "['list', 'touple', 'dict', 'set']\n",
      "['dict', 'list', 'set', 'touple']\n",
      "['set', 'dict', 'list', 'touple']\n"
     ]
    }
   ],
   "source": [
    "# Методы списка.\n",
    "\n",
    "x = ['list', 'touple', 'dict', 'set']\n",
    "print(x)\n",
    "\n",
    "x.sort()         # лексикографическая сортировка (по алфавиту)\n",
    "print(x)\n",
    "\n",
    "x.sort(key=len)  # сортировка по длине строки\n",
    "print(x)"
   ]
  },
  {
   "cell_type": "code",
   "execution_count": 234,
   "metadata": {},
   "outputs": [
    {
     "name": "stdout",
     "output_type": "stream",
     "text": [
      "['list', 'touple', 'dict', 'set']\n",
      "['set', 'list', 'dict', 'touple']\n"
     ]
    }
   ],
   "source": [
    "# Методы списка.\n",
    "\n",
    "x = ['list', 'touple', 'dict', 'set']\n",
    "print(x)\n",
    "\n",
    "def get_len(x):\n",
    "    return(len(x))\n",
    "\n",
    "x.sort(key=get_len)  # сортировка с использованием заданной функции сравнения\n",
    "print(x)"
   ]
  },
  {
   "cell_type": "markdown",
   "metadata": {},
   "source": [
    "([к началу раздела 'Основные структуры данных Python'](#Основные-структуры-данных-Python))  \n",
    "([к содержанию](#Содержание))"
   ]
  },
  {
   "cell_type": "markdown",
   "metadata": {},
   "source": [
    "___\n",
    "### Словарь (dict)\n",
    "\n",
    "\n",
    "* [Определение, создание, использование словаря](#Определение,-создание,-использование-словаря)\n",
    "* [Методы словаря](#Методы-словаря)"
   ]
  },
  {
   "cell_type": "markdown",
   "metadata": {},
   "source": [
    "#### Определение, создание, использование словаря\n",
    "\n",
    "*Словарь* (*dict*) в Python - неупорядоченная коллекция произвольных объектов с *доступом по ключу* (другое название словаря - *ассоциативный массив* или *хеш-таблица*). Словарь является изменяемым объектом.\n",
    "\n",
    "Для создания словаря можно использовать литерал `{}` с перечислением через запятую пар *Ключ:Значение* или конструктор `dict()`, на вход которого подётся итерируемый объект, содержащий пары *Ключ:Значение*.\n",
    "\n",
    "Пример:\n",
    "\n",
    "```python \n",
    "d = {1: 'one', 2: 'two'}\n",
    "d = dict([(1, 'one'), (2, 'two')])\n",
    "```\n",
    "\n",
    "**(!)** Ключом словаря может быть любой *хешируемый* (неизменяемый) объект, например, число, строка, кортеж. Список является изменяемым объектом и поэтому не может использоваться в качестве ключа."
   ]
  },
  {
   "cell_type": "code",
   "execution_count": 235,
   "metadata": {},
   "outputs": [
    {
     "name": "stdout",
     "output_type": "stream",
     "text": [
      "{1: 'one', 2: 'two'}\n",
      "<class 'dict'>\n"
     ]
    }
   ],
   "source": [
    "# Создание словаря.\n",
    "\n",
    "x = {1: 'one', 2: 'two'}\n",
    "\n",
    "print(x)\n",
    "print(type(x))"
   ]
  },
  {
   "cell_type": "code",
   "execution_count": 236,
   "metadata": {},
   "outputs": [
    {
     "name": "stdout",
     "output_type": "stream",
     "text": [
      "{'one': 1, 'two': 2}\n",
      "<class 'dict'>\n"
     ]
    }
   ],
   "source": [
    "# Создание словаря.\n",
    "\n",
    "x = {'one': 1, 'two': 2}\n",
    "\n",
    "print(x)\n",
    "print(type(x))"
   ]
  },
  {
   "cell_type": "code",
   "execution_count": 237,
   "metadata": {},
   "outputs": [
    {
     "name": "stdout",
     "output_type": "stream",
     "text": [
      "{'one': 1, 'two': 2}\n",
      "<class 'dict'>\n"
     ]
    }
   ],
   "source": [
    "# Создание словаря.\n",
    "\n",
    "t = [('one', 1), ('two', 2)]\n",
    "\n",
    "x = dict(t)  # создание словаря из списка кортежей\n",
    "\n",
    "print(x)\n",
    "print(type(x))"
   ]
  },
  {
   "cell_type": "code",
   "execution_count": 238,
   "metadata": {},
   "outputs": [
    {
     "name": "stdout",
     "output_type": "stream",
     "text": [
      "{'one': 1, 'two': 2}\n",
      "<class 'dict'>\n"
     ]
    }
   ],
   "source": [
    "# Создание словаря.\n",
    "\n",
    "t = {'one': 1, 'two': 2}\n",
    "\n",
    "x = dict(t)  # создание словаря из друго словаря\n",
    "\n",
    "print(x)\n",
    "print(type(x))"
   ]
  },
  {
   "cell_type": "code",
   "execution_count": 239,
   "metadata": {},
   "outputs": [
    {
     "name": "stdout",
     "output_type": "stream",
     "text": [
      "{}\n",
      "{'one': 1, 2: 'two', (1, 2): ['tuple', 'list', 'dict', 'set']}\n"
     ]
    }
   ],
   "source": [
    "# Наполнение словаря.\n",
    "\n",
    "x = dict()\n",
    "print(x)\n",
    "\n",
    "x['one'] = 1\n",
    "x[2] = 'two'\n",
    "x[(1,2)] = ['tuple', 'list', 'dict', 'set']\n",
    "\n",
    "# x[[3,4]] = 'list'  # ошибка: TypeError - список не является хешируемым объектом, \n",
    "                     # поэтому не может использоваться в качестве ключа\n",
    "print(x)"
   ]
  },
  {
   "cell_type": "code",
   "execution_count": 240,
   "metadata": {},
   "outputs": [
    {
     "name": "stdout",
     "output_type": "stream",
     "text": [
      "{'one': None, 'two': None}\n",
      "{'one': 1, 'two': 2}\n"
     ]
    }
   ],
   "source": [
    "# Изменение элементов словаря.\n",
    "\n",
    "x = {'one': None, 'two': None}\n",
    "print(x)\n",
    "\n",
    "x['one'] = 1\n",
    "x['two'] = 2\n",
    "print(x)"
   ]
  },
  {
   "cell_type": "code",
   "execution_count": 241,
   "metadata": {},
   "outputs": [
    {
     "name": "stdout",
     "output_type": "stream",
     "text": [
      "{'one': 1, 'two': 2}\n",
      "{'one': 1}\n"
     ]
    }
   ],
   "source": [
    "# Удаление элементов словаря.\n",
    "\n",
    "x = {'one': 1, 'two': 2}\n",
    "print(x)\n",
    "\n",
    "del(x['two']) \n",
    "print(x)"
   ]
  },
  {
   "cell_type": "code",
   "execution_count": 242,
   "metadata": {},
   "outputs": [
    {
     "name": "stdout",
     "output_type": "stream",
     "text": [
      "1\n"
     ]
    }
   ],
   "source": [
    "# Поииск значения словаря по ключу.\n",
    "\n",
    "x = {'one': 1}\n",
    "\n",
    "print(x['one'])\n",
    "\n",
    "# print(x['two'])  # ошибка KeyError - в словаре нетэлемента с ключом 'two'"
   ]
  },
  {
   "cell_type": "markdown",
   "metadata": {},
   "source": [
    "([к началу раздела 'Основные структуры данных Python'](#Основные-структуры-данных-Python))  \n",
    "([к содержанию](#Содержание))"
   ]
  },
  {
   "cell_type": "markdown",
   "metadata": {},
   "source": [
    "#### Методы словаря\n",
    "* `clear()` - очищает словарь \n",
    "* `copy()` - создаёт копию словаря\n",
    "* `fromkeys(k,[v])` - вспомогательный метод, позволяющий создать словарь из последовательности `k`; если `v` задано, то все ключи будут иметь значение `v`  \n",
    "* `get(k,[v])` - возвращает значение словаря, соответствующее ключу `k`, если ключа нет, то возвращает значение `v`, по умолчанию `None`\n",
    "* `setdefault(k, [v])` - возвращает значение словаря для ключа `k`, если ключ отсутствует, присваивает ключу значение `v` и возвращает его  \n",
    "* `pop(k)` - возвращает значение словаря, соответствующее ключу `k`, и удаляет его из словаря\n",
    "* `popitem()` - удаляет и возвращает произвольный элемент словаря в виде пары `(Key, Value)`, если словарь пуст, генерируется ошибка\n",
    "* `update(E)` - обновляет словарь на основе содержимого объекта `E`, где `E` - либо словарь, либо итерируемый объект, содержащий пары `(Key, Value)`  \n",
    "\n",
    "\n",
    "* `keys()` - возвращает список ключей словаря\n",
    "* `values()` - возвращает список значений словаря  \n",
    "* `items()` - возвращает список кортежей вида `(Key, Value)`  \n",
    "\n",
    "**(!)** Методы `keys()` и `values()` возвращают неупорядоченные, но согласованы между собой, списки.\n",
    "\n",
    "**(!)** Методы `item()`, `keys()` и `values()`, начиная с третьей версии Python, возвращают не списки, а специальные объекты - представления (views), позволяющие осуществлять перебор элементов и динамически отражать изменения, происходящие в словаре."
   ]
  },
  {
   "cell_type": "code",
   "execution_count": 243,
   "metadata": {},
   "outputs": [
    {
     "name": "stdout",
     "output_type": "stream",
     "text": [
      "{'one': 1, 'two': 2}\n",
      "{}\n"
     ]
    }
   ],
   "source": [
    "# Методы словаря.\n",
    "\n",
    "x = {'one': 1, 'two': 2}\n",
    "print(x)\n",
    "\n",
    "x.clear()\n",
    "print(x)"
   ]
  },
  {
   "cell_type": "code",
   "execution_count": 244,
   "metadata": {},
   "outputs": [
    {
     "name": "stdout",
     "output_type": "stream",
     "text": [
      "{'one': 1, 'two': 2}\n",
      "{'one': 1, 'two': 2}\n",
      "{'one': 1}\n"
     ]
    }
   ],
   "source": [
    "# Методы словаря.\n",
    "\n",
    "x = {'one': 1}\n",
    "y = x         # объект y связан с объектом x\n",
    "z = x.copy()  # объект z является копией объекта x и более с ним не связан\n",
    "\n",
    "x['two'] = 2  # изменение объекта x отражается на объекте y\n",
    "print(x)\n",
    "print(y)\n",
    "print(z)"
   ]
  },
  {
   "cell_type": "code",
   "execution_count": 245,
   "metadata": {},
   "outputs": [
    {
     "name": "stdout",
     "output_type": "stream",
     "text": [
      "{'one': None, 'two': None, 'ten': None}\n",
      "{'one': 1, 'two': 1, 'ten': 1}\n"
     ]
    }
   ],
   "source": [
    "# Методы словаря.\n",
    "\n",
    "t = ['one', 'two', 'ten']\n",
    "\n",
    "x = dict.fromkeys(t)\n",
    "print(x)\n",
    "\n",
    "x = dict.fromkeys(t, 1)\n",
    "print(x)"
   ]
  },
  {
   "cell_type": "code",
   "execution_count": 246,
   "metadata": {},
   "outputs": [
    {
     "name": "stdout",
     "output_type": "stream",
     "text": [
      "{'one': [], 'two': [], 'ten': []}\n",
      "{'one': [1], 'two': [1], 'ten': [1]}\n"
     ]
    }
   ],
   "source": [
    "# Методы словаря. (!)\n",
    "\n",
    "t = ['one', 'two', 'ten']\n",
    "\n",
    "x = dict.fromkeys(t, [])  # Получим словарь, у которого все значения будут совпадать. \n",
    "print(x)\n",
    "\n",
    "x['one'].append(1)\n",
    "print(x)"
   ]
  },
  {
   "cell_type": "code",
   "execution_count": 247,
   "metadata": {},
   "outputs": [
    {
     "name": "stdout",
     "output_type": "stream",
     "text": [
      "{'one': 1}\n",
      "None\n"
     ]
    }
   ],
   "source": [
    "# Методы словаря.\n",
    "\n",
    "x = {'one': 1}\n",
    "print(x)\n",
    "\n",
    "# print(x['two']) # ошибка KKeyError: 'two' - запрос значения по несуществующему ключу \n",
    "print(x.get('two'))"
   ]
  },
  {
   "cell_type": "code",
   "execution_count": 248,
   "metadata": {},
   "outputs": [
    {
     "name": "stdout",
     "output_type": "stream",
     "text": [
      "{'hello': 3, 'world': 2}\n"
     ]
    }
   ],
   "source": [
    "# Методы словаря.\n",
    "\n",
    "# Задача: определить, сколько раз встречается каждое слово в списке.\n",
    "s = ['hello', 'world', 'hello', 'hello', 'world']\n",
    "\n",
    "x = dict()\n",
    "for k in s:\n",
    "    # x[k] = x[k] + 1        # Ошибка, т.к. в словаре нет ключа k.\n",
    "    x[k] = x.get(k, 0) + 1\n",
    "\n",
    "print(x)"
   ]
  },
  {
   "cell_type": "code",
   "execution_count": 249,
   "metadata": {},
   "outputs": [
    {
     "name": "stdout",
     "output_type": "stream",
     "text": [
      "{'hello': 3, 'world': 2}\n"
     ]
    }
   ],
   "source": [
    "# Методы словаря.\n",
    "\n",
    "# Задача: определить, сколько раз встречается каждое слово в списке.\n",
    "s = ['hello', 'world', 'hello', 'hello', 'world']\n",
    "\n",
    "x = dict.fromkeys(s, 0)\n",
    "for k in s:\n",
    "    x[k] = x[k] + 1\n",
    "\n",
    "print(x)"
   ]
  },
  {
   "cell_type": "code",
   "execution_count": 250,
   "metadata": {},
   "outputs": [
    {
     "name": "stdout",
     "output_type": "stream",
     "text": [
      "{'one': 1, 'two': 2}\n",
      "2\n",
      "{'one': 1}\n"
     ]
    }
   ],
   "source": [
    "# Методы словаря.\n",
    "\n",
    "x = {'one': 1, 'two': 2}\n",
    "print(x)\n",
    "\n",
    "print(x.pop('two'))\n",
    "print(x)"
   ]
  },
  {
   "cell_type": "code",
   "execution_count": 251,
   "metadata": {},
   "outputs": [
    {
     "name": "stdout",
     "output_type": "stream",
     "text": [
      "{'one': 1, 'two': 2}\n",
      "('two', 2)\n",
      "{'one': 1}\n"
     ]
    }
   ],
   "source": [
    "# Методы словаря.\n",
    "\n",
    "x = {'one': 1, 'two': 2}\n",
    "print(x)\n",
    "\n",
    "print(x.popitem())\n",
    "print(x)"
   ]
  },
  {
   "cell_type": "code",
   "execution_count": 252,
   "metadata": {},
   "outputs": [
    {
     "name": "stdout",
     "output_type": "stream",
     "text": [
      "{'one': 0, 'two': 0}\n",
      "{'one': 1, 'two': 0}\n",
      "{'one': 1, 'two': 2, 'zero': 0}\n"
     ]
    }
   ],
   "source": [
    "# Методы словаря.\n",
    "\n",
    "x = {'one': 0, 'two': 0}\n",
    "y = {'one': 1}\n",
    "z = [('zero',0), ('two',2)]\n",
    "print(x)\n",
    "\n",
    "x.update(y)  # обновление значения словаря с клюом 'one'\n",
    "print(x)\n",
    "\n",
    "x.update(z)  # обновление значения словаря с ключом 'two' и добавление нового значения с ключом 'zero'\n",
    "print(x)"
   ]
  },
  {
   "cell_type": "code",
   "execution_count": 253,
   "metadata": {},
   "outputs": [
    {
     "name": "stdout",
     "output_type": "stream",
     "text": [
      "{'one': 1, 'two': 2}\n",
      "dict_keys(['one', 'two'])\n",
      "dict_values([1, 2])\n",
      "dict_items([('one', 1), ('two', 2)])\n"
     ]
    }
   ],
   "source": [
    "# Методы словаря.\n",
    "\n",
    "x = {'one': 1, 'two': 2}\n",
    "print(x)\n",
    "\n",
    "print(x.keys())\n",
    "print(x.values())\n",
    "print(x.items())"
   ]
  },
  {
   "cell_type": "code",
   "execution_count": 254,
   "metadata": {},
   "outputs": [
    {
     "name": "stdout",
     "output_type": "stream",
     "text": [
      "{'one': 1, 'two': 2}\n",
      "['one', 'two']\n",
      "[1, 2]\n",
      "[('one', 1), ('two', 2)]\n"
     ]
    }
   ],
   "source": [
    "# Методы словаря.\n",
    "\n",
    "x = {'one': 1, 'two': 2}\n",
    "print(x)\n",
    "\n",
    "print(list(x.keys()))    # \"материализация\" возвращаемых методами keys, values и items объектов\n",
    "print(list(x.values()))  # может оказаться полезной в ситуациях, когда необходимо извлечь \n",
    "print(list(x.items()))   # требуемое значение по индексу"
   ]
  },
  {
   "cell_type": "code",
   "execution_count": 108,
   "metadata": {},
   "outputs": [
    {
     "name": "stdout",
     "output_type": "stream",
     "text": [
      "[1, 5, 2]\n"
     ]
    }
   ],
   "source": [
    "a = [2,5,1]\n",
    "x = list(reversed(a))\n",
    "print(x)"
   ]
  },
  {
   "cell_type": "markdown",
   "metadata": {},
   "source": [
    "([к началу раздела 'Основные структуры данных Python'](#Основные-структуры-данных-Python))  \n",
    "([к содержанию](#Содержание))"
   ]
  },
  {
   "cell_type": "markdown",
   "metadata": {},
   "source": [
    "___\n",
    "### Множество (set)\n",
    "\n",
    "\n",
    "* [Определение, создание, использование множества](#Определение,-создание,-использование-множества)\n",
    "* [Методы множества (основные)](#Методы-множества-&#040;основные&#041;)\n",
    "* [Методы множества (теоретико множественные операции)](#Методы-множества-&#040;теоретико-множественные-операции&#041;)"
   ]
  },
  {
   "cell_type": "markdown",
   "metadata": {},
   "source": [
    "#### Определение, создание, использование множества\n",
    "\n",
    "*Множество* (*set*) в Python - это неупорядоченная совокупность *уникальных* *хешируемых* значений.\n",
    "\n",
    "Для создания множества можно использовать литерал `{}` с перечислением через запятую элементов множества или конструктор `set()`, на вход которого подаётся *итерируемый объект*. В последнем случае конструктор создаст множество из элементов итерируемого объекта.\n",
    "\n",
    "**(!)** Пустое множество с применеием литерала `{}` создать нельзя."
   ]
  },
  {
   "cell_type": "code",
   "execution_count": 255,
   "metadata": {},
   "outputs": [
    {
     "name": "stdout",
     "output_type": "stream",
     "text": [
      "{1, 2, 3}\n",
      "<class 'set'>\n"
     ]
    }
   ],
   "source": [
    "# Создание множества.\n",
    "\n",
    "x = {1, 2, 3}\n",
    "\n",
    "print(x)\n",
    "print(type(x))"
   ]
  },
  {
   "cell_type": "code",
   "execution_count": 256,
   "metadata": {},
   "outputs": [
    {
     "name": "stdout",
     "output_type": "stream",
     "text": [
      "{1, 2, 3}\n",
      "<class 'set'>\n"
     ]
    }
   ],
   "source": [
    "# Создание множества.\n",
    "\n",
    "t = (1, 2, 3)\n",
    "x = set(t)\n",
    "\n",
    "print(x)\n",
    "print(type(x))"
   ]
  },
  {
   "cell_type": "code",
   "execution_count": 109,
   "metadata": {
    "scrolled": true
   },
   "outputs": [
    {
     "name": "stdout",
     "output_type": "stream",
     "text": [
      "{1, (2, 3), '456'}\n",
      "<class 'set'>\n"
     ]
    }
   ],
   "source": [
    "# Создание множества.\n",
    "\n",
    "x = {1, (2,3), '456'} # элементами множества могут быть только хешируемые объекты (числа, кортежи, строки)\n",
    "\n",
    "print(x)\n",
    "print(type(x))"
   ]
  },
  {
   "cell_type": "markdown",
   "metadata": {},
   "source": [
    "([к началу раздела 'Основные структуры данных Python'](#Основные-структуры-данных-Python))  \n",
    "([к содержанию](#Содержание))"
   ]
  },
  {
   "cell_type": "markdown",
   "metadata": {},
   "source": [
    "#### Методы множества (основные)\n",
    "* `add(x)` - добавляет в множество элемент `x`  \n",
    "* `clear()` - очищает множество\n",
    "* `copy()` - создаёт копию множества\n",
    "* `discard(x)` - удаляет из множества элемент `x`, при попытке удалить несуществующий элемент ошибки не возникает\n",
    "* `pop()` - возвращает и удаляет произвольный элемент из множества\n",
    "* `remove(x)` - удаляет из множества существующий `x`, при попытке удалить несуществующий элемент возникает ошибка  \n",
    "* `update(x)` - добавляет в множество элементы из множества `x` путём выполнения операции объединения"
   ]
  },
  {
   "cell_type": "code",
   "execution_count": 258,
   "metadata": {},
   "outputs": [
    {
     "name": "stdout",
     "output_type": "stream",
     "text": [
      "{1, 2}\n",
      "{1, 2, 3}\n"
     ]
    }
   ],
   "source": [
    "# Методы множества.\n",
    "\n",
    "x = {1, 2}\n",
    "print(x)\n",
    "\n",
    "x.add(3)\n",
    "print(x)"
   ]
  },
  {
   "cell_type": "code",
   "execution_count": 259,
   "metadata": {},
   "outputs": [
    {
     "name": "stdout",
     "output_type": "stream",
     "text": [
      "{1, 2, 3}\n",
      "set()\n"
     ]
    }
   ],
   "source": [
    "# Методы множества.\n",
    "\n",
    "x = {1, 2, 3}\n",
    "print(x)\n",
    "\n",
    "x.clear()\n",
    "print(x)"
   ]
  },
  {
   "cell_type": "code",
   "execution_count": 260,
   "metadata": {},
   "outputs": [
    {
     "name": "stdout",
     "output_type": "stream",
     "text": [
      "{1, 2, 3}\n",
      "{1, 2, 3}\n",
      "{1, 2}\n"
     ]
    }
   ],
   "source": [
    "# Методы множества.\n",
    "\n",
    "x = {1, 2}\n",
    "y = x         # объект y связан с объектом x\n",
    "z = x.copy()  # объект z является копией объекта x и более с ним не связан\n",
    "\n",
    "x.add(3)      # изменение объекта x приводит к изменению объекта y\n",
    "\n",
    "print(x)\n",
    "print(y)\n",
    "print(z)"
   ]
  },
  {
   "cell_type": "code",
   "execution_count": 261,
   "metadata": {},
   "outputs": [
    {
     "name": "stdout",
     "output_type": "stream",
     "text": [
      "{1, 2, 3}\n",
      "{1, 2}\n",
      "{1, 2}\n"
     ]
    }
   ],
   "source": [
    "# Методы множества.\n",
    "\n",
    "x = {1, 2, 3}\n",
    "print(x)\n",
    "\n",
    "x.discard(3)\n",
    "print(x)\n",
    "\n",
    "x.discard(0)  # удаление несуществующего элемента не приводит к ошибке\n",
    "print(x)"
   ]
  },
  {
   "cell_type": "code",
   "execution_count": 262,
   "metadata": {},
   "outputs": [
    {
     "name": "stdout",
     "output_type": "stream",
     "text": [
      "{1, 2, 3}\n",
      "{1, 2}\n"
     ]
    }
   ],
   "source": [
    "# Методы множества.\n",
    "\n",
    "x = {1, 2, 3}\n",
    "print(x)\n",
    "\n",
    "x.remove(3)  # попытка удалить несуществующий элемент приведёт к ошибке\n",
    "print(x)"
   ]
  },
  {
   "cell_type": "code",
   "execution_count": 116,
   "metadata": {},
   "outputs": [
    {
     "name": "stdout",
     "output_type": "stream",
     "text": [
      "{1, 2, 3, 5, 6}\n",
      "1\n",
      "{2, 3, 5, 6}\n"
     ]
    }
   ],
   "source": [
    "# Методы множества.\n",
    "\n",
    "x = {1, 2, 3}\n",
    "print(x)\n",
    "\n",
    "print(x.pop())\n",
    "print(x)"
   ]
  },
  {
   "cell_type": "code",
   "execution_count": 117,
   "metadata": {},
   "outputs": [
    {
     "name": "stdout",
     "output_type": "stream",
     "text": [
      "{1, 2, 3}\n",
      "{1, 2, 3, 4}\n"
     ]
    }
   ],
   "source": [
    "# Методы множества.\n",
    "\n",
    "x = {1, 2, 3}\n",
    "t = {2, 3, 4}\n",
    "print(x)\n",
    "\n",
    "x.update(t)\n",
    "print(x)"
   ]
  },
  {
   "cell_type": "markdown",
   "metadata": {},
   "source": [
    "([к началу раздела 'Основные структуры данных Python'](#Основные-структуры-данных-Python))  \n",
    "([к содержанию](#Содержание))"
   ]
  },
  {
   "cell_type": "markdown",
   "metadata": {},
   "source": [
    "#### Методы множества (теоретико множественные операции)\n",
    "\n",
    "* `union(x)` - объединение с множеством `x`\n",
    "* `intersection(x)` - пересечение с множеством `x`\n",
    "* `difference(x)` - разность с множеством `x`\n",
    "* `symmetric_difference(x)` - симметричная разность с множеством `x` \n",
    "\n",
    "\n",
    "* `intersection_update(x)` - оставляет в множестве элементы, которые входят в пересечение с множеством `x`  \n",
    "* `difference_update(x)` - оставляет в множестве элементы, которые входят в разность с множеством `x`  \n",
    "* `symmetric_difference_update(x)` - оставляет в множестве элементы, которые входят в симметричную разность с множеством `x`  \n",
    "\n",
    "\n",
    "* `issuperset(x)` - возвращает `True`, если текущее множество содержит множество `x`\n",
    "* `issubset(x)` - возвращает `True`, если x является подмножеством текущего множества\n",
    "* `isdisjoint(x)` - возвращает `True`, если множество не содержит общих элементов с множеством `x`"
   ]
  },
  {
   "cell_type": "code",
   "execution_count": 265,
   "metadata": {},
   "outputs": [
    {
     "name": "stdout",
     "output_type": "stream",
     "text": [
      "{1, 2, 3, 4}\n",
      "{2, 3}\n",
      "{1}\n",
      "{1, 4}\n"
     ]
    }
   ],
   "source": [
    "# Методы множества (теоретико множественные операции).\n",
    "\n",
    "x = {1, 2, 3}\n",
    "y = {2, 3, 4}\n",
    "\n",
    "print(x.union(y))\n",
    "print(x.intersection(y))\n",
    "print(x.difference(y))\n",
    "print(x.symmetric_difference(y))"
   ]
  },
  {
   "cell_type": "code",
   "execution_count": 266,
   "metadata": {},
   "outputs": [
    {
     "name": "stdout",
     "output_type": "stream",
     "text": [
      "{1, 2, 3}\n",
      "{2, 3}\n"
     ]
    }
   ],
   "source": [
    "# Методы множества (теоретико множественные операции).\n",
    "\n",
    "x = {1, 2, 3}\n",
    "y = {2, 3, 4}\n",
    "print(x)\n",
    "\n",
    "x.intersection_update(y)\n",
    "print(x)"
   ]
  },
  {
   "cell_type": "code",
   "execution_count": 267,
   "metadata": {},
   "outputs": [
    {
     "name": "stdout",
     "output_type": "stream",
     "text": [
      "{1, 2, 3}\n",
      "{1}\n"
     ]
    }
   ],
   "source": [
    "# Методы множества (теоретико множественные операции).\n",
    "\n",
    "x = {1, 2, 3}\n",
    "y = {2, 3, 4}\n",
    "print(x)\n",
    "\n",
    "x.difference_update(y)\n",
    "print(x)"
   ]
  },
  {
   "cell_type": "code",
   "execution_count": 268,
   "metadata": {},
   "outputs": [
    {
     "name": "stdout",
     "output_type": "stream",
     "text": [
      "{1, 2, 3}\n",
      "{1, 4}\n"
     ]
    }
   ],
   "source": [
    "# Методы множества (теоретико множественные операции).\n",
    "\n",
    "x = {1, 2, 3}\n",
    "y = {2, 3, 4}\n",
    "print(x)\n",
    "\n",
    "x.symmetric_difference_update(y)\n",
    "print(x)"
   ]
  },
  {
   "cell_type": "code",
   "execution_count": 269,
   "metadata": {},
   "outputs": [
    {
     "name": "stdout",
     "output_type": "stream",
     "text": [
      "True\n",
      "False\n",
      "False\n",
      "True\n"
     ]
    }
   ],
   "source": [
    "# Методы множества (теоретико множественные операции).\n",
    "\n",
    "x = {1}\n",
    "y = {1, 2}\n",
    "\n",
    "print(x.issubset(y))\n",
    "print(y.issubset(x))\n",
    "print(x.issuperset(y))\n",
    "print(y.issuperset(x))"
   ]
  },
  {
   "cell_type": "code",
   "execution_count": 270,
   "metadata": {
    "scrolled": true
   },
   "outputs": [
    {
     "name": "stdout",
     "output_type": "stream",
     "text": [
      "False\n",
      "True\n"
     ]
    }
   ],
   "source": [
    "# Методы множества (теоретико множественные операции).\n",
    "\n",
    "x = {1, 2}\n",
    "y = {2, 3}\n",
    "z = {3, 4}\n",
    "\n",
    "print(x.isdisjoint(y))\n",
    "print(x.isdisjoint(z))"
   ]
  },
  {
   "cell_type": "markdown",
   "metadata": {},
   "source": [
    "([к началу раздела 'Основные структуры данных Python'](#Основные-структуры-данных-Python))  \n",
    "([к содержанию](#Содержание))"
   ]
  },
  {
   "cell_type": "markdown",
   "metadata": {},
   "source": [
    "___\n",
    "### Строка (string)\n",
    "\n",
    "* [Определение, создание, использование строк](#Определение,-создание,-использование-строк)\n",
    "* [Методы строк (управление регистром символов)](#Методы-строк-&#040;управление-регистром-символов&#041;)\n",
    "* [Методы строк (проверка содержимого)](#Методы-строк-&#040;проверка-содержимого&#041;)\n",
    "* [Методы строк (поиск и замена)](#Методы-строк-&#040;поиск-и-замена&#041;)\n",
    "* [Методы строк (очистка, разделение, объединение)](#Методы-строк-&#040;очистка,-разделение,-объединение&#041;)\n",
    "* [Методы строк (форматирование вывода)](#Методы-строк-&#040;форматирование-вывода&#041;)"
   ]
  },
  {
   "cell_type": "markdown",
   "metadata": {},
   "source": [
    "#### Определение, создание, использование строк\n",
    "\n",
    "*Строка* (*string*) в Python – это неизменяемая структура данных, состоящая из символов, заключённых в одинарные или двойные кавычки.\n",
    "\n",
    "```python\n",
    "s = 'hello, world'\n",
    "s = \"hello, world\"\n",
    "```\n",
    "\n",
    "**(!)** Длинные строки можно оформлять либо с помощью тройных кавычек, либо с помощью символа косой черты `\\`.\n",
    "```python\n",
    "s = 'hello, \\\n",
    "world'\n",
    "\n",
    "s = '''hello, \n",
    "world'''\n",
    "```\n",
    "\n",
    "**(!)** Символ экранирования `\\` позволяет добавлять в строку *символ перевода строки* `\\n`, *символ табуляции* `\\t`, символ кавычки `\\'` или `\\\"`. "
   ]
  },
  {
   "cell_type": "code",
   "execution_count": 271,
   "metadata": {},
   "outputs": [
    {
     "name": "stdout",
     "output_type": "stream",
     "text": [
      "hello, world\n",
      "hello, world\n"
     ]
    }
   ],
   "source": [
    "# Создание строк.\n",
    "\n",
    "s = 'hello, world' \n",
    "t = \"hello, world\"\n",
    "\n",
    "print(s)\n",
    "print(t)"
   ]
  },
  {
   "cell_type": "code",
   "execution_count": 120,
   "metadata": {},
   "outputs": [
    {
     "name": "stdout",
     "output_type": "stream",
     "text": [
      "hello, world\n"
     ]
    }
   ],
   "source": [
    "# Создание строк.\n",
    "\n",
    "s = 'hello, \\\n",
    "world'         # символ перевода строки не добавляется в строку\n",
    "\n",
    "print(s)"
   ]
  },
  {
   "cell_type": "code",
   "execution_count": 121,
   "metadata": {},
   "outputs": [
    {
     "name": "stdout",
     "output_type": "stream",
     "text": [
      "hello,  \n",
      "world\n"
     ]
    }
   ],
   "source": [
    "# Создание строк.\n",
    "\n",
    "s = '''hello,  \n",
    "world'''  # символ перевода строки автоматически добавляется в строку\n",
    "\n",
    "print(s)"
   ]
  },
  {
   "cell_type": "code",
   "execution_count": 45,
   "metadata": {},
   "outputs": [],
   "source": [
    "# Создание строк.\n",
    "\n",
    "def add_one(x):  # типичное применение тройных кавычек - это строки документации\n",
    "    ''' Эта функция увеличивает значение своего аргумента на 1. \n",
    "    Функция создана в демонстрационных целях.'''\n",
    "    \n",
    "    x = x + 1\n",
    "    return(x)"
   ]
  },
  {
   "cell_type": "code",
   "execution_count": 46,
   "metadata": {},
   "outputs": [
    {
     "name": "stdout",
     "output_type": "stream",
     "text": [
      "1\n"
     ]
    }
   ],
   "source": [
    "# В этой ячейке необходимо поставить курсор после открывающей скобки и нажать комбинацию клавиш SHIFT+TAB.\n",
    "# Всплывающая подсказка покажет описание функции, которое было сделано в предыдущей ячейке.\n",
    "\n",
    "s = add_one(0)\n",
    "print(s)"
   ]
  },
  {
   "cell_type": "code",
   "execution_count": 49,
   "metadata": {
    "scrolled": true
   },
   "outputs": [
    {
     "name": "stdout",
     "output_type": "stream",
     "text": [
      "Well, that's all right, mama.\n",
      "\n",
      "\tThat's all right for you.\n",
      "\n",
      "That's all right mama,\n",
      "\n",
      "\tjust anyway you do\n",
      "\n",
      "(Elvis Presley)\n"
     ]
    }
   ],
   "source": [
    "# Создание строк.\n",
    "\n",
    "s = 'Well, that\\'s all right, mama.\\n\\n\\\n",
    "\\tThat\\'s all right for you.\\n\\n\\\n",
    "That\\'s all right mama,\\n\\n\\\n",
    "\\tjust anyway you do\\n\\n\\\n",
    "(Elvis Presley)'\n",
    "\n",
    "print(s)"
   ]
  },
  {
   "cell_type": "markdown",
   "metadata": {},
   "source": [
    "([к началу раздела 'Основные структуры данных Python'](#Основные-структуры-данных-Python))  \n",
    "([к содержанию](#Содержание))"
   ]
  },
  {
   "cell_type": "markdown",
   "metadata": {},
   "source": [
    "#### Методы строк (управление регистром символов)\n",
    "\n",
    "* `lower()` - преобразует строку к нижнему регистру\n",
    "* `upper()` - преобразует строку к верхнему регистру  \n",
    "* `capitalize()` - переводит первый символ строки в верхний регистр, остальные в нижний\n",
    "* `title()` - переводит первый символ кажого слова строки в верхний регистр\n",
    "* `swapcase()` - преобразует регистр символов строки: из верхнего в нижний и наоборот - из нижнего в верхний\n",
    "* `casefold()` - возвращает преобразованную строку, удобную для сравнения без учета регистра"
   ]
  },
  {
   "cell_type": "code",
   "execution_count": 277,
   "metadata": {},
   "outputs": [
    {
     "name": "stdout",
     "output_type": "stream",
     "text": [
      "hello, world!\n",
      "HELLO, WORLD!\n",
      "Hello, world!\n",
      "Hello, World!\n",
      "HeLLo, WoRLD!\n",
      "hello, world!\n"
     ]
    }
   ],
   "source": [
    "# Методы строк (управление регистром символов).\n",
    "\n",
    "s = 'hEllO, wOrld!'\n",
    "\n",
    "print(s.lower())\n",
    "print(s.upper())\n",
    "print(s.capitalize())\n",
    "print(s.title())\n",
    "print(s.swapcase())\n",
    "print(s.casefold())"
   ]
  },
  {
   "cell_type": "markdown",
   "metadata": {},
   "source": [
    "([к началу раздела 'Основные структуры данных Python'](#Основные-структуры-данных-Python))  \n",
    "([к содержанию](#Содержание))"
   ]
  },
  {
   "cell_type": "markdown",
   "metadata": {},
   "source": [
    "#### Методы строк (проверка содержимого)\n",
    "\n",
    "* `isalnum()` - возвращает `True`, если все символы строки буквы и числа\n",
    "* `isalpha()` - возвращает `True`, если все символы строки буквы  \n",
    "* `isdigit()` - возвращает `True`, если все символы строки цифры и в строке минимум один символ\n",
    "* `isdecimal()` - возвращает `True`, если все символы строки цифры  \n",
    "* `isnumeric()` - возвращает `True`, если все символы строки цифры\n",
    "* `isspace()` - возвращает `True`, если все символы строки - это пробельные символы (пробелы, табуляция,...)\n",
    "* `isprintable()` - возвращает `True`, если все символы строки - это печатаемые символы (не пробелы)\n",
    "* `islower()` - возвращает `True`, если все символы строки в нижнем регистре  \n",
    "* `isupper()` - возвращает `True`, если все символы строки в верхнем регистре\n",
    "* `istitle()` - возвращает `True`, если первый символ каждого слова строки в верхнем регистре, а остальные в нижнем\n",
    "* `isidentifier()` - возвращает `True`, если строка - это правильный идентификатор"
   ]
  },
  {
   "cell_type": "code",
   "execution_count": 52,
   "metadata": {},
   "outputs": [
    {
     "name": "stdout",
     "output_type": "stream",
     "text": [
      "True\n",
      "False\n"
     ]
    }
   ],
   "source": [
    "# Методы строк (проверка содержимого).\n",
    "\n",
    "s = 'a1'\n",
    "t = 'a1'\n",
    "\n",
    "print(s.isalnum())\n",
    "print(t.isalnum())"
   ]
  },
  {
   "cell_type": "code",
   "execution_count": 122,
   "metadata": {},
   "outputs": [
    {
     "name": "stdout",
     "output_type": "stream",
     "text": [
      "True\n",
      "False\n"
     ]
    }
   ],
   "source": [
    "# Методы строк (проверка содержимого).\n",
    "\n",
    "s = 'ab'\n",
    "t = 'a b'\n",
    "\n",
    "print(s.isalpha())\n",
    "print(t.isalpha())"
   ]
  },
  {
   "cell_type": "code",
   "execution_count": 127,
   "metadata": {},
   "outputs": [
    {
     "name": "stdout",
     "output_type": "stream",
     "text": [
      "True\n",
      "False\n"
     ]
    }
   ],
   "source": [
    "# Методы строк (проверка содержимого).\n",
    "\n",
    "s = '12'\n",
    "t = '1.2'\n",
    "\n",
    "print(s.isdigit())\n",
    "print(t.isdigit())"
   ]
  },
  {
   "cell_type": "code",
   "execution_count": 55,
   "metadata": {},
   "outputs": [
    {
     "name": "stdout",
     "output_type": "stream",
     "text": [
      "True\n",
      "False\n"
     ]
    }
   ],
   "source": [
    "# Методы строк (проверка содержимого).\n",
    "\n",
    "s = '12'\n",
    "t = '1.2'\n",
    "\n",
    "print(s.isdecimal())\n",
    "print(t.isdecimal())"
   ]
  },
  {
   "cell_type": "code",
   "execution_count": 56,
   "metadata": {},
   "outputs": [
    {
     "name": "stdout",
     "output_type": "stream",
     "text": [
      "True\n",
      "False\n"
     ]
    }
   ],
   "source": [
    "# Методы строк (проверка содержимого).\n",
    "\n",
    "s = '12'\n",
    "t = '1.2'\n",
    "\n",
    "print(s.isnumeric())\n",
    "print(t.isnumeric())"
   ]
  },
  {
   "cell_type": "code",
   "execution_count": 58,
   "metadata": {},
   "outputs": [
    {
     "name": "stdout",
     "output_type": "stream",
     "text": [
      "False\n",
      "True\n"
     ]
    }
   ],
   "source": [
    "# Методы строк (проверка содержимого).\n",
    "\n",
    "s = '1 2'\n",
    "t = '\\t '\n",
    "\n",
    "print(s.isspace())\n",
    "print(t.isspace())"
   ]
  },
  {
   "cell_type": "code",
   "execution_count": 125,
   "metadata": {},
   "outputs": [
    {
     "name": "stdout",
     "output_type": "stream",
     "text": [
      "True\n",
      "False\n"
     ]
    }
   ],
   "source": [
    "# Методы строк (проверка содержимого).\n",
    "\n",
    "s = '1 2'\n",
    "t = '\\t'\n",
    "\n",
    "print(s.isprintable())\n",
    "print(t.isprintable())"
   ]
  },
  {
   "cell_type": "code",
   "execution_count": 285,
   "metadata": {},
   "outputs": [
    {
     "name": "stdout",
     "output_type": "stream",
     "text": [
      "False\n",
      "True\n"
     ]
    }
   ],
   "source": [
    "# Методы строк (проверка содержимого).\n",
    "\n",
    "s = 'Hello'\n",
    "t = 'world'\n",
    "\n",
    "print(s.islower())\n",
    "print(t.islower())"
   ]
  },
  {
   "cell_type": "code",
   "execution_count": 286,
   "metadata": {},
   "outputs": [
    {
     "name": "stdout",
     "output_type": "stream",
     "text": [
      "True\n",
      "False\n"
     ]
    }
   ],
   "source": [
    "# Методы строк (проверка содержимого).\n",
    "\n",
    "s = 'HELLO'\n",
    "t = 'world'\n",
    "\n",
    "print(s.isupper())\n",
    "print(t.isupper())"
   ]
  },
  {
   "cell_type": "code",
   "execution_count": 287,
   "metadata": {},
   "outputs": [
    {
     "name": "stdout",
     "output_type": "stream",
     "text": [
      "False\n",
      "True\n"
     ]
    }
   ],
   "source": [
    "# Методы строк (проверка содержимого).\n",
    "\n",
    "s = 'Hello, world'\n",
    "t = 'Hello,  World'\n",
    "\n",
    "print(s.istitle())\n",
    "print(t.istitle())"
   ]
  },
  {
   "cell_type": "code",
   "execution_count": 288,
   "metadata": {},
   "outputs": [
    {
     "name": "stdout",
     "output_type": "stream",
     "text": [
      "True\n",
      "False\n"
     ]
    }
   ],
   "source": [
    "# Методы строк (проверка содержимого).\n",
    "\n",
    "s = 'a1'\n",
    "t = '1a'\n",
    "\n",
    "print(s.isidentifier())\n",
    "print(t.isidentifier())"
   ]
  },
  {
   "cell_type": "markdown",
   "metadata": {},
   "source": [
    "([к началу раздела 'Основные структуры данных Python'](#Основные-структуры-данных-Python))  \n",
    "([к содержанию](#Содержание))"
   ]
  },
  {
   "cell_type": "markdown",
   "metadata": {},
   "source": [
    "#### Методы строк (поиск и замена)\n",
    "\n",
    "* `count(sub, [start, [end]])` - возвращает количество вхождений подстроки `sub` в строку  \n",
    "* `find(sub, [start, [end]])` - возвращает индекс первого вхождения подстроки `sub` в строку, поиск ведётся в диапазоне `[start,end)`, если подстрока не найдена, возвращает `-1`\n",
    "* `index(sub, [start, [end]])` - аналогично `find` осуществляет поиск подстроки `sub`, но если подстрока не найдена, то генерирует исключение\n",
    "* `rfind(sub, [start, [end]])` - возвращает индекс последнего вхождения подстроки `sub` в строку, поиск ведётся в диапазоне `[start,end)`, если подстрока не найдена, возвращает `-1`\n",
    "* `rindex(sub, [start, [end]])` - аналогично `rfind` осуществляет поиск подстроки `sub`, но если подстрока не найдена, то генерирует исключение\n",
    "* `startswith(prefix, [start, [end]])` - возвращает `True`, если строка начинается с префикса `prefix`, поиск   \n",
    "* `endswith(suffix, [start, [end]])` - возвращает True, если строка заканчивается суффиксом `sufffix`  \n",
    "* `replace(old, new, [count])` - производит замену в строке подстроки `old` на подстроку `new` `count` раз"
   ]
  },
  {
   "cell_type": "code",
   "execution_count": 289,
   "metadata": {},
   "outputs": [
    {
     "name": "stdout",
     "output_type": "stream",
     "text": [
      "2\n"
     ]
    }
   ],
   "source": [
    "# Методы строк (поиск и замена).\n",
    "\n",
    "s = 'to be or not to be'\n",
    "\n",
    "print(s.count('be'))"
   ]
  },
  {
   "cell_type": "code",
   "execution_count": 290,
   "metadata": {},
   "outputs": [
    {
     "name": "stdout",
     "output_type": "stream",
     "text": [
      "3\n",
      "3\n"
     ]
    }
   ],
   "source": [
    "# Методы строк (поиск и замена).\n",
    "\n",
    "s = 'to be or not to be'\n",
    "\n",
    "print(s.find('be'))\n",
    "print(s.index('be'))"
   ]
  },
  {
   "cell_type": "code",
   "execution_count": 291,
   "metadata": {},
   "outputs": [
    {
     "name": "stdout",
     "output_type": "stream",
     "text": [
      "16\n",
      "16\n"
     ]
    }
   ],
   "source": [
    "# Методы строк (поиск и замена).\n",
    "\n",
    "s = 'to be or not to be'\n",
    "\n",
    "print(s.find('be', 4, 18))\n",
    "print(s.index('be', 4, 18))"
   ]
  },
  {
   "cell_type": "code",
   "execution_count": 292,
   "metadata": {},
   "outputs": [
    {
     "name": "stdout",
     "output_type": "stream",
     "text": [
      "16\n",
      "16\n"
     ]
    }
   ],
   "source": [
    "# Методы строк (поиск и замена).\n",
    "\n",
    "s = 'to be or not to be'\n",
    "\n",
    "print(s.rfind('be'))\n",
    "print(s.rindex('be'))"
   ]
  },
  {
   "cell_type": "code",
   "execution_count": 293,
   "metadata": {},
   "outputs": [
    {
     "name": "stdout",
     "output_type": "stream",
     "text": [
      "3\n",
      "3\n"
     ]
    }
   ],
   "source": [
    "# Методы строк (поиск и замена).\n",
    "\n",
    "s = 'to be or not to be'\n",
    "\n",
    "print(s.rfind('be', 0, 5))\n",
    "print(s.rindex('be', 0, 5))"
   ]
  },
  {
   "cell_type": "code",
   "execution_count": 294,
   "metadata": {},
   "outputs": [
    {
     "name": "stdout",
     "output_type": "stream",
     "text": [
      "3\n",
      "3\n"
     ]
    }
   ],
   "source": [
    "# Методы строк (поиск и замена).\n",
    "\n",
    "s = 'to be or not to be'\n",
    "\n",
    "print(s.rfind('be', 0, 11))\n",
    "print(s.rindex('be', 0, 11))"
   ]
  },
  {
   "cell_type": "code",
   "execution_count": 60,
   "metadata": {
    "collapsed": true,
    "jupyter": {
     "outputs_hidden": true
    }
   },
   "outputs": [
    {
     "name": "stdout",
     "output_type": "stream",
     "text": [
      "True\n",
      "True\n"
     ]
    }
   ],
   "source": [
    "# Методы строк (поиск и замена).\n",
    "\n",
    "s = 'to be or not to be'\n",
    "\n",
    "print(s.startswith('to be'))\n",
    "print(s.endswith('to be'))"
   ]
  },
  {
   "cell_type": "code",
   "execution_count": 126,
   "metadata": {},
   "outputs": [
    {
     "name": "stdout",
     "output_type": "stream",
     "text": [
      "2 be or not 2 be\n"
     ]
    }
   ],
   "source": [
    "# Методы строк (поиск и замена).\n",
    "\n",
    "s = 'to be or not to be'\n",
    "\n",
    "print(s.replace('to', '2'))"
   ]
  },
  {
   "cell_type": "code",
   "execution_count": 130,
   "metadata": {},
   "outputs": [
    {
     "name": "stdout",
     "output_type": "stream",
     "text": [
      "asd.asd\n"
     ]
    }
   ],
   "source": [
    "a = \"asd,asd\"\n",
    "print(a.replace(',', '.'))"
   ]
  },
  {
   "cell_type": "markdown",
   "metadata": {},
   "source": [
    "([к началу раздела 'Основные структуры данных Python'](#Основные-структуры-данных-Python))  \n",
    "([к содержанию](#Содержание))"
   ]
  },
  {
   "cell_type": "markdown",
   "metadata": {},
   "source": [
    "#### Методы строк (очистка, разделение, объединение)\n",
    "\n",
    "* `strip([chars])` - удаляет пробельные строки (или символы `chars`) у строки слева и справа\n",
    "* `lstrip([chars])` - удаляет пробельные строки (или символы `chars`) у строки слева\n",
    "* `rstrip([chars])` - удаляет пробельные строки (или символы `chars`) у строки справа  \n",
    "* `split(sep=None, maxsplit=-1)` - разделяет `maxsplit` раз строку на подстроки, используя `sep` в качестве символа разделителя\n",
    "* `rsplit(sep=None, maxsplit=-1)` - аналогично функции `split`, но разделение начинается с конца строки\n",
    "* `splitlines([keepends])` - разделяет текст на строки, если `keepends=True`, то символы конца строк сохраняются в результате\n",
    "* `join(x)` - объединяет элементы итерируемого объекта в строку, используя текущую строку как разделитель"
   ]
  },
  {
   "cell_type": "code",
   "execution_count": 297,
   "metadata": {},
   "outputs": [
    {
     "name": "stdout",
     "output_type": "stream",
     "text": [
      "'hello, world  '\n",
      "'  hello, world'\n",
      "'hello, world'\n"
     ]
    }
   ],
   "source": [
    "# Методы строк (очистка, разделение, объединение).\n",
    "\n",
    "s = '  hello, world  '\n",
    "\n",
    "print(\"'\" + s.lstrip() + \"'\")\n",
    "print(\"'\" + s.rstrip() + \"'\")\n",
    "print(\"'\" + s.strip() + \"'\")"
   ]
  },
  {
   "cell_type": "code",
   "execution_count": 298,
   "metadata": {},
   "outputs": [
    {
     "name": "stdout",
     "output_type": "stream",
     "text": [
      "['one', ' two', ' three', ' four', ' five']\n",
      "['one', ' two', ' three', ' four', ' five']\n",
      "['one', ' two, three, four, five']\n",
      "['one, two, three, four', ' five']\n"
     ]
    }
   ],
   "source": [
    "# Методы строк (очистка, разделение, объединение).\n",
    "\n",
    "s = 'one, two, three, four, five'\n",
    "\n",
    "print(s.split(sep=','))\n",
    "print(s.rsplit(sep=','))\n",
    "\n",
    "print(s.split(sep=',', maxsplit=1))\n",
    "print(s.rsplit(sep=',', maxsplit=1))"
   ]
  },
  {
   "cell_type": "code",
   "execution_count": 299,
   "metadata": {},
   "outputs": [
    {
     "name": "stdout",
     "output_type": "stream",
     "text": [
      "[\"Imagine there's no heaven.\", \"It's easy if you try.\", 'No hell below us.', 'Above us only sky.', '(John Lennon)']\n"
     ]
    }
   ],
   "source": [
    "# Методы строк (очистка, разделение, объединение).\n",
    "\n",
    "s = \"\"\"Imagine there's no heaven.\n",
    "It's easy if you try.\n",
    "No hell below us.\n",
    "Above us only sky.\n",
    "(John Lennon)\"\"\"\n",
    "\n",
    "print(s.splitlines())"
   ]
  },
  {
   "cell_type": "code",
   "execution_count": 300,
   "metadata": {},
   "outputs": [
    {
     "name": "stdout",
     "output_type": "stream",
     "text": [
      "Who can say where the road goes, where the day flows - only time. (Enya)\n"
     ]
    }
   ],
   "source": [
    "# Методы строк (очистка, разделение, объединение).\n",
    "\n",
    "x = ['Who can say',\n",
    "     'where the road goes,',\n",
    "     'where the day flows',\n",
    "     '- only time.',\n",
    "     '(Enya)']\n",
    "\n",
    "s = ' '.join(x)\n",
    "print(s)"
   ]
  },
  {
   "cell_type": "markdown",
   "metadata": {},
   "source": [
    "([к началу раздела 'Основные структуры данных Python'](#Основные-структуры-данных-Python))  \n",
    "([к содержанию](#Содержание))"
   ]
  },
  {
   "cell_type": "markdown",
   "metadata": {},
   "source": [
    "#### Методы строк (форматирование вывода)\n",
    "\n",
    "В Python существует три способа форматирования строк:\n",
    "* оператор форматирования `%`,\n",
    "* метод `format()`,\n",
    "* `f`-строки.\n",
    "\n",
    "Оператор форматирования `%` используется в виде\n",
    "\n",
    "```python\n",
    "'format_string' % (value1, values2,...)\n",
    "```\n",
    "\n",
    "или, если требуется вывести только одно знчение, в виде\n",
    "\n",
    "```python\n",
    "'format_string' % value1\n",
    "```\n",
    "\n",
    "Строка форматирования представляет собой текст, содержащий в требуемых позициях символы `%` с указанием *спецификатора*.\n",
    "Спецификаторы указывают на то, как следует интерпретировать и форматировать выводимые значения. Основными спецификаторами являются:\n",
    "* `%s` - выводимое значение следует интерпретировать как строку,\n",
    "* `%d` - выводимое значение следует интерпретировать как целое число,\n",
    "* `%f` - выводимое значение следует интерпретировать как вещественное число,\n",
    "* `%e` - выводимое значение следует интерпретировать как вещественное число и выводить в экспоненциальном формате.\n",
    "\n",
    "Спецификатор формата `%f` позволяет указать требуемое количество знаков после запятой, ширину поля вывода и другие параметры. Синтаксис спецификатора следующий: `%[флаг][ширина][.точность]`.\n",
    "\n",
    "Метод форматирования `format()` предполагает, что в строке формата слева в фигурных скобках указаны *поля замены*, \n",
    "куда необходимо поместить значения\n",
    "\n",
    "```python\n",
    "'format_string'.format(value1, value2,...)\n",
    "```\n",
    "\n",
    "Синатксис поля замены следующий: `{\" [имя поля] [: спецификация] \"}`.\n",
    "Здесь `имя поля` - это значение именованного аргумента, переданного в метод `format` или его индекс, \n",
    "а спецификация представляет собой один из символов:\n",
    "* `s` - выводимое значение следует интерпретировать как строку,\n",
    "* `d` - выводимое значение следует интерпретировать как целое число,\n",
    "* `f` - выводимое значение следует интерпретировать как вещественное число,\n",
    "* `e` - выводимое значение следует интерпретировать как вещественное число и выводить в экспоненциальном формате.\n",
    "\n",
    "С подробным описанием этого и других методов можно ознакомиться на странице https://docs.python.org/3/library/string.html.\n",
    "\n",
    "f-строки - это строки с префиксом `f` в начале строки, содержащие выражения в фигурных скобках: \n",
    "\n",
    "```python\n",
    "f'...{expression1}...{expression2}...'\n",
    "```\n",
    "Здесь `expression` - это выражение, которое будет вычислено вдальнейшем и которое также может отформатировано с учётом спецификаций.\n",
    "\n",
    "Подробнее с работой f-строк можно ознакомиться на странице https://docs.python.org/3/reference/lexical_analysis.html#f-strings\n"
   ]
  },
  {
   "cell_type": "code",
   "execution_count": 7,
   "metadata": {},
   "outputs": [
    {
     "name": "stdout",
     "output_type": "stream",
     "text": [
      "pi = 3.141592653589793\n",
      "pi = 3\n",
      "pi = 3.141593\n",
      "pi = 3.141593e+00\n",
      "pi = 3.141593, e = 2.718282e+00\n"
     ]
    }
   ],
   "source": [
    "# Оператор % рассматривает строку слева, как строку формата, \n",
    "# которую необходимо применить к аргументу справа (аналог функции sprintf в языке C).\n",
    "\n",
    "from math import pi\n",
    "from math import e\n",
    "\n",
    "print('pi = %s' % pi)  # %s - строка\n",
    "print('pi = %d' % pi)  # %d - целое число\n",
    "print('pi = %f' % pi)  # %f - вещественное число\n",
    "print('pi = %e' % pi)  # %e - вещественное число в экспоненциальном представлении\n",
    "\n",
    "print('pi = %f, e = %e' % (pi, e))"
   ]
  },
  {
   "cell_type": "code",
   "execution_count": 9,
   "metadata": {
    "scrolled": true
   },
   "outputs": [
    {
     "name": "stdout",
     "output_type": "stream",
     "text": [
      "pi = 3.1\n",
      "pi = 3.14\n",
      "pi =       3.14\n",
      "pi = +3.14\n",
      "pi =  3.14%\n",
      "pi = 3.14, e = 2.72\n"
     ]
    }
   ],
   "source": [
    "# Строка формата спецификатора %f имеет вид:\n",
    "# %[флаг][ширина][.точность]символ формата\n",
    "\n",
    "from math import pi\n",
    "\n",
    "print('pi = %.1f' % pi)    # требование 1 символа после запятой\n",
    "print('pi = %.2f' % pi)    # требование 2 символов после запятой\n",
    "print('pi = %5.2f' % pi)   # требование ширины поля 5 символов, из которых 2 символа для двух знаков после запятой\n",
    "print('pi = %+5.2f' % pi)  # требование наличия ведущего символа \"+\" для положительных значений\n",
    "print('pi = %5.2f%%' % pi) # требование наличия символа \"%\" \n",
    "\n",
    "print('pi = %.2f, e = %.2f' % (pi, e)) "
   ]
  },
  {
   "cell_type": "code",
   "execution_count": 303,
   "metadata": {},
   "outputs": [
    {
     "name": "stdout",
     "output_type": "stream",
     "text": [
      "pi = 3.141592653589793\n",
      "pi = 3\n",
      "pi = 3.141593\n",
      "pi = 3.141593e+00\n"
     ]
    }
   ],
   "source": [
    "# Метод format().\n",
    "\n",
    "from math import pi\n",
    "from math import e\n",
    "\n",
    "print('pi = {:s}'.format(str(pi)))\n",
    "print('pi = {:d}'.format(int(pi)))\n",
    "print('pi = {:f}'.format(pi))\n",
    "print('pi = {:e}'.format(pi))"
   ]
  },
  {
   "cell_type": "code",
   "execution_count": 304,
   "metadata": {},
   "outputs": [
    {
     "name": "stdout",
     "output_type": "stream",
     "text": [
      "pi = 3.141592653589793\n",
      "pi = 3.141592653589793\n",
      "pi = 3.141592653589793, e = 2.718281828459045\n",
      "pi = 3.141592653589793, e = 2.718281828459045\n",
      "pi = 3.141592653589793, e = 2.718281828459045\n",
      "pi = 3.141592653589793, e = 2.718281828459045\n"
     ]
    }
   ],
   "source": [
    "# Метод format().\n",
    "\n",
    "from math import pi\n",
    "from math import e\n",
    "\n",
    "print('pi = {}'.format(pi))\n",
    "print('pi = {0}'.format(pi))\n",
    "print('pi = {}, e = {}'.format(pi, e))\n",
    "print('pi = {0}, e = {1}'.format(pi, e))\n",
    "print('pi = {1}, e = {0}'.format(e, pi))\n",
    "print('pi = {pi}, e = {e}'.format(pi=pi, e=e))"
   ]
  },
  {
   "cell_type": "code",
   "execution_count": 305,
   "metadata": {},
   "outputs": [
    {
     "name": "stdout",
     "output_type": "stream",
     "text": [
      "pi = 3.141592653589793\n",
      "pi = 3.141592653589793\n",
      "pi = 3\n",
      "pi = 3.141593\n",
      "pi = 3.141593e+00\n",
      "pi = 3.14, e = 2.72, e**pi = 23.14\n"
     ]
    }
   ],
   "source": [
    "# f-строки.\n",
    "\n",
    "from math import pi\n",
    "from math import e\n",
    "\n",
    "print(f'pi = {pi}')\n",
    "print(f'pi = {str(pi):s}')\n",
    "print(f'pi = {int(pi):d}')\n",
    "print(f'pi = {pi:f}')\n",
    "print(f'pi = {pi:e}')\n",
    "\n",
    "print(f'pi = {pi:.2f}, e = {e:.2f}, e**pi = {e**pi:.2f}')"
   ]
  },
  {
   "cell_type": "markdown",
   "metadata": {},
   "source": [
    "([к началу раздела 'Основные структуры данных Python'](#Основные-структуры-данных-Python))  \n",
    "([к содержанию](#Содержание))"
   ]
  },
  {
   "cell_type": "markdown",
   "metadata": {},
   "source": [
    "___\n",
    "## Типы данных для работы с датой и временем\n",
    "\n",
    "Для работы с датой и временем в Python имеется модуль `datetime`, который вводит следующие типы: \n",
    "* `time` - для работы со временем;\n",
    "* `date` - для работы с датой;\n",
    "* `datetime` - для работы с датой и временем;\n",
    "* `timedelta` - для работы с разницей между двумя датами.\n",
    "\n",
    "Основные задачи, которе необходимо решать при работе с датами и временем - это:\n",
    "* создание объектов `datetime`, `date` и `time` на основе имеющихся данных;\n",
    "* работа с компонентами даты/времени (год, месяц, день, часы, минуты, секунды);\n",
    "* преобразование строки, содержащей дату и время, в объект `datetime` и обратное преобразование;\n",
    "* определение интервала между двумя датами/временем;\n",
    "* вычисление нового значения даты/времени на основе известных даты/времени и интервала."
   ]
  },
  {
   "cell_type": "code",
   "execution_count": 3,
   "metadata": {},
   "outputs": [],
   "source": [
    "import datetime"
   ]
  },
  {
   "cell_type": "code",
   "execution_count": 10,
   "metadata": {},
   "outputs": [
    {
     "name": "stdout",
     "output_type": "stream",
     "text": [
      "today1 = 2020-09-25\n",
      "today2 = 2020-09-25 14:14:42.038177\n",
      "now = 2020-09-25 14:14:42.038177\n"
     ]
    }
   ],
   "source": [
    "# Создание объектов даты/времени.\n",
    "\n",
    "today1 = datetime.date.today()      # сегодня (дата)\n",
    "today2 = datetime.datetime.today()  # сегодня (дата/время)\n",
    "now = datetime.datetime.now()       # сейчас (дата/время)\n",
    "\n",
    "print(f'today1 = {today1}')\n",
    "print(f'today2 = {today2}')\n",
    "print(f'now = {now}')"
   ]
  },
  {
   "cell_type": "code",
   "execution_count": 308,
   "metadata": {},
   "outputs": [
    {
     "name": "stdout",
     "output_type": "stream",
     "text": [
      "date/time = 2019-03-14 20:30:15\n"
     ]
    }
   ],
   "source": [
    "# Создание объектов даты/времени.\n",
    "\n",
    "dt = datetime.datetime(2019, 3, 14, 20, 30, 15)\n",
    "\n",
    "print(f'date/time = {dt}')"
   ]
  },
  {
   "cell_type": "code",
   "execution_count": 309,
   "metadata": {},
   "outputs": [
    {
     "name": "stdout",
     "output_type": "stream",
     "text": [
      "date = 2019-03-14\n"
     ]
    }
   ],
   "source": [
    "# Создание объектов даты/времени.\n",
    "\n",
    "d = datetime.date(2019, 3, 14)\n",
    "\n",
    "print(f'date = {d}')"
   ]
  },
  {
   "cell_type": "code",
   "execution_count": 310,
   "metadata": {},
   "outputs": [
    {
     "name": "stdout",
     "output_type": "stream",
     "text": [
      "time = 20:30:15\n"
     ]
    }
   ],
   "source": [
    "# Создание объектов даты/времени.\n",
    "\n",
    "t = datetime.time(20, 30, 15)\n",
    "\n",
    "print(f'time = {t}')"
   ]
  },
  {
   "cell_type": "code",
   "execution_count": 311,
   "metadata": {},
   "outputs": [
    {
     "name": "stdout",
     "output_type": "stream",
     "text": [
      "date/time = 2019-03-14 20:30:15\n"
     ]
    }
   ],
   "source": [
    "# Создание объектов даты/времени.\n",
    "\n",
    "d = datetime.date(2019, 3, 14)\n",
    "t = datetime.time(20, 30, 15)\n",
    "dt = datetime.datetime.combine(d, t)\n",
    "\n",
    "print(f'date/time = {dt}')"
   ]
  },
  {
   "cell_type": "code",
   "execution_count": 312,
   "metadata": {},
   "outputs": [
    {
     "name": "stdout",
     "output_type": "stream",
     "text": [
      "year = 2019\n",
      "month = 3\n",
      "day = 14\n",
      "weekday = 3\n",
      "hour = 20\n",
      "minute = 30\n",
      "second = 15\n"
     ]
    }
   ],
   "source": [
    "# Работа с компонентами даты/времени.\n",
    "\n",
    "dt = datetime.datetime(2019, 3, 14, 20, 30, 15)\n",
    "\n",
    "year = dt.year\n",
    "month = dt.month\n",
    "day = dt.day\n",
    "\n",
    "weekday = dt.weekday()\n",
    "\n",
    "hour = dt.hour\n",
    "minute = dt.minute\n",
    "second = dt.second\n",
    "\n",
    "print(f'year = {year}')\n",
    "print(f'month = {month}')\n",
    "print(f'day = {day}')\n",
    "\n",
    "print(f'weekday = {weekday}')    \n",
    "\n",
    "print(f'hour = {hour}')\n",
    "print(f'minute = {minute}')\n",
    "print(f'second = {second}')    "
   ]
  },
  {
   "cell_type": "code",
   "execution_count": 313,
   "metadata": {},
   "outputs": [
    {
     "name": "stdout",
     "output_type": "stream",
     "text": [
      "year = 2019\n",
      "month = 3\n",
      "day = 14\n",
      "weekday = 3\n"
     ]
    }
   ],
   "source": [
    "# Работа с компонентами даты/времени.\n",
    "\n",
    "d = datetime.date(2019, 3, 14)\n",
    "\n",
    "year = d.year\n",
    "month = d.month\n",
    "day = d.day\n",
    "\n",
    "weekday = d.weekday()\n",
    "\n",
    "print(f'year = {year}')\n",
    "print(f'month = {month}')\n",
    "print(f'day = {day}')\n",
    "\n",
    "print(f'weekday = {weekday}')"
   ]
  },
  {
   "cell_type": "code",
   "execution_count": 314,
   "metadata": {},
   "outputs": [
    {
     "name": "stdout",
     "output_type": "stream",
     "text": [
      "hour = 20\n",
      "minute = 30\n",
      "second = 15\n"
     ]
    }
   ],
   "source": [
    "# Работа с компонентами даты/времени.\n",
    "\n",
    "t = datetime.time(20, 30, 15)\n",
    "\n",
    "hour = t.hour\n",
    "minute = t.minute\n",
    "second = t.second\n",
    "\n",
    "print(f'hour = {hour}')\n",
    "print(f'minute = {minute}')\n",
    "print(f'second = {second}')    "
   ]
  },
  {
   "cell_type": "code",
   "execution_count": 315,
   "metadata": {},
   "outputs": [
    {
     "name": "stdout",
     "output_type": "stream",
     "text": [
      "2020-03-15 21:45:30\n",
      "2020-03-15\n",
      "21:45:30\n"
     ]
    }
   ],
   "source": [
    "# Работа с компонентами даты/времени.\n",
    "\n",
    "dt = datetime.datetime(2019, 3, 14, 20, 30, 15)\n",
    "d = datetime.date(2019, 3, 14)\n",
    "t = datetime.time(20, 30, 15)\n",
    "\n",
    "dt = dt.replace(year = 2020, month = 3, day = 15, hour = 21, minute = 45, second = 30)\n",
    "d = d.replace(year = 2020, month = 3, day = 15)\n",
    "t = t.replace(hour = 21, minute = 45, second = 30)\n",
    "\n",
    "print(dt)\n",
    "print(d)\n",
    "print(t)"
   ]
  },
  {
   "cell_type": "code",
   "execution_count": 15,
   "metadata": {},
   "outputs": [
    {
     "name": "stdout",
     "output_type": "stream",
     "text": [
      "2019-03-12 20:30:15\n"
     ]
    }
   ],
   "source": [
    "# Преобразование строки, содержащей дату и время, в объект datetime и обратное преобразование.\n",
    "\n",
    "s = '12/03/2019, 20:30:15'\n",
    "\n",
    "dt = datetime.datetime.strptime(s, '%d/%m/%Y, %H:%M:%S')\n",
    "\n",
    "print(dt)"
   ]
  },
  {
   "cell_type": "code",
   "execution_count": 317,
   "metadata": {},
   "outputs": [
    {
     "name": "stdout",
     "output_type": "stream",
     "text": [
      "14/03/2019, 20:30:15\n"
     ]
    }
   ],
   "source": [
    "# Преобразование строки, содержащей дату и время, в объект datetime и обратное преобразование.\n",
    "\n",
    "dt = datetime.datetime(2019, 3, 14, 20, 30, 15)\n",
    "\n",
    "s = dt.strftime('%d/%m/%Y, %H:%M:%S')\n",
    "\n",
    "print(s)"
   ]
  },
  {
   "cell_type": "code",
   "execution_count": 318,
   "metadata": {},
   "outputs": [
    {
     "name": "stdout",
     "output_type": "stream",
     "text": [
      "45 days, 0:45:10\n",
      "<class 'datetime.timedelta'>\n"
     ]
    }
   ],
   "source": [
    "# Определение интервала между двумя датами/временем.\n",
    "\n",
    "dt1 = datetime.datetime(2019, 3, 14, 20, 30, 10)\n",
    "dt2 = datetime.datetime(2019, 4, 28, 21, 15, 20)\n",
    "\n",
    "delta = dt2 - dt1\n",
    "print(delta)\n",
    "print(type(delta))"
   ]
  },
  {
   "cell_type": "code",
   "execution_count": 319,
   "metadata": {},
   "outputs": [
    {
     "name": "stdout",
     "output_type": "stream",
     "text": [
      "dt1 = 2019-03-14 20:30:10\n",
      "delta = 31 days, 2:00:15\n",
      "dt2 = 2019-04-14 22:30:25\n"
     ]
    }
   ],
   "source": [
    "# Вычисление нового значения даты/времени на основе известных даты/времени и интервала.\n",
    "\n",
    "# параметры timedelta по умолчанию: days=0, seconds=0, minutes=0, hours=0\n",
    "dt1 = datetime.datetime(2019, 3, 14, 20, 30, 10)\n",
    "delta = datetime.timedelta(days=31, seconds=15, minutes=60, hours=1)\n",
    "\n",
    "dt2 = dt1 + delta\n",
    "print(f'dt1 = {dt1}')\n",
    "print(f'delta = {delta}')\n",
    "print(f'dt2 = {dt2}')"
   ]
  },
  {
   "cell_type": "markdown",
   "metadata": {},
   "source": [
    "([к началу раздела 'Типы данных для работы с датой и временем'](#Типы-данных-для-работы-с-датой-и-временем))  \n",
    "([к содержанию](#Содержание))"
   ]
  },
  {
   "cell_type": "markdown",
   "metadata": {},
   "source": [
    "___\n",
    "## Функции пользователя. Часть 2 \n",
    "\n",
    "* [Функции с неопределённым количеством аргументов](#Функции-с-неопределённым-количеством-аргументов)\n",
    "* [Вычисление значений аргументов](#Вычисление-значений-аргументов)\n",
    "* [Анонимные (lambda) функции](#Анонимные-&#040;lambda&#041;-функции)"
   ]
  },
  {
   "cell_type": "markdown",
   "metadata": {},
   "source": [
    "### Функции с неопределённым количеством аргументов\n",
    "\n",
    "Для того, чтобы объявить функцию, количество аргументов которой неопределено (может быть произвольным), необходимо использовать один или два символа ```'*'``` (звёздочка).\n",
    "\n",
    "Например:  \n",
    "```python\n",
    "def fun(*args):  \n",
    "  ...\n",
    "```\n",
    "\n",
    "или  \n",
    "\n",
    "```python\n",
    "def fun(**kwargs):  \n",
    "  ...\n",
    "```  \n",
    "\n",
    "Аргумент функции, начинающийся с одной звёздочки, - это кортеж *позиционных аргументов*, аргумент, начинающийся с двух звёздочек, - словарь *именованных аргументов*. Этим аргументам *принято* давать имена `args`, `kwargs` соответственно.\n",
    "\n",
    "**(!)** Cимвол `*` также используется для распаковки последовательности при передачи её в качестве аргумента функции."
   ]
  },
  {
   "cell_type": "code",
   "execution_count": 320,
   "metadata": {},
   "outputs": [
    {
     "name": "stdout",
     "output_type": "stream",
     "text": [
      "6\n",
      "15\n"
     ]
    }
   ],
   "source": [
    "# Функции с неопределённым количеством аргументов.\n",
    "\n",
    "def my_sum1(*args):\n",
    "    s = 0\n",
    "    \n",
    "    for arg in args:  # вычисляем сумму всех позиционных аргументов\n",
    "        s = s + arg\n",
    "    \n",
    "    return(s)\n",
    "\n",
    "s = my_sum1(1, 2, 3)\n",
    "print(s)\n",
    "\n",
    "s = my_sum1(1, 2, 3, 4, 5)\n",
    "print(s)"
   ]
  },
  {
   "cell_type": "code",
   "execution_count": 321,
   "metadata": {},
   "outputs": [
    {
     "name": "stdout",
     "output_type": "stream",
     "text": [
      "3\n",
      "6\n"
     ]
    }
   ],
   "source": [
    "# Функции с неопределённым количеством аргументов.\n",
    "\n",
    "def my_sum2(**kwargs):\n",
    "    s = 0\n",
    "    \n",
    "    for k in kwargs:\n",
    "        s = s + kwargs[k]  # вычисляем сумму всех именованных аргументов\n",
    "    \n",
    "    return(s)\n",
    "\n",
    "s = my_sum2(x = 1, y = 2)\n",
    "print(s)\n",
    "\n",
    "s = my_sum2(x = 1, y = 2, z = 3)\n",
    "print(s)"
   ]
  },
  {
   "cell_type": "code",
   "execution_count": 322,
   "metadata": {},
   "outputs": [
    {
     "name": "stdout",
     "output_type": "stream",
     "text": [
      "(3, 7, 30)\n",
      "(3, 18, 60)\n"
     ]
    }
   ],
   "source": [
    "# Функции с неопределённым количеством аргументов.\n",
    "\n",
    "def my_sum3(x, y, *args, **kwargs):\n",
    "    s1 = x + y               # вычисляем сумму всех определённых позиционных аргументов\n",
    "    \n",
    "    s2 = 0\n",
    "    for arg in args:  \n",
    "        s2 = s2 + arg        # вычисляем сумму всех неопределённых позиционных аргументов\n",
    "    \n",
    "    s3 = 0\n",
    "    for k in kwargs:\n",
    "        s3 = s3 + kwargs[k]  # вычисляем сумму всех именованных аргументов\n",
    "    \n",
    "    return(s1, s2, s3)\n",
    "\n",
    "s = my_sum3(1, 2, 3, 4, a = 10, b = 20)\n",
    "print(s)\n",
    "\n",
    "s = my_sum3(1, 2, 3, 4, 5, 6, a = 10, b = 20, c = 30)\n",
    "print(s)"
   ]
  },
  {
   "cell_type": "code",
   "execution_count": 323,
   "metadata": {},
   "outputs": [
    {
     "name": "stdout",
     "output_type": "stream",
     "text": [
      "6\n"
     ]
    }
   ],
   "source": [
    "# Функции с неопределённым количеством аргументов.\n",
    "\n",
    "def my_add1(x, y, z):  # функция с позиционными аргументами\n",
    "    return(x + y + z)\n",
    "\n",
    "x = (1, 2, 3)\n",
    "# s = my_add1(x)  # ошибка: первый аргумент функции получил кортеж, остальные аргументы остались без значений\n",
    "\n",
    "s = my_add1(*x)   # распаковка кортежа перед передачей в качестве аргументов функции\n",
    "print(s)"
   ]
  },
  {
   "cell_type": "code",
   "execution_count": 324,
   "metadata": {},
   "outputs": [
    {
     "name": "stdout",
     "output_type": "stream",
     "text": [
      "6\n"
     ]
    }
   ],
   "source": [
    "# Функции с неопределённым количеством аргументов.\n",
    "\n",
    "def my_add2(x = 0, y = 0, z = 0):  # функция с именованными аргументами\n",
    "    return(x + y + z)\n",
    "\n",
    "x = {'x': 1, 'y': 2, 'z': 3}\n",
    "# s = my_add2(x)  # ошибка: первый аргумент функции получил кортеж, остальные аргументы остались без значений\n",
    "\n",
    "s = my_add2(**x)  # распаковка словаря перед передачей в качестве аргументов функции\n",
    "print(s)"
   ]
  },
  {
   "cell_type": "markdown",
   "metadata": {},
   "source": [
    "([к разделу 'Функции пользователя (продолжение)'](#Функции-пользователя-&#040;продолжение&#041;))  \n",
    "([к содержанию](#Содержание))"
   ]
  },
  {
   "cell_type": "markdown",
   "metadata": {},
   "source": [
    "###  Вычисление значений аргументов\n",
    "Именованные аргументы функции, принимающие значение по умолчанию, инициализируются *один раз*.  \n",
    "Это может приводить к неожиданным результатам."
   ]
  },
  {
   "cell_type": "code",
   "execution_count": 325,
   "metadata": {},
   "outputs": [
    {
     "name": "stdout",
     "output_type": "stream",
     "text": [
      "[1]\n",
      "[1, 2]\n",
      "[3]\n",
      "[1, 2, 4]\n"
     ]
    }
   ],
   "source": [
    "def my_fun(x, z = []):  # Значение по умолчанию второго аргумента функции является пустым списком.\n",
    "    z.append(x)         # Так как данный список создаётся один раз, а не при каждом вызове функции, \n",
    "    return(z)           # (как кажется должно быть) это приводит к \"неожиданным\" резльтатам:\n",
    "\n",
    "print(my_fun(1))\n",
    "print(my_fun(2))\n",
    "print(my_fun(3, []))\n",
    "print(my_fun(4))"
   ]
  },
  {
   "cell_type": "code",
   "execution_count": 326,
   "metadata": {},
   "outputs": [
    {
     "name": "stdout",
     "output_type": "stream",
     "text": [
      "[1]\n",
      "[1, 2]\n",
      "[1, 2, 3]\n"
     ]
    }
   ],
   "source": [
    "z = []                 # Результаты следующих вызовов не вызывают проблем.\n",
    "print(my_fun(1, z))\n",
    "print(my_fun(2, z))\n",
    "print(my_fun(3, z))"
   ]
  },
  {
   "cell_type": "code",
   "execution_count": 327,
   "metadata": {
    "scrolled": true
   },
   "outputs": [
    {
     "name": "stdout",
     "output_type": "stream",
     "text": [
      "[1]\n",
      "[2]\n",
      "[3]\n",
      "[4]\n"
     ]
    }
   ],
   "source": [
    "def my_fun3(x, z = None): # Рекомендуемый вариант объявления функции.\n",
    "    if z is None:\n",
    "        z = [] \n",
    "    z.append(x)\n",
    "    return(z)\n",
    "\n",
    "print(my_fun3(1)) \n",
    "print(my_fun3(2))\n",
    "print(my_fun3(3, []))\n",
    "print(my_fun3(4))"
   ]
  },
  {
   "cell_type": "markdown",
   "metadata": {},
   "source": [
    "([к разделу 'Функции пользователя (продолжение)'](#Функции-пользователя-&#040;продолжение&#041;))  \n",
    "([к содержанию](#Содержание))"
   ]
  },
  {
   "cell_type": "markdown",
   "metadata": {},
   "source": [
    "### Анонимные (lambda) функции\n",
    "\n",
    "Некоторые методы Python принимают на вход в качестве аргументов функции. Чтобы воспользоваться таким методом, необходимо функцию определить. Когда функция имеет небольшой размер, такой подход приводит к неоправданно громоздкому коду. В этом случае рекомендуется использовать *анонимную* (*lambda*) *функцию*, описание которой происходит прямо в момент обращения к методу.\n",
    "\n",
    "Синтаксис применения lambda-функции следующий:\n",
    "```python  \n",
    "  var = somefunction(x = lambda arg1, arg2,..., argn: expression,...)\n",
    "```  \n",
    "\n",
    "Это эквивалентно следующему коду:  \n",
    "```python  \n",
    "  def fun(arg1, arg2,..., argn):\n",
    "    result = expression\n",
    "    return(result)\n",
    "  \n",
    "  var = somefunction(x = fun,...)\n",
    "```"
   ]
  },
  {
   "cell_type": "code",
   "execution_count": 328,
   "metadata": {},
   "outputs": [
    {
     "name": "stdout",
     "output_type": "stream",
     "text": [
      "['to', 'be', 'or', 'not', 'to', 'be', 'that', 'is', 'the', 'question']\n",
      "['be', 'be', 'is', 'not', 'or', 'question', 'that', 'the', 'to', 'to']\n",
      "['to', 'be', 'or', 'to', 'be', 'is', 'not', 'the', 'that', 'question']\n",
      "['be', 'be', 'the', 'question', 'to', 'to', 'or', 'is', 'that', 'not']\n"
     ]
    }
   ],
   "source": [
    "# Анонимные (lambda) функции.\n",
    "\n",
    "x = 'to be or not to be that is the question'.split(sep = ' ')\n",
    "print(x)\n",
    "\n",
    "z = x[:]\n",
    "z.sort()  # лексикографическая сортировка (по алфавиту)\n",
    "print(z)\n",
    "\n",
    "z = x[:]\n",
    "z.sort(key = lambda s: len(s))  # сортировка по длине строки\n",
    "print(z)\n",
    "\n",
    "z = x[:]\n",
    "z.sort(key = lambda s: s[::-1])  # инверсная лексикографическая сортировка (по алфавиту при чтении справа налево)\n",
    "print(z)"
   ]
  },
  {
   "cell_type": "markdown",
   "metadata": {},
   "source": [
    "([к разделу 'Функции пользователя. Часть 2'](#Функции-пользователя.-Часть-2))  \n",
    "([к содержанию](#Содержание))"
   ]
  },
  {
   "cell_type": "markdown",
   "metadata": {},
   "source": [
    "___\n",
    "## Приёмы и функции для работы с последовательностями\n",
    "\n",
    "* [Срезы последовательностей](#Срезы-последовательностей)\n",
    "* [Генератор последовательностей (функция range)](#Генератор-последовательностей-&#040;функция-range&#041;)\n",
    "* [Заполнение списков (list comprehension)](#Заполнение-списков-&#040;list-comprehension&#041;)\n",
    "* [Генераторные выражения](#Генераторные-выражения)\n",
    "* [Функции для работы последовательностями](#Функции-для-работы-последовательностями)\n",
    "* [Элементы функционального программирования](#Элементы-функционального-программирования)\n"
   ]
  },
  {
   "cell_type": "markdown",
   "metadata": {},
   "source": [
    "### Срезы последовательностей\n",
    "\n",
    "При работе с последовательностями часто возникает необходимость получения доступа к их отдельным элементам или сразу к группе элементов.\n",
    "\n",
    "Для доступа к отдельному элементу применяется операция *извлечения элемента по индексу* `[index]`, при этом первый элемент последовательности имеет индекс равный 0.\n",
    "\n",
    "```python\n",
    ">> x = [1, 2, 3, 4, 5]\n",
    "\n",
    ">> print(x[0])\n",
    ">> 1\n",
    "```\n",
    "\n",
    "Для доступа к группе элементов последовательности применяется *извлечения среза данных*. В общем случае срез представляет собой тройку чисел разделённых символом двоеточия: \n",
    "\n",
    "```python\n",
    "[start : stop : step], \n",
    "```\n",
    "\n",
    "где `start` - индекс первого элемента группы, `stop` - индекс последнего элемента группы, `step` - размер шага, с которым выбираются элементы группы.\n",
    "\n",
    "Важно помнить следующие правила:\n",
    "\n",
    "* элемент с индексом `stop` не включается в группу;\n",
    "* отрицательное значение `step` означает перебор элементов в направлении к меньшему индексу;\n",
    "* если значение `start` не указано, то оно равно `0` при `step >= 0`, и равно `(n - 1)` при `step < 0`; \n",
    "* если значение `stop` не указано, то оно равно `n` при `step >= 0`, и равно `(-1)` при `step < 0`;\n",
    "* отрицательные значения `start` и `stop` интерпретируются как `(n + start)` и `(n + stop)` - соответственно;\n",
    "* запись среза в виде одного или двух двоеточий (`:` или `::`) означает выбор всех элементов последовательности.\n",
    "\n",
    "Здесь `n` - размер последовательности. "
   ]
  },
  {
   "cell_type": "code",
   "execution_count": 329,
   "metadata": {},
   "outputs": [
    {
     "name": "stdout",
     "output_type": "stream",
     "text": [
      "1\n",
      "7\n",
      "[1, 2, 3, 4, 5, 6, 7]\n",
      "[1, 2, 3, 4, 5, 6, 7]\n"
     ]
    }
   ],
   "source": [
    "# Срезы последовательностей.\n",
    "\n",
    "x = [1, 2, 3, 4, 5, 6, 7]\n",
    "\n",
    "print(x[0])\n",
    "print(x[6])\n",
    "\n",
    "print(x[:])\n",
    "print(x[::])"
   ]
  },
  {
   "cell_type": "code",
   "execution_count": 330,
   "metadata": {},
   "outputs": [
    {
     "name": "stdout",
     "output_type": "stream",
     "text": [
      "[2, 3, 4, 5]\n",
      "[2, 4]\n"
     ]
    }
   ],
   "source": [
    "# Срезы последовательностей.\n",
    "\n",
    "x = [1, 2, 3, 4, 5, 6, 7]\n",
    "\n",
    "print(x[1:5])\n",
    "print(x[1:5:2])"
   ]
  },
  {
   "cell_type": "code",
   "execution_count": 331,
   "metadata": {},
   "outputs": [
    {
     "name": "stdout",
     "output_type": "stream",
     "text": [
      "[4, 5, 6, 7]\n",
      "[1, 2, 3]\n"
     ]
    }
   ],
   "source": [
    "# Срезы последовательностей.\n",
    "\n",
    "x = [1, 2, 3, 4, 5, 6, 7]\n",
    "\n",
    "print(x[3:])  # start = 3, stop = n\n",
    "print(x[:3])  # start = 0, stop = 3"
   ]
  },
  {
   "cell_type": "code",
   "execution_count": 332,
   "metadata": {},
   "outputs": [
    {
     "name": "stdout",
     "output_type": "stream",
     "text": [
      "[6, 5, 4, 3]\n",
      "[6, 4]\n"
     ]
    }
   ],
   "source": [
    "# Срезы последовательностей.\n",
    "\n",
    "x = [1, 2, 3, 4, 5, 6, 7]\n",
    "\n",
    "print(x[5:1:-1])\n",
    "print(x[5:1:-2])"
   ]
  },
  {
   "cell_type": "code",
   "execution_count": 333,
   "metadata": {},
   "outputs": [
    {
     "name": "stdout",
     "output_type": "stream",
     "text": [
      "[1, 3, 5, 7]\n",
      "[7, 6, 5, 4, 3, 2, 1]\n",
      "[7, 6, 5, 4, 3, 2]\n",
      "[7, 6, 5, 4, 3]\n",
      "[7, 6, 5, 4]\n",
      "[7, 5]\n"
     ]
    }
   ],
   "source": [
    "# Срезы последовательностей.\n",
    "\n",
    "x = [1, 2, 3, 4, 5, 6, 7]\n",
    "\n",
    "print(x[::2])\n",
    "\n",
    "print(x[::-1])   # start = n-1, stop = -1\n",
    "print(x[:0:-1])  # start = n-1, stop = 0\n",
    "print(x[:1:-1])  # start = n-1, stop = 1\n",
    "print(x[:2:-1])  # start = n-1, stop = 2\n",
    "print(x[:2:-2])  # start = n-1, stop = 2"
   ]
  },
  {
   "cell_type": "markdown",
   "metadata": {},
   "source": [
    "([к разделу 'Приёмы и функции для работы с последовательностями'](#Приёмы-и-функции-для-работы-с-последовательностями))  \n",
    "([к содержанию](#Содержание))"
   ]
  },
  {
   "cell_type": "markdown",
   "metadata": {},
   "source": [
    "### Генератор последовательностей (функция range)\n",
    "\n",
    "Функция `range()` возвращает последовательность чисел. Типичное применение функции `range()` - организация циклов. \n",
    "\n",
    "**(!)** Если быть точным, то функция `range()` возвращает объект класса `range`, который реализует *протокол итератора*, т.е. может вернуть значение следующего элемента последовательности в ответ на запрос `Next`. Примером применения протокола итератора является цикл `for`.\n",
    "\n",
    "**(!)** Использование объекта `range` вместо последовательности чисел приводит\n",
    " * к более эффективному использованию памяти (объём памяти не зависит от размера создаваемой последовательности);  \n",
    " * к невозможности применения операций конкатенации и повторения.\n",
    "\n",
    "Существует две формы записи функции range:  \n",
    "```python\n",
    "  range(stop),\n",
    "  range(start, stop[, step]),\n",
    "```\n",
    "где `start`, `stop` и `step` - соответственно начальное, конечное значения и шаг между элементами.  \n",
    "Если используется первая форма записи, то по умолчанию `start = 0`, значение по умолчанию параметра `step = 1`.  "
   ]
  },
  {
   "cell_type": "code",
   "execution_count": 334,
   "metadata": {},
   "outputs": [
    {
     "name": "stdout",
     "output_type": "stream",
     "text": [
      "<class 'range'>\n",
      "4\n",
      "2\n",
      "range(2, 5)\n"
     ]
    }
   ],
   "source": [
    "# Генератор последовательностей (функция range)\n",
    "\n",
    "r = range(1,5)\n",
    "\n",
    "print(type(r))\n",
    "print(len(r))\n",
    "\n",
    "print(r[1])    # Возвращает запрошенный элемент.\n",
    "print(r[1:4])  # Но! Возвращает объект класса range."
   ]
  },
  {
   "cell_type": "code",
   "execution_count": 335,
   "metadata": {},
   "outputs": [
    {
     "name": "stdout",
     "output_type": "stream",
     "text": [
      "0\n",
      "1\n",
      "2\n",
      "3\n",
      "4\n"
     ]
    }
   ],
   "source": [
    "# Генератор последовательностей (функция range)\n",
    "\n",
    "for i in range(5):\n",
    "    print(i)"
   ]
  },
  {
   "cell_type": "code",
   "execution_count": 336,
   "metadata": {},
   "outputs": [
    {
     "name": "stdout",
     "output_type": "stream",
     "text": [
      "1\n",
      "2\n",
      "3\n",
      "4\n"
     ]
    }
   ],
   "source": [
    "# Генератор последовательностей (функция range)\n",
    "\n",
    "for i in range(1,5):\n",
    "    print(i)"
   ]
  },
  {
   "cell_type": "code",
   "execution_count": 337,
   "metadata": {},
   "outputs": [
    {
     "name": "stdout",
     "output_type": "stream",
     "text": [
      "1\n",
      "3\n",
      "5\n",
      "7\n",
      "9\n"
     ]
    }
   ],
   "source": [
    "# Генератор последовательностей (функция range)\n",
    "\n",
    "for i in range(1, 10, 2):\n",
    "    print(i)"
   ]
  },
  {
   "cell_type": "code",
   "execution_count": 338,
   "metadata": {},
   "outputs": [
    {
     "name": "stdout",
     "output_type": "stream",
     "text": [
      "10\n",
      "8\n",
      "6\n",
      "4\n",
      "2\n"
     ]
    }
   ],
   "source": [
    "# Генератор последовательностей (функция range)\n",
    "\n",
    "for i in range(10, 1, -2):\n",
    "    print(i)"
   ]
  },
  {
   "cell_type": "markdown",
   "metadata": {},
   "source": [
    "([к разделу 'Приёмы и функции для работы с последовательностями'](#Приёмы-и-функции-для-работы-с-последовательностями))  \n",
    "([к содержанию](#Содержание))"
   ]
  },
  {
   "cell_type": "markdown",
   "metadata": {},
   "source": [
    "### Заполнение списков (list comprehension) \n",
    "\n",
    "*Заполнение списков* (а также словарей и множеств) - это краткая форма записи механизма создания нового списка (славаря, множества).\n",
    "\n",
    "Синтаксис для операции заполнения списка (для словаря и множества синтаксис аналогичен):  \n",
    "```python\n",
    "  var = [expression for val in collection if condition]\n",
    "```\n",
    "где ```var``` - это результирующий список, элементы которого вычисляются с помощью выражения ```expression```,  \n",
    "которое вычисляется для каждого элемента коллекции ```collection``` при условии выполнения условия ```condition```.\n",
    "\n",
    "Данный код является компактной формой записи (говорят, \"является синтаксической глазурью\") следующей последовательности действий:\n",
    "```python\n",
    "  var = []\n",
    "  for val in collection:\n",
    "    if condition(val):\n",
    "      var.append(val)\n",
    "```"
   ]
  },
  {
   "cell_type": "code",
   "execution_count": 339,
   "metadata": {},
   "outputs": [
    {
     "name": "stdout",
     "output_type": "stream",
     "text": [
      "[1, 2, 3]\n",
      "[1, 4, 9]\n"
     ]
    }
   ],
   "source": [
    "# Заполнение списков (list comprehension).\n",
    "\n",
    "x = [1, 2, 3]\n",
    "y = [v ** 2 for v in x]  # элементы нового списка y - это квадраты элементов списка x\n",
    "\n",
    "print(x)\n",
    "print(y)"
   ]
  },
  {
   "cell_type": "code",
   "execution_count": 340,
   "metadata": {},
   "outputs": [
    {
     "name": "stdout",
     "output_type": "stream",
     "text": [
      "[1, 2, 3, 4, 5]\n",
      "[4, 16]\n"
     ]
    }
   ],
   "source": [
    "# Заполнение списков (list comprehension).\n",
    "\n",
    "x = [1, 2, 3, 4, 5]\n",
    "y = [v ** 2 for v in x if v % 2 == 0]  # элементы нового списка y - это квадраты чётных элементов списка x\n",
    "\n",
    "print(x)\n",
    "print(y)"
   ]
  },
  {
   "cell_type": "code",
   "execution_count": 341,
   "metadata": {},
   "outputs": [
    {
     "name": "stdout",
     "output_type": "stream",
     "text": [
      "[1, 2, 3]\n",
      "{1: 1, 2: 4, 3: 9}\n"
     ]
    }
   ],
   "source": [
    "# Заполнение списков (list comprehension).\n",
    "\n",
    "x = [1, 2, 3]\n",
    "y = {k: k ** 2 for k in x}  # элементы нового словаря y - это пары (элемент списка x, его квадрат)\n",
    "\n",
    "print(x)\n",
    "print(y)"
   ]
  },
  {
   "cell_type": "code",
   "execution_count": 342,
   "metadata": {},
   "outputs": [
    {
     "name": "stdout",
     "output_type": "stream",
     "text": [
      "[2, -1, 0, -3, 4, -1, 2]\n",
      "{2, 4}\n"
     ]
    }
   ],
   "source": [
    "# Заполнение списков (list comprehension).\n",
    "\n",
    "x = [2, -1, 0, -3, 4, -1, 2]\n",
    "y = {v for v in x if v > 0}  # фильтрация положительных элементов списка x в множество y\n",
    "\n",
    "print(x)\n",
    "print(y)"
   ]
  },
  {
   "cell_type": "markdown",
   "metadata": {},
   "source": [
    "([к разделу 'Приёмы и функции для работы с последовательностями'](#Приёмы-и-функции-для-работы-с-последовательностями))  \n",
    "([к содержанию](#Содержание))"
   ]
  },
  {
   "cell_type": "markdown",
   "metadata": {},
   "source": [
    "### Функции для работы последовательностями\n",
    "\n",
    "* `sorted(collection)` - возвращает отсортированный по возрастанию список элементов коллекции `collection`  \n",
    "* `reversed(collection)` - возвращает итератор элементов коллекции `collection`, перебирающий элементы в обратном порядке \n",
    "* `enumerate(collection)` - возвращает список кортежей вида `(i, value)`, где value - `i`-й элемент последовательности `collection`   \n",
    "* `zip(collection1, collection2,...)` - возвращает список кортежей, состоящих их элементов `collection1`, `collection2`,..."
   ]
  },
  {
   "cell_type": "code",
   "execution_count": 343,
   "metadata": {},
   "outputs": [
    {
     "name": "stdout",
     "output_type": "stream",
     "text": [
      "(1, 2, 3, 2, 1)\n",
      "[1, 1, 2, 2, 3]\n"
     ]
    }
   ],
   "source": [
    "# Функции для работы последовательностями.\n",
    "\n",
    "x = (1, 2, 3, 2, 1)\n",
    "y = sorted(x)\n",
    "\n",
    "print(x)  # исходный список остался без изменения.\n",
    "print(y)  # создана копия списка"
   ]
  },
  {
   "cell_type": "code",
   "execution_count": 344,
   "metadata": {},
   "outputs": [
    {
     "name": "stdout",
     "output_type": "stream",
     "text": [
      "(1, 2, 3, 4, 5)\n",
      "<reversed object at 0x000000000541B208>\n",
      "<class 'reversed'>\n",
      "[5, 4, 3, 2, 1]\n"
     ]
    }
   ],
   "source": [
    "# Функции для работы последовательностями.\n",
    "\n",
    "x = (1, 2, 3, 4, 5)\n",
    "y = reversed(x)\n",
    "\n",
    "print(x)\n",
    "print(y)\n",
    "\n",
    "print(type(y))  # <class 'reversed'>, итератор\n",
    "print(list(y))  # \"материализация\" итератора"
   ]
  },
  {
   "cell_type": "code",
   "execution_count": 345,
   "metadata": {},
   "outputs": [
    {
     "name": "stdout",
     "output_type": "stream",
     "text": [
      "(0, 'zero')\n",
      "(1, 'one')\n",
      "(2, 'two')\n"
     ]
    }
   ],
   "source": [
    "# Функции для работы последовательностями.\n",
    "\n",
    "x = ['zero', 'one', 'two']\n",
    "for t in enumerate(x):\n",
    "    print(t)"
   ]
  },
  {
   "cell_type": "code",
   "execution_count": 346,
   "metadata": {
    "scrolled": true
   },
   "outputs": [
    {
     "name": "stdout",
     "output_type": "stream",
     "text": [
      "('Alice', 40, 'zero')\n",
      "('Bob', 10, 'one')\n",
      "('Jack', 50, 'two')\n"
     ]
    }
   ],
   "source": [
    "# Функции для работы последовательностями.\n",
    "\n",
    "x = ['Alice', 'Bob', 'Jack']\n",
    "y = {10, 20, 30, 40, 50}\n",
    "z = {'zero': 0, 'one': 1, 'two': 2, 'ten': 10}\n",
    "\n",
    "for v in zip(x, y, z):  # длина результирующего списка равна длине наименьшей коллекции\n",
    "    print(v)\n"
   ]
  },
  {
   "cell_type": "markdown",
   "metadata": {},
   "source": [
    "([к разделу 'Приёмы и функции для работы с последовательностями'](#Приёмы-и-функции-для-работы-с-последовательностями))  \n",
    "([к содержанию](#Содержание))"
   ]
  },
  {
   "cell_type": "markdown",
   "metadata": {},
   "source": [
    "### Элементы функционального программирования\n",
    "\n",
    "* `filter(fun, collection)` - возвращает элементы последовательности `collection`, для которых функция `fun` возвращает значение `True`\n",
    "* `map(fun, collection)` - применяет функцию `fun` ко всем элементам коллекции `collection`\n",
    "* `reduce(fun, collection, [init])` - осуществляет *свёртку* коллекции с помощью функции `fun`, используя в качестве начального значениe `init`\n",
    "\n",
    "Функция `reduce` реализует следующий алгоритм:\n",
    "\n",
    "```python\n",
    "def reduce(fun, collection, init = None):\n",
    "    \n",
    "  if init is None:             # если начальное значение init не задано, \n",
    "    result = next(collection)  # берём из collection первый элемент в качестве начального.\n",
    "  else: \n",
    "    result = init\n",
    "    \n",
    "  for value in collection:\n",
    "    result = fun(result, value)\n",
    "    \n",
    "  return(result)\n",
    "```\n",
    "\n",
    "**(!)** В Python 3 функции `filter()` и `map()` возвращают итераторы, функция `reduce()` вынесена в отдельный модуль `functools`."
   ]
  },
  {
   "cell_type": "code",
   "execution_count": 347,
   "metadata": {},
   "outputs": [
    {
     "name": "stdout",
     "output_type": "stream",
     "text": [
      "[1, 2, 3, 4, 5]\n",
      "<map object at 0x000000000541B940>\n",
      "<class 'map'>\n",
      "[1, 4, 9, 16, 25]\n"
     ]
    }
   ],
   "source": [
    "# Элементы функционального программирования.\n",
    "\n",
    "x = [1, 2, 3, 4, 5]\n",
    "y = map(lambda v: v ** 2, x)  # элементы списка x возводятся в квадрат\n",
    "\n",
    "print(x)\n",
    "print(y)\n",
    "\n",
    "print(type(y))  # <class 'map'>, итератор\n",
    "print(list(y))  # \"материализация\" итератора"
   ]
  },
  {
   "cell_type": "code",
   "execution_count": 348,
   "metadata": {},
   "outputs": [
    {
     "name": "stdout",
     "output_type": "stream",
     "text": [
      "[1, 2, 3, 4, 5]\n",
      "<filter object at 0x000000000541B898>\n",
      "<class 'filter'>\n",
      "[2, 4]\n"
     ]
    }
   ],
   "source": [
    "# Элементы функционального программирования.\n",
    "\n",
    "x = [1, 2, 3, 4, 5]\n",
    "y = filter(lambda v: v % 2 == 0, x)  # фильтрация чётных чисел\n",
    "\n",
    "print(x)\n",
    "print(y)\n",
    "\n",
    "print(type(y))  # <class 'filter'>, итератор\n",
    "print(list(y))  # \"материализация\" итератора"
   ]
  },
  {
   "cell_type": "code",
   "execution_count": 349,
   "metadata": {
    "scrolled": true
   },
   "outputs": [
    {
     "name": "stdout",
     "output_type": "stream",
     "text": [
      "[1, 2, 3, 4, 5]\n",
      "15\n",
      "15\n"
     ]
    }
   ],
   "source": [
    "# Элементы функционального программирования.\n",
    "\n",
    "from functools import reduce\n",
    "\n",
    "x = [1, 2, 3, 4, 5]\n",
    "y = reduce(lambda a, b: a + b, x)\n",
    "z = reduce(lambda a, b: a + b, x, 0)\n",
    "\n",
    "print(x)\n",
    "print(y)  # (((1 + 2) + 3) + 4) + 5\n",
    "print(z)  # ((((0 + 1) + 2) + 3) + 4) + 5"
   ]
  },
  {
   "cell_type": "markdown",
   "metadata": {},
   "source": [
    "([к разделу 'Приёмы и функции для работы с последовательностями'](#Приёмы-и-функции-для-работы-с-последовательностями))  \n",
    "([к содержанию](#Содержание))"
   ]
  }
 ],
 "metadata": {
  "kernelspec": {
   "display_name": "Python 3",
   "language": "python",
   "name": "python3"
  },
  "language_info": {
   "codemirror_mode": {
    "name": "ipython",
    "version": 3
   },
   "file_extension": ".py",
   "mimetype": "text/x-python",
   "name": "python",
   "nbconvert_exporter": "python",
   "pygments_lexer": "ipython3",
   "version": "3.8.10"
  }
 },
 "nbformat": 4,
 "nbformat_minor": 4
}
