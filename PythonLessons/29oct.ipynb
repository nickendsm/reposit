{
 "cells": [
  {
   "cell_type": "markdown",
   "id": "ecb3b8c6-4015-4fce-9cbf-5f28c5256f2b",
   "metadata": {},
   "source": [
    "### Интерфейс Tkinter"
   ]
  },
  {
   "cell_type": "markdown",
   "id": "ea3a5bc3-4492-4294-b088-16e5559b267c",
   "metadata": {},
   "source": [
    "### Label"
   ]
  },
  {
   "cell_type": "code",
   "execution_count": 7,
   "id": "58e34511-6e9d-4d55-8f97-b1dabf410da1",
   "metadata": {},
   "outputs": [],
   "source": [
    "from tkinter import *\n",
    "window = Tk()\n",
    "window.title('Случайный интерфейс')\n",
    "window.geometry('400x400')\n",
    "lbl = Label(window, text = 'Привет')\n",
    "# lbl.grid(column=0, row=0)\n",
    "lbl.pack()\n",
    "window.mainloop()"
   ]
  },
  {
   "cell_type": "markdown",
   "id": "1626bd56-868e-4cd1-90a0-a4b75edf2a43",
   "metadata": {},
   "source": [
    "### Поле ввода, кнопка, label"
   ]
  },
  {
   "cell_type": "code",
   "execution_count": 13,
   "id": "6045f692-9b73-494d-8f91-4d23ce8a6e5b",
   "metadata": {},
   "outputs": [],
   "source": [
    "def clicked():\n",
    "    res = \"Привет, {}\".format(text.get())\n",
    "    lbl.configure(text = res)\n",
    "window = Tk()\n",
    "window.title('Случайный интерфейс')\n",
    "window.geometry('400x400')\n",
    "lbl = Label(window, text = 'Привет')\n",
    "lbl.grid(column=0, row=0)\n",
    "text = Entry(window, width = 10)\n",
    "text.grid(column=1, row =0)\n",
    "btn = Button(window, text = 'Клик', command = clicked)\n",
    "btn.grid(column=2, row=0)\n",
    "# lbl.pack()\n",
    "window.mainloop()"
   ]
  },
  {
   "cell_type": "markdown",
   "id": "88dc6169-e5d1-4ede-b2d9-916e6ea1f950",
   "metadata": {},
   "source": [
    "### Выпадающий список"
   ]
  },
  {
   "cell_type": "code",
   "execution_count": 16,
   "id": "1c14b670-93f7-4589-b372-8b781b61f481",
   "metadata": {},
   "outputs": [],
   "source": [
    "from tkinter.ttk import Combobox\n",
    "window = Tk()\n",
    "window.title('Случайный интерфейс')\n",
    "window.geometry('400x400')\n",
    "lbl = Label(window, text = 'Привет')\n",
    "lbl.grid(column=0, row=0)\n",
    "text = Entry(window, width = 10)\n",
    "text.grid(column=1, row =0)\n",
    "btn = Button(window, text = 'Клик', command = clicked)\n",
    "btn.grid(column=2, row=0)\n",
    "combo = Combobox(window)\n",
    "combo['values'] = (1,2,3,4,'Текст')\n",
    "combo.current(1)\n",
    "combo.grid(column =0, row = 1)\n",
    "# lbl.pack()\n",
    "window.mainloop()"
   ]
  },
  {
   "cell_type": "markdown",
   "id": "e2d4a525-26be-41a8-98f6-d5553fb65f27",
   "metadata": {},
   "source": [
    "### Чекбокс"
   ]
  },
  {
   "cell_type": "code",
   "execution_count": 25,
   "id": "afba28c3-9004-4af7-b712-434b6b57a524",
   "metadata": {},
   "outputs": [
    {
     "name": "stdout",
     "output_type": "stream",
     "text": [
      "1\n"
     ]
    }
   ],
   "source": [
    "def printcom():\n",
    "    print(1)\n",
    "window = Tk()\n",
    "window.title('Случайный интерфейс')\n",
    "window.geometry('400x400')\n",
    "chk_state = BooleanVar()\n",
    "chk_state.set(False)\n",
    "chk = Checkbutton(window, text='Выбрать', var=chk_state)\n",
    "chk.grid(column=0, row=0)\n",
    "# lbl.pack()\n",
    "window.mainloop()"
   ]
  },
  {
   "cell_type": "markdown",
   "id": "4f6bcd08-6669-4f2c-a8e3-e338509a3bfc",
   "metadata": {},
   "source": [
    "### Радиобаттоны"
   ]
  },
  {
   "cell_type": "code",
   "execution_count": null,
   "id": "7d732585-0ff8-433f-8de7-aa4e61b945e2",
   "metadata": {},
   "outputs": [],
   "source": [
    "rad1 = Radiobutton(window, text='Первый', value=1)\n",
    "rad2 = Radiobutton(window, text='Второй', value=2)\n",
    "rad3 = Radiobutton(window, text='Третий', value=3)"
   ]
  },
  {
   "cell_type": "markdown",
   "id": "7fe019e3-b1b5-472f-bd2d-a38183ca300b",
   "metadata": {},
   "source": [
    "### Меню"
   ]
  },
  {
   "cell_type": "code",
   "execution_count": 39,
   "id": "2f1a6881-4f11-440e-be1a-2dcd2fc4450e",
   "metadata": {},
   "outputs": [],
   "source": [
    "window = Tk()\n",
    "window.title('Случайный интерфейс')\n",
    "window.geometry('400x400')\n",
    "### основное меню - menu\n",
    "menu = Menu(window)\n",
    "### первый каскад(вкладка)\n",
    "new_item = Menu(menu, tearoff=0)\n",
    "new_item.add_command(label='Новый')\n",
    "new_item.add_command(label='Старый')\n",
    "### второй каскад(вторая вкладка)\n",
    "sec_item = Menu(menu, tearoff=0)\n",
    "sec_item.add_command(label='Помощь 1')\n",
    "### каскад, относящийся к второму каскаду\n",
    "third_item = Menu(sec_item, tearoff=0)\n",
    "third_item.add_command(label='На сайте')\n",
    "third_item.add_command(label='На сайте другой')\n",
    "menu.add_cascade(label='Файл', menu=new_item)\n",
    "menu.add_cascade(label='Справка', menu=sec_item)\n",
    "sec_item.add_cascade(label='Помощь 2', menu=third_item)\n",
    "window.config(menu=menu)\n",
    "# lbl.pack()\n",
    "window.mainloop()"
   ]
  },
  {
   "cell_type": "markdown",
   "id": "8f7ec34b-cfb0-4541-968b-fd836986b708",
   "metadata": {},
   "source": [
    "### Рисование на канвасе(холсте)"
   ]
  },
  {
   "cell_type": "code",
   "execution_count": 48,
   "id": "765f7264-3323-4b1b-91c6-3cfeeb249bc6",
   "metadata": {},
   "outputs": [],
   "source": [
    "def triangle(event):\n",
    "    global x,y\n",
    "    x = event.x\n",
    "    y = event.y\n",
    "    c.create_polygon(x,y,x-15,y+30,x+15,y+30,fill='white',outline='black')\n",
    "    \n",
    "def square(event):\n",
    "    global x,y\n",
    "    x = event.x\n",
    "    y = event.y\n",
    "    c.create_rectangle(x,y, x+15, y+15, fill='white', outline='black')\n",
    "    \n",
    "window = Tk()\n",
    "window.title('Случайный интерфейс')\n",
    "window.geometry('500x500')\n",
    "c = Canvas(width=500, height=500, bg='yellow')\n",
    "c.pack()\n",
    "c.bind('<Button-1>', square)\n",
    "c.bind('<Button-3>', triangle)\n",
    "# menu = Menu(window,tearoff = 0)\n",
    "# new_item = Menu(menu, tearoff=0)\n",
    "# new_item.add_command(label='Квадрат', command=square)\n",
    "# new_item.add_command(label='Треугольник', command=triangle)\n",
    "# menu.add_cascade(label='Нарисовать', menu=new_item)\n",
    "window.config(menu=menu)\n",
    "window.mainloop()"
   ]
  },
  {
   "cell_type": "markdown",
   "id": "6ef0fa43-a23e-44e8-aaf3-0620e504c232",
   "metadata": {},
   "source": [
    "### Написание интерфейса через классы"
   ]
  },
  {
   "cell_type": "code",
   "execution_count": 50,
   "id": "9da56bed-6985-4b0f-8d2a-04aa2987d516",
   "metadata": {},
   "outputs": [],
   "source": [
    "window = Tk()\n",
    "window.title('Карта местности')\n",
    "class Canv():\n",
    "    def __init__(self):\n",
    "        self.c = Canvas(width=500, height=500, bg='yellow')\n",
    "        self.c.pack()\n",
    "        self.c.bind('<Button-1>', self.square)\n",
    "        self.c.bind('<Button-3>', self.triangle)\n",
    "        \n",
    "    def take_coords(self, event):\n",
    "        global x,y\n",
    "        x = event.x\n",
    "        y = event.y\n",
    "        \n",
    "    def square(self, event):\n",
    "        self.take_coords(event)\n",
    "        self.c.create_rectangle(x,y, x+15, y+15, fill='white', outline='black')\n",
    "    \n",
    "    def triangle(self,event):\n",
    "        self.take_coords(event)\n",
    "        self.c.create_polygon(x,y,x-15,y+30,x+15,y+30,fill='white',outline='black')\n",
    "maincanv = Canv()\n",
    "window.mainloop()"
   ]
  },
  {
   "cell_type": "markdown",
   "id": "42655026-c778-4f4e-8e2d-679227226e4d",
   "metadata": {},
   "source": [
    "### Matplotlib и Tkinter"
   ]
  },
  {
   "cell_type": "code",
   "execution_count": 52,
   "id": "bb70de06-3c3f-4ebc-ad38-935c40eec939",
   "metadata": {},
   "outputs": [],
   "source": [
    "import matplotlib\n",
    "matplotlib.use('TkAgg')\n",
    "from matplotlib.figure import Figure\n",
    "from matplotlib.backends.backend_tkagg import FigureCanvasTkAgg\n"
   ]
  },
  {
   "cell_type": "code",
   "execution_count": 57,
   "id": "e5d3bd2f-b6d2-43a5-926b-276993e3abfc",
   "metadata": {},
   "outputs": [],
   "source": [
    "import numpy as np\n",
    "window = Tk()\n",
    "x = np.arange(50)\n",
    "y = [i**2 for i in x]\n",
    "figure = Figure(figsize=(5,4) ,dpi=100)\n",
    "plt = figure.add_subplot(1,1,1)\n",
    "plt.plot(x,y)\n",
    "canvas = FigureCanvasTkAgg(figure, window)\n",
    "canvas.get_tk_widget().grid(row=0, column=0)\n",
    "window.mainloop()"
   ]
  },
  {
   "cell_type": "code",
   "execution_count": null,
   "id": "6987f827-6b5e-4ab3-9532-dcefb97dd9eb",
   "metadata": {},
   "outputs": [],
   "source": [
    "class Matplot(): ## это класс\n",
    "    def __init__(self):\n",
    "        self.window = Tk()\n",
    "        self.figure = Figure(figsize=(5, 4), dpi=100)\n",
    "        self.plt = self.figure.add_subplot(1, 1, 1)\n",
    "        self.canvas = FigureCanvasTkAgg(self.figure, self.window)\n",
    "        self.canvas.get_tk_widget().grid(row=0, column=0)\n",
    "        self.btn = Button(self.window, text=\"Клик!\", command=self.clicked)  \n",
    "        self.btn.grid(column=0, row=1)  \n",
    "        self.loop()\n",
    "    def clicked(self):\n",
    "        self.x = np.arange(50)\n",
    "        self.y = [i**2 for i in x]\n",
    "        self.plt.plot(x,y)\n",
    "        self.canvas = FigureCanvasTkAgg(self.figure, self.window)\n",
    "        self.canvas.get_tk_widget().grid(row=0, column=0)\n",
    "    def loop(self):\n",
    "        self.window.mainloop()\n",
    "Matplot()"
   ]
  },
  {
   "cell_type": "code",
   "execution_count": null,
   "id": "769a9bf8-9361-4c57-8d75-e5759715da53",
   "metadata": {},
   "outputs": [],
   "source": []
  }
 ],
 "metadata": {
  "kernelspec": {
   "display_name": "Python 3",
   "language": "python",
   "name": "python3"
  },
  "language_info": {
   "codemirror_mode": {
    "name": "ipython",
    "version": 3
   },
   "file_extension": ".py",
   "mimetype": "text/x-python",
   "name": "python",
   "nbconvert_exporter": "python",
   "pygments_lexer": "ipython3",
   "version": "3.8.10"
  }
 },
 "nbformat": 4,
 "nbformat_minor": 5
}
