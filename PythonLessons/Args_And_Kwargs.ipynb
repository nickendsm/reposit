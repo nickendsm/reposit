{
 "cells": [
  {
   "cell_type": "markdown",
   "metadata": {},
   "source": [
    "### Args and Kwargs"
   ]
  },
  {
   "cell_type": "code",
   "execution_count": 41,
   "metadata": {},
   "outputs": [
    {
     "data": {
      "text/plain": [
       "6"
      ]
     },
     "execution_count": 41,
     "metadata": {},
     "output_type": "execute_result"
    }
   ],
   "source": [
    "def f1(a,b,c):\n",
    "    return (a+b+c)\n",
    "f1(1,2,3)"
   ]
  },
  {
   "cell_type": "code",
   "execution_count": 42,
   "metadata": {},
   "outputs": [
    {
     "data": {
      "text/plain": [
       "6"
      ]
     },
     "execution_count": 42,
     "metadata": {},
     "output_type": "execute_result"
    }
   ],
   "source": [
    "### мы можем давать одной из переменных дефолтное значение\n",
    "def f1(a,b,c=3):\n",
    "    return (a+b+c)\n",
    "f1(1,2)\n",
    "f1(1,2,4)\n",
    "f1(1,2,3)"
   ]
  },
  {
   "cell_type": "code",
   "execution_count": 43,
   "metadata": {},
   "outputs": [
    {
     "data": {
      "text/plain": [
       "8"
      ]
     },
     "execution_count": 43,
     "metadata": {},
     "output_type": "execute_result"
    }
   ],
   "source": [
    "def f1(a=1,b=1,c=3):\n",
    "    return (a+b+c)\n",
    "f1(a=2,c=5)"
   ]
  },
  {
   "cell_type": "code",
   "execution_count": 10,
   "metadata": {},
   "outputs": [
    {
     "name": "stdout",
     "output_type": "stream",
     "text": [
      "1\n",
      "2\n",
      "3\n",
      "4\n",
      "5\n",
      "6\n"
     ]
    }
   ],
   "source": [
    "### звездочка раскрывает список позиционных аргументов \n",
    "### нужна в том случае, когда неизвестно сколько аргументов придет на вход\n",
    "def f1(*args):\n",
    "    for i in args:\n",
    "        print(i)\n",
    "f1(1,2,3,4,5,6)"
   ]
  },
  {
   "cell_type": "code",
   "execution_count": 45,
   "metadata": {},
   "outputs": [
    {
     "name": "stdout",
     "output_type": "stream",
     "text": [
      "Одиночный волк\n",
      "1\n",
      "2\n",
      "3\n",
      "4\n",
      "5\n",
      "6\n",
      "7\n",
      "8\n",
      "10\n",
      " john\n"
     ]
    }
   ],
   "source": [
    "### функция с одиночным аргументов и списком\n",
    "def f1(s1,*s2):\n",
    "    print('Одиночный ' + s1)\n",
    "    for i in s2:\n",
    "        print(i)\n",
    "f1('волк',1,2,3,4,5,6,7,8,10,' john')"
   ]
  },
  {
   "cell_type": "code",
   "execution_count": 46,
   "metadata": {},
   "outputs": [
    {
     "name": "stdout",
     "output_type": "stream",
     "text": [
      "Owner Name: Jonathan\n",
      "dog: Brock\n",
      "fish: ['Larry', 'Curly', 'Moe']\n",
      "turtle: Shelldon\n"
     ]
    }
   ],
   "source": [
    "### две звездочки отвечают за именованные аргументы.\n",
    "### то есть, в таком случае мы можем давать на вход не только значение аргументов, но и их имена\n",
    "def printPetNames(owner, **pets):\n",
    "   print(f\"Owner Name: {owner}\")\n",
    "   for pet,name in pets.items():\n",
    "      print(f\"{pet}: {name}\")\n",
    "printPetNames(\"Jonathan\", dog=\"Brock\", fish=[\"Larry\", \"Curly\", \"Moe\"], turtle=\"Shelldon\")"
   ]
  },
  {
   "cell_type": "code",
   "execution_count": 15,
   "metadata": {},
   "outputs": [
    {
     "name": "stdout",
     "output_type": "stream",
     "text": [
      "Сумма аргументов i и *j: 10\n",
      "Имя аргумента: john, значение: 5\n",
      "Имя аргумента: katya, значение: 1\n"
     ]
    }
   ],
   "source": [
    "### ВАЖНО, что * и ** идут всегда в такой последовательности в задании функции, то есть\n",
    "def funcsum(i, *j, **k):\n",
    "    s = i\n",
    "    for el in j:\n",
    "        s += el\n",
    "    print('Сумма аргументов i и *j: ' + str(s))\n",
    "    for name,value in k.items():\n",
    "        print('Имя аргумента: '+ str(name) + ', значение: ' + str(value))\n",
    "funcsum(1,2,3,4,john = 5,katya = 1)\n",
    "        "
   ]
  },
  {
   "cell_type": "markdown",
   "metadata": {},
   "source": [
    "### задание аргументов через * и ** можно увидеть во всех встроенных функциях Python. \n",
    "### Чтобы в этом убедиться, нужно к функции приписать в конце знак вопроса"
   ]
  },
  {
   "cell_type": "code",
   "execution_count": 47,
   "metadata": {},
   "outputs": [
    {
     "data": {
      "text/plain": [
       "\u001b[1;31mDocstring:\u001b[0m\n",
       "max(iterable, *[, default=obj, key=func]) -> value\n",
       "max(arg1, arg2, *args, *[, key=func]) -> value\n",
       "\n",
       "With a single iterable argument, return its biggest item. The\n",
       "default keyword-only argument specifies an object to return if\n",
       "the provided iterable is empty.\n",
       "With two or more arguments, return the largest argument.\n",
       "\u001b[1;31mType:\u001b[0m      builtin_function_or_method\n"
      ]
     },
     "metadata": {},
     "output_type": "display_data"
    }
   ],
   "source": [
    "import numpy as np\n",
    "max?"
   ]
  },
  {
   "cell_type": "code",
   "execution_count": 48,
   "metadata": {},
   "outputs": [
    {
     "data": {
      "text/plain": [
       "\u001b[1;31mSignature:\u001b[0m \u001b[0mprintPetNames\u001b[0m\u001b[1;33m(\u001b[0m\u001b[0mowner\u001b[0m\u001b[1;33m,\u001b[0m \u001b[1;33m**\u001b[0m\u001b[0mpets\u001b[0m\u001b[1;33m)\u001b[0m\u001b[1;33m\u001b[0m\u001b[1;33m\u001b[0m\u001b[0m\n",
       "\u001b[1;31mDocstring:\u001b[0m <no docstring>\n",
       "\u001b[1;31mFile:\u001b[0m      c:\\users\\prodell\\downloads\\<ipython-input-46-96ea817a613c>\n",
       "\u001b[1;31mType:\u001b[0m      function\n"
      ]
     },
     "metadata": {},
     "output_type": "display_data"
    }
   ],
   "source": [
    "printPetNames?"
   ]
  },
  {
   "cell_type": "code",
   "execution_count": 49,
   "metadata": {},
   "outputs": [],
   "source": [
    "solve?"
   ]
  },
  {
   "cell_type": "code",
   "execution_count": 50,
   "metadata": {},
   "outputs": [],
   "source": [
    "from matplotlib import pyplot as plt"
   ]
  },
  {
   "cell_type": "code",
   "execution_count": 51,
   "metadata": {},
   "outputs": [],
   "source": [
    "plt.figure?"
   ]
  },
  {
   "cell_type": "code",
   "execution_count": 52,
   "metadata": {},
   "outputs": [],
   "source": [
    "plt.plot?"
   ]
  },
  {
   "cell_type": "markdown",
   "metadata": {},
   "source": [
    "### Lambda-функции"
   ]
  },
  {
   "cell_type": "code",
   "execution_count": null,
   "metadata": {},
   "outputs": [],
   "source": [
    "import numpy as np\n",
    "x = np.arange(10)"
   ]
  },
  {
   "cell_type": "code",
   "execution_count": null,
   "metadata": {},
   "outputs": [],
   "source": [
    "print(x)"
   ]
  },
  {
   "cell_type": "code",
   "execution_count": 38,
   "metadata": {},
   "outputs": [],
   "source": [
    "y = map(lambda o: o**2, x)"
   ]
  },
  {
   "cell_type": "code",
   "execution_count": null,
   "metadata": {},
   "outputs": [],
   "source": [
    "print(list(y))"
   ]
  },
  {
   "cell_type": "markdown",
   "metadata": {},
   "source": [
    "### map"
   ]
  },
  {
   "cell_type": "code",
   "execution_count": null,
   "metadata": {},
   "outputs": [],
   "source": [
    "spisok = [1,2,3,4,5,6,7]\n",
    "u = map(complex,spisok)\n",
    "for i in u:\n",
    "    print(i)"
   ]
  },
  {
   "cell_type": "markdown",
   "metadata": {},
   "source": [
    "### Построение 3D графиков"
   ]
  },
  {
   "cell_type": "code",
   "execution_count": 2,
   "metadata": {},
   "outputs": [
    {
     "data": {
      "text/plain": [
       "Text(0.5, 0, 'Z')"
      ]
     },
     "execution_count": 2,
     "metadata": {},
     "output_type": "execute_result"
    },
    {
     "data": {
      "image/png": "[encoded data removed]",
      "text/plain": [
       "<Figure size 432x288 with 1 Axes>"
      ]
     },
     "metadata": {
      "needs_background": "light"
     },
     "output_type": "display_data"
    }
   ],
   "source": [
    "import numpy as np\n",
    "import matplotlib.pyplot as plt\n",
    "\n",
    "ax = plt.figure().add_subplot(projection='3d')\n",
    "\n",
    "# Plot a sin curve using the x and y axes.\n",
    "x = np.linspace(0, 1, 100)\n",
    "y = np.sin(x * 2 * np.pi) / 2 + 0.5\n",
    "ax.plot(x, y, zs=0, zdir='z', label='curve in (x, y)')\n",
    "ax.plot(x, x**3)\n",
    "# # Plot scatterplot data (20 2D points per colour) on the x and z axes.\n",
    "# colors = ('r', 'g', 'b', 'k')\n",
    "\n",
    "# # Fixing random state for reproducibility\n",
    "# np.random.seed(19680801)\n",
    "\n",
    "# x = np.random.sample(20 * len(colors))\n",
    "# y = np.random.sample(20 * len(colors))\n",
    "# c_list = []\n",
    "# for c in colors:\n",
    "#     c_list.extend([c] * 20)\n",
    "# # By using zdir='y', the y value of these points is fixed to the zs value 0\n",
    "# # and the (x, y) points are plotted on the x and z axes.\n",
    "# ax.scatter(x, y, zs=0, zdir='y', c=c_list, label='points in (x, z)')\n",
    "\n",
    "# # Make legend, set axes limits and labels\n",
    "# ax.legend()\n",
    "# ax.set_xlim(0, 1)\n",
    "# ax.set_ylim(0, 1)\n",
    "# ax.set_zlim(0, 1)\n",
    "ax.set_xlabel('X')\n",
    "ax.set_ylabel('Y')\n",
    "ax.set_zlabel('Z')\n",
    "\n",
    "# # Customize the view angle so it's easier to see that the scatter points lie\n",
    "# # on the plane y=0\n",
    "# ax.view_init(elev=20., azim=-35, roll=0)\n",
    "\n",
    "# plt.show()"
   ]
  },
  {
   "cell_type": "code",
   "execution_count": 7,
   "metadata": {},
   "outputs": [],
   "source": [
    "# 6*x**2+2*5^(1/2)*x*y+2*y**2 = 21"
   ]
  },
  {
   "cell_type": "markdown",
   "metadata": {},
   "source": [
    "### Построение 2D графика"
   ]
  },
  {
   "cell_type": "code",
   "execution_count": 5,
   "metadata": {},
   "outputs": [
    {
     "data": {
      "text/plain": [
       "Text(0, 0.5, 'Y')"
      ]
     },
     "execution_count": 5,
     "metadata": {},
     "output_type": "execute_result"
    },
    {
     "data": {
      "image/png": "[encoded data removed]",
      "text/plain": [
       "<Figure size 432x288 with 1 Axes>"
      ]
     },
     "metadata": {
      "needs_background": "light"
     },
     "output_type": "display_data"
    }
   ],
   "source": [
    "import numpy as np\n",
    "import matplotlib.pyplot as plt\n",
    "\n",
    "ax = plt.figure().add_subplot()\n",
    "x = np.linspace(0, 1, 100)\n",
    "y = np.sin(x * 2 * np.pi) / 2 + 0.5\n",
    "ax.plot(x, y, label='curve in (x, y)')\n",
    "ax.plot(x, x**3)\n",
    "ax.set_xlabel('X')\n",
    "ax.set_ylabel('Y')\n",
    "# ax.set_zlabel('Z')\n"
   ]
  },
  {
   "cell_type": "code",
   "execution_count": null,
   "metadata": {},
   "outputs": [],
   "source": []
  }
 ],
 "metadata": {
  "kernelspec": {
   "display_name": "Python 3",
   "language": "python",
   "name": "python3"
  },
  "language_info": {
   "codemirror_mode": {
    "name": "ipython",
    "version": 3
   },
   "file_extension": ".py",
   "mimetype": "text/x-python",
   "name": "python",
   "nbconvert_exporter": "python",
   "pygments_lexer": "ipython3",
   "version": "3.8.10"
  }
 },
 "nbformat": 4,
 "nbformat_minor": 4
}
