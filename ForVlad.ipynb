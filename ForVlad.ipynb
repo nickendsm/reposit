{
 "cells": [
  {
   "cell_type": "code",
   "execution_count": 33,
   "id": "3cc3082c-57a9-41ce-812c-feeaaa3f0ed6",
   "metadata": {},
   "outputs": [],
   "source": [
    "from sympy import *\n",
    "from matplotlib import pyplot as plt"
   ]
  },
  {
   "cell_type": "code",
   "execution_count": 34,
   "id": "5dc1965f-0b50-4909-97be-8668ab5e9f2c",
   "metadata": {},
   "outputs": [],
   "source": [
    "var('s omega_n B l C1 C2 C3 C4')\n",
    "K1 = 1/2*(cosh(s*B)+cos(s*B))\n",
    "K2 = 1/2*(sinh(s*B)+sin(s*B))\n",
    "K3 = 1/2*(cosh(s*B)-cos(s*B))\n",
    "K4 = 1/2*(sinh(s*B)-sin(s*B))"
   ]
  },
  {
   "cell_type": "code",
   "execution_count": 35,
   "id": "e72da092-44fe-4ca8-9e0f-0a73d904e70e",
   "metadata": {},
   "outputs": [],
   "source": [
    "B_s = C1*K1 + C2*K2 + C3*K3 + C4*K4"
   ]
  },
  {
   "cell_type": "markdown",
   "id": "e64837f1-7f99-486b-8f45-3bc790d87b0f",
   "metadata": {},
   "source": [
    "### Третье Г.У"
   ]
  },
  {
   "cell_type": "code",
   "execution_count": 36,
   "id": "915b5b77-8bb0-40bf-967b-6b4fa55a5ee9",
   "metadata": {},
   "outputs": [
    {
     "data": {
      "text/latex": [
       "$\\displaystyle C_{1} \\left(0.5 \\cos{\\left(B l \\right)} + 0.5 \\cosh{\\left(B l \\right)}\\right) + C_{2} \\left(0.5 \\sin{\\left(B l \\right)} + 0.5 \\sinh{\\left(B l \\right)}\\right)$"
      ],
      "text/plain": [
       "C1*(0.5*cos(B*l) + 0.5*cosh(B*l)) + C2*(0.5*sin(B*l) + 0.5*sinh(B*l))"
      ]
     },
     "execution_count": 36,
     "metadata": {},
     "output_type": "execute_result"
    }
   ],
   "source": [
    "eq1 = B_s.subs(s,l).subs(C3,0).subs(C4,0)\n",
    "eq1"
   ]
  },
  {
   "cell_type": "markdown",
   "id": "d928d8e4-784b-46b4-b1fa-f334cd5e156c",
   "metadata": {},
   "source": [
    "### Четвертое Г.У"
   ]
  },
  {
   "cell_type": "code",
   "execution_count": 37,
   "id": "5919c3a6-6c29-4c45-b01c-0380ec516ef6",
   "metadata": {},
   "outputs": [
    {
     "data": {
      "text/latex": [
       "$\\displaystyle C_{1} \\left(- 0.5 B \\sin{\\left(B l \\right)} + 0.5 B \\sinh{\\left(B l \\right)}\\right) + C_{2} \\left(0.5 B \\cos{\\left(B l \\right)} + 0.5 B \\cosh{\\left(B l \\right)}\\right)$"
      ],
      "text/plain": [
       "C1*(-0.5*B*sin(B*l) + 0.5*B*sinh(B*l)) + C2*(0.5*B*cos(B*l) + 0.5*B*cosh(B*l))"
      ]
     },
     "execution_count": 37,
     "metadata": {},
     "output_type": "execute_result"
    }
   ],
   "source": [
    "eq2 = diff(B_s,s).subs(s,l).subs(C3,0).subs(C4,0)\n",
    "eq2"
   ]
  },
  {
   "cell_type": "markdown",
   "id": "dc9c505d-a453-4d01-9173-afe1f01c847f",
   "metadata": {},
   "source": [
    "### Ищем определитель, он должен быть равен 0 для того чтобы существовало ненулевое решение"
   ]
  },
  {
   "cell_type": "code",
   "execution_count": 38,
   "id": "7bb29095-4d8b-4359-a8ab-200bb8fe493e",
   "metadata": {},
   "outputs": [],
   "source": [
    "detA = eq1.coeff(C1)*eq2.coeff(C2) - eq1.coeff(C2)*eq2.coeff(C1)"
   ]
  },
  {
   "cell_type": "code",
   "execution_count": 39,
   "id": "0c1f5ce7-bf63-4461-8ce9-59ef381af6a0",
   "metadata": {},
   "outputs": [
    {
     "data": {
      "text/latex": [
       "$\\displaystyle 0.5 B \\left(\\cos{\\left(B l \\right)} \\cosh{\\left(B l \\right)} + 1\\right)$"
      ],
      "text/plain": [
       "0.5*B*(cos(B*l)*cosh(B*l) + 1)"
      ]
     },
     "execution_count": 39,
     "metadata": {},
     "output_type": "execute_result"
    }
   ],
   "source": [
    "detA.simplify()"
   ]
  },
  {
   "cell_type": "markdown",
   "id": "14c94c51-af0e-4d4e-9944-d778eb908b5a",
   "metadata": {},
   "source": [
    "### Получилось то же самое условие, что и у меня!"
   ]
  },
  {
   "cell_type": "markdown",
   "id": "5d900888-335e-4d8a-b4bf-2325c1640248",
   "metadata": {},
   "source": [
    "### Теперь выстраиваем общий вид собственной функции, выражая одну константу через другую. Получится что одна константа останется неизвестной (все сократится)\n"
   ]
  },
  {
   "cell_type": "code",
   "execution_count": 40,
   "id": "b613bf45-949c-4912-9146-fc74e273788a",
   "metadata": {},
   "outputs": [],
   "source": [
    "C2_res = solve(eq1,C2)[0]"
   ]
  },
  {
   "cell_type": "code",
   "execution_count": 41,
   "id": "c799736e-4215-4647-9885-db69df23eea6",
   "metadata": {},
   "outputs": [],
   "source": [
    "B_s = B_s.subs(C2,C2_res).subs(C3,0).subs(C4,0)"
   ]
  },
  {
   "cell_type": "code",
   "execution_count": 42,
   "id": "d5f8a45c-ca71-4d72-9bd4-b64c49ea9abe",
   "metadata": {},
   "outputs": [],
   "source": [
    "B_s = B_s.subs(C1,2)"
   ]
  },
  {
   "cell_type": "code",
   "execution_count": 43,
   "id": "5e87fe7f-f2fd-4f1b-8d2f-ce000f3034d9",
   "metadata": {},
   "outputs": [
    {
     "data": {
      "text/latex": [
       "$\\displaystyle \\cos{\\left(B s \\right)} + \\cosh{\\left(B s \\right)} - \\frac{2 \\left(0.5 \\sin{\\left(B s \\right)} + 0.5 \\sinh{\\left(B s \\right)}\\right) \\left(\\cos{\\left(B l \\right)} + \\cosh{\\left(B l \\right)}\\right)}{\\sin{\\left(B l \\right)} + \\sinh{\\left(B l \\right)}}$"
      ],
      "text/plain": [
       "cos(B*s) + cosh(B*s) - 2*(0.5*sin(B*s) + 0.5*sinh(B*s))*(cos(B*l) + cosh(B*l))/(sin(B*l) + sinh(B*l))"
      ]
     },
     "execution_count": 43,
     "metadata": {},
     "output_type": "execute_result"
    }
   ],
   "source": [
    "B_s"
   ]
  },
  {
   "cell_type": "markdown",
   "id": "987bdde0-1377-4e3d-853a-8f7795fdcc4f",
   "metadata": {},
   "source": [
    "## Теперь находим норму B_n"
   ]
  },
  {
   "cell_type": "code",
   "execution_count": 51,
   "id": "9411ce6b-dc08-4b98-9967-c4262c09e526",
   "metadata": {},
   "outputs": [],
   "source": [
    "integr = integrate(B_s*B_s,s,conds='separate')"
   ]
  },
  {
   "cell_type": "code",
   "execution_count": 52,
   "id": "0896b65f-d74d-4626-ae0b-e003f9fbbf2e",
   "metadata": {},
   "outputs": [],
   "source": [
    "norma = integr.subs(s,l) - integr.subs(s,0)"
   ]
  },
  {
   "cell_type": "code",
   "execution_count": 53,
   "id": "3c2400c1-b6e2-4982-867d-63c345c1a6e7",
   "metadata": {},
   "outputs": [
    {
     "data": {
      "text/latex": [
       "$\\displaystyle \\frac{1.0 \\left(2.0 B l \\sin{\\left(B l \\right)} \\sinh{\\left(B l \\right)} - 0.5 B l \\cos{\\left(2 B l \\right)} + 0.5 B l \\cosh{\\left(2 B l \\right)} + 1.0 \\sin{\\left(B l \\right)} \\cosh{\\left(B l \\right)} + 0.25 \\sin{\\left(2 B l \\right)} \\cosh{\\left(2 B l \\right)} + 0.25 \\sin{\\left(2 B l \\right)} - 1.0 \\cos{\\left(B l \\right)} \\sinh{\\left(B l \\right)} - 0.25 \\cos{\\left(2 B l \\right)} \\sinh{\\left(2 B l \\right)} - 0.25 \\sinh{\\left(2 B l \\right)}\\right)}{B \\left(\\sin{\\left(B l \\right)} + \\sinh{\\left(B l \\right)}\\right)^{2}}$"
      ],
      "text/plain": [
       "1.0*(2.0*B*l*sin(B*l)*sinh(B*l) - 0.5*B*l*cos(2*B*l) + 0.5*B*l*cosh(2*B*l) + 1.0*sin(B*l)*cosh(B*l) + 0.25*sin(2*B*l)*cosh(2*B*l) + 0.25*sin(2*B*l) - 1.0*cos(B*l)*sinh(B*l) - 0.25*cos(2*B*l)*sinh(2*B*l) - 0.25*sinh(2*B*l))/(B*(sin(B*l) + sinh(B*l))**2)"
      ]
     },
     "execution_count": 53,
     "metadata": {},
     "output_type": "execute_result"
    }
   ],
   "source": [
    "norma.simplify()"
   ]
  },
  {
   "cell_type": "markdown",
   "id": "cd977f05-07c6-45b1-b4d8-7dddff52766b",
   "metadata": {},
   "source": [
    "### Теперь посчитаем f с волной - силу в преобразованном выражении"
   ]
  },
  {
   "cell_type": "code",
   "execution_count": 54,
   "id": "320a0af3-1177-455b-9a7f-de1624516796",
   "metadata": {},
   "outputs": [],
   "source": [
    "sila_integr = integrate(s*B_s,s,conds='separate')"
   ]
  },
  {
   "cell_type": "code",
   "execution_count": 56,
   "id": "2701a2cd-72e9-4db9-abc1-497a517048d5",
   "metadata": {},
   "outputs": [],
   "source": [
    "sila = sila_integr.subs(s,l) - sila_integr.subs(s,0)"
   ]
  },
  {
   "cell_type": "code",
   "execution_count": 58,
   "id": "a99a6be6-06bf-4f6b-892d-3c63e2bcc8d0",
   "metadata": {},
   "outputs": [
    {
     "data": {
      "text/latex": [
       "$\\displaystyle \\frac{2.0 \\left(B l \\sin{\\left(B l \\right)} \\sinh{\\left(B l \\right)} - \\sin{\\left(B l \\right)} \\cosh{\\left(B l \\right)} + \\cos{\\left(B l \\right)} \\sinh{\\left(B l \\right)}\\right)}{B^{2} \\left(\\sin{\\left(B l \\right)} + \\sinh{\\left(B l \\right)}\\right)}$"
      ],
      "text/plain": [
       "2.0*(B*l*sin(B*l)*sinh(B*l) - sin(B*l)*cosh(B*l) + cos(B*l)*sinh(B*l))/(B**2*(sin(B*l) + sinh(B*l)))"
      ]
     },
     "execution_count": 58,
     "metadata": {},
     "output_type": "execute_result"
    }
   ],
   "source": [
    "sila.simplify()"
   ]
  },
  {
   "cell_type": "code",
   "execution_count": null,
   "id": "e6651e63-dacc-4af1-9868-9807b464090a",
   "metadata": {},
   "outputs": [],
   "source": []
  }
 ],
 "metadata": {
  "kernelspec": {
   "display_name": "Python 3",
   "language": "python",
   "name": "python3"
  },
  "language_info": {
   "codemirror_mode": {
    "name": "ipython",
    "version": 3
   },
   "file_extension": ".py",
   "mimetype": "text/x-python",
   "name": "python",
   "nbconvert_exporter": "python",
   "pygments_lexer": "ipython3",
   "version": "3.8.10"
  }
 },
 "nbformat": 4,
 "nbformat_minor": 5
}
